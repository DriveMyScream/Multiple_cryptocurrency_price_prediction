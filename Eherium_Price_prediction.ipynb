{
  "nbformat": 4,
  "nbformat_minor": 0,
  "metadata": {
    "colab": {
      "provenance": []
    },
    "kernelspec": {
      "name": "python3",
      "display_name": "Python 3"
    },
    "language_info": {
      "name": "python"
    }
  },
  "cells": [
    {
      "cell_type": "markdown",
      "source": [
        "# Imports"
      ],
      "metadata": {
        "id": "9nxMubEyjk_-"
      }
    },
    {
      "cell_type": "code",
      "execution_count": 12,
      "metadata": {
        "id": "RKhvtAXGqQaU"
      },
      "outputs": [],
      "source": [
        "import numpy as np\n",
        "import pandas as pd\n",
        "import matplotlib.pyplot as plt\n",
        "import seaborn as sns\n",
        "import tensorflow as tf"
      ]
    },
    {
      "cell_type": "code",
      "source": [
        "! wget https://raw.githubusercontent.com/DriveMyScream/Datasets/main/ETHUSD.csv\n",
        "! wget https://raw.githubusercontent.com/DriveMyScream/Datasets/main/Ethereum%20Historical%20Data.csv"
      ],
      "metadata": {
        "colab": {
          "base_uri": "https://localhost:8080/"
        },
        "id": "gRchH-W6qwuU",
        "outputId": "366cdb64-764c-4050-8a2e-be39c08f24d1"
      },
      "execution_count": 13,
      "outputs": [
        {
          "output_type": "stream",
          "name": "stdout",
          "text": [
            "--2023-05-09 18:17:36--  https://raw.githubusercontent.com/DriveMyScream/Datasets/main/ETHUSD.csv\n",
            "Resolving raw.githubusercontent.com (raw.githubusercontent.com)... 185.199.108.133, 185.199.109.133, 185.199.110.133, ...\n",
            "Connecting to raw.githubusercontent.com (raw.githubusercontent.com)|185.199.108.133|:443... connected.\n",
            "HTTP request sent, awaiting response... 200 OK\n",
            "Length: 169925 (166K) [text/plain]\n",
            "Saving to: ‘ETHUSD.csv’\n",
            "\n",
            "\rETHUSD.csv            0%[                    ]       0  --.-KB/s               \rETHUSD.csv          100%[===================>] 165.94K  --.-KB/s    in 0.02s   \n",
            "\n",
            "2023-05-09 18:17:36 (9.17 MB/s) - ‘ETHUSD.csv’ saved [169925/169925]\n",
            "\n",
            "--2023-05-09 18:17:36--  https://raw.githubusercontent.com/DriveMyScream/Datasets/main/Ethereum%20Historical%20Data.csv\n",
            "Resolving raw.githubusercontent.com (raw.githubusercontent.com)... 185.199.108.133, 185.199.109.133, 185.199.110.133, ...\n",
            "Connecting to raw.githubusercontent.com (raw.githubusercontent.com)|185.199.108.133|:443... connected.\n",
            "HTTP request sent, awaiting response... 200 OK\n",
            "Length: 186941 (183K) [text/plain]\n",
            "Saving to: ‘Ethereum Historical Data.csv’\n",
            "\n",
            "Ethereum Historical 100%[===================>] 182.56K  --.-KB/s    in 0.02s   \n",
            "\n",
            "2023-05-09 18:17:36 (11.6 MB/s) - ‘Ethereum Historical Data.csv’ saved [186941/186941]\n",
            "\n"
          ]
        }
      ]
    },
    {
      "cell_type": "markdown",
      "source": [
        "# data Loading"
      ],
      "metadata": {
        "id": "ik0QY4cljp9X"
      }
    },
    {
      "cell_type": "code",
      "source": [
        "data_path = \"/content/ETHUSD.csv\"\n",
        "df_1 = pd.read_csv(data_path, parse_dates=['Date'])\n",
        "df_1.head(5)"
      ],
      "metadata": {
        "colab": {
          "base_uri": "https://localhost:8080/",
          "height": 206
        },
        "id": "fgiZJaKiru3f",
        "outputId": "cbd19d21-2837-44e2-af68-4221b2f56b5d"
      },
      "execution_count": 14,
      "outputs": [
        {
          "output_type": "execute_result",
          "data": {
            "text/plain": [
              "        Date      Open      High       Low     Close  Adj Close     Volume\n",
              "0 2015-08-07  2.831620  3.536610  2.521120  2.772120   2.772120   164329.0\n",
              "1 2015-08-08  2.793760  2.798810  0.714725  0.753325   0.753325   674188.0\n",
              "2 2015-08-09  0.706136  0.879810  0.629191  0.701897   0.701897   532170.0\n",
              "3 2015-08-10  0.713989  0.729854  0.636546  0.708448   0.708448   405283.0\n",
              "4 2015-08-11  0.708087  1.131410  0.663235  1.067860   1.067860  1463100.0"
            ],
            "text/html": [
              "\n",
              "  <div id=\"df-15ebce93-cd0d-48f8-adff-57c0cdb69532\">\n",
              "    <div class=\"colab-df-container\">\n",
              "      <div>\n",
              "<style scoped>\n",
              "    .dataframe tbody tr th:only-of-type {\n",
              "        vertical-align: middle;\n",
              "    }\n",
              "\n",
              "    .dataframe tbody tr th {\n",
              "        vertical-align: top;\n",
              "    }\n",
              "\n",
              "    .dataframe thead th {\n",
              "        text-align: right;\n",
              "    }\n",
              "</style>\n",
              "<table border=\"1\" class=\"dataframe\">\n",
              "  <thead>\n",
              "    <tr style=\"text-align: right;\">\n",
              "      <th></th>\n",
              "      <th>Date</th>\n",
              "      <th>Open</th>\n",
              "      <th>High</th>\n",
              "      <th>Low</th>\n",
              "      <th>Close</th>\n",
              "      <th>Adj Close</th>\n",
              "      <th>Volume</th>\n",
              "    </tr>\n",
              "  </thead>\n",
              "  <tbody>\n",
              "    <tr>\n",
              "      <th>0</th>\n",
              "      <td>2015-08-07</td>\n",
              "      <td>2.831620</td>\n",
              "      <td>3.536610</td>\n",
              "      <td>2.521120</td>\n",
              "      <td>2.772120</td>\n",
              "      <td>2.772120</td>\n",
              "      <td>164329.0</td>\n",
              "    </tr>\n",
              "    <tr>\n",
              "      <th>1</th>\n",
              "      <td>2015-08-08</td>\n",
              "      <td>2.793760</td>\n",
              "      <td>2.798810</td>\n",
              "      <td>0.714725</td>\n",
              "      <td>0.753325</td>\n",
              "      <td>0.753325</td>\n",
              "      <td>674188.0</td>\n",
              "    </tr>\n",
              "    <tr>\n",
              "      <th>2</th>\n",
              "      <td>2015-08-09</td>\n",
              "      <td>0.706136</td>\n",
              "      <td>0.879810</td>\n",
              "      <td>0.629191</td>\n",
              "      <td>0.701897</td>\n",
              "      <td>0.701897</td>\n",
              "      <td>532170.0</td>\n",
              "    </tr>\n",
              "    <tr>\n",
              "      <th>3</th>\n",
              "      <td>2015-08-10</td>\n",
              "      <td>0.713989</td>\n",
              "      <td>0.729854</td>\n",
              "      <td>0.636546</td>\n",
              "      <td>0.708448</td>\n",
              "      <td>0.708448</td>\n",
              "      <td>405283.0</td>\n",
              "    </tr>\n",
              "    <tr>\n",
              "      <th>4</th>\n",
              "      <td>2015-08-11</td>\n",
              "      <td>0.708087</td>\n",
              "      <td>1.131410</td>\n",
              "      <td>0.663235</td>\n",
              "      <td>1.067860</td>\n",
              "      <td>1.067860</td>\n",
              "      <td>1463100.0</td>\n",
              "    </tr>\n",
              "  </tbody>\n",
              "</table>\n",
              "</div>\n",
              "      <button class=\"colab-df-convert\" onclick=\"convertToInteractive('df-15ebce93-cd0d-48f8-adff-57c0cdb69532')\"\n",
              "              title=\"Convert this dataframe to an interactive table.\"\n",
              "              style=\"display:none;\">\n",
              "        \n",
              "  <svg xmlns=\"http://www.w3.org/2000/svg\" height=\"24px\"viewBox=\"0 0 24 24\"\n",
              "       width=\"24px\">\n",
              "    <path d=\"M0 0h24v24H0V0z\" fill=\"none\"/>\n",
              "    <path d=\"M18.56 5.44l.94 2.06.94-2.06 2.06-.94-2.06-.94-.94-2.06-.94 2.06-2.06.94zm-11 1L8.5 8.5l.94-2.06 2.06-.94-2.06-.94L8.5 2.5l-.94 2.06-2.06.94zm10 10l.94 2.06.94-2.06 2.06-.94-2.06-.94-.94-2.06-.94 2.06-2.06.94z\"/><path d=\"M17.41 7.96l-1.37-1.37c-.4-.4-.92-.59-1.43-.59-.52 0-1.04.2-1.43.59L10.3 9.45l-7.72 7.72c-.78.78-.78 2.05 0 2.83L4 21.41c.39.39.9.59 1.41.59.51 0 1.02-.2 1.41-.59l7.78-7.78 2.81-2.81c.8-.78.8-2.07 0-2.86zM5.41 20L4 18.59l7.72-7.72 1.47 1.35L5.41 20z\"/>\n",
              "  </svg>\n",
              "      </button>\n",
              "      \n",
              "  <style>\n",
              "    .colab-df-container {\n",
              "      display:flex;\n",
              "      flex-wrap:wrap;\n",
              "      gap: 12px;\n",
              "    }\n",
              "\n",
              "    .colab-df-convert {\n",
              "      background-color: #E8F0FE;\n",
              "      border: none;\n",
              "      border-radius: 50%;\n",
              "      cursor: pointer;\n",
              "      display: none;\n",
              "      fill: #1967D2;\n",
              "      height: 32px;\n",
              "      padding: 0 0 0 0;\n",
              "      width: 32px;\n",
              "    }\n",
              "\n",
              "    .colab-df-convert:hover {\n",
              "      background-color: #E2EBFA;\n",
              "      box-shadow: 0px 1px 2px rgba(60, 64, 67, 0.3), 0px 1px 3px 1px rgba(60, 64, 67, 0.15);\n",
              "      fill: #174EA6;\n",
              "    }\n",
              "\n",
              "    [theme=dark] .colab-df-convert {\n",
              "      background-color: #3B4455;\n",
              "      fill: #D2E3FC;\n",
              "    }\n",
              "\n",
              "    [theme=dark] .colab-df-convert:hover {\n",
              "      background-color: #434B5C;\n",
              "      box-shadow: 0px 1px 3px 1px rgba(0, 0, 0, 0.15);\n",
              "      filter: drop-shadow(0px 1px 2px rgba(0, 0, 0, 0.3));\n",
              "      fill: #FFFFFF;\n",
              "    }\n",
              "  </style>\n",
              "\n",
              "      <script>\n",
              "        const buttonEl =\n",
              "          document.querySelector('#df-15ebce93-cd0d-48f8-adff-57c0cdb69532 button.colab-df-convert');\n",
              "        buttonEl.style.display =\n",
              "          google.colab.kernel.accessAllowed ? 'block' : 'none';\n",
              "\n",
              "        async function convertToInteractive(key) {\n",
              "          const element = document.querySelector('#df-15ebce93-cd0d-48f8-adff-57c0cdb69532');\n",
              "          const dataTable =\n",
              "            await google.colab.kernel.invokeFunction('convertToInteractive',\n",
              "                                                     [key], {});\n",
              "          if (!dataTable) return;\n",
              "\n",
              "          const docLinkHtml = 'Like what you see? Visit the ' +\n",
              "            '<a target=\"_blank\" href=https://colab.research.google.com/notebooks/data_table.ipynb>data table notebook</a>'\n",
              "            + ' to learn more about interactive tables.';\n",
              "          element.innerHTML = '';\n",
              "          dataTable['output_type'] = 'display_data';\n",
              "          await google.colab.output.renderOutput(dataTable, element);\n",
              "          const docLink = document.createElement('div');\n",
              "          docLink.innerHTML = docLinkHtml;\n",
              "          element.appendChild(docLink);\n",
              "        }\n",
              "      </script>\n",
              "    </div>\n",
              "  </div>\n",
              "  "
            ]
          },
          "metadata": {},
          "execution_count": 14
        }
      ]
    },
    {
      "cell_type": "code",
      "source": [
        "data_path = \"/content/Ethereum Historical Data.csv\"\n",
        "df_2 = pd.read_csv(data_path, parse_dates=['Date'])\n",
        "df_2 = df_2[::-1]\n",
        "df_2.head(5)"
      ],
      "metadata": {
        "colab": {
          "base_uri": "https://localhost:8080/",
          "height": 206
        },
        "id": "o6KRpHnExlb5",
        "outputId": "93272bd3-002c-4571-87a0-d0fa7c533649"
      },
      "execution_count": 15,
      "outputs": [
        {
          "output_type": "execute_result",
          "data": {
            "text/plain": [
              "           Date  Price   Open   High    Low    Vol. Change %\n",
              "2616 2016-03-10  11.75  11.20  11.85  11.07   0.00K    4.91%\n",
              "2615 2016-03-11  11.95  11.75  11.95  11.75   0.18K    1.70%\n",
              "2614 2016-03-12  12.92  11.95  13.45  11.95   0.83K    8.12%\n",
              "2613 2016-03-13  15.07  12.92  15.07  12.92   1.30K   16.64%\n",
              "2612 2016-03-14  12.50  15.07  15.07  11.40  92.18K  -17.05%"
            ],
            "text/html": [
              "\n",
              "  <div id=\"df-b917d242-f937-4afc-9934-93335472a10c\">\n",
              "    <div class=\"colab-df-container\">\n",
              "      <div>\n",
              "<style scoped>\n",
              "    .dataframe tbody tr th:only-of-type {\n",
              "        vertical-align: middle;\n",
              "    }\n",
              "\n",
              "    .dataframe tbody tr th {\n",
              "        vertical-align: top;\n",
              "    }\n",
              "\n",
              "    .dataframe thead th {\n",
              "        text-align: right;\n",
              "    }\n",
              "</style>\n",
              "<table border=\"1\" class=\"dataframe\">\n",
              "  <thead>\n",
              "    <tr style=\"text-align: right;\">\n",
              "      <th></th>\n",
              "      <th>Date</th>\n",
              "      <th>Price</th>\n",
              "      <th>Open</th>\n",
              "      <th>High</th>\n",
              "      <th>Low</th>\n",
              "      <th>Vol.</th>\n",
              "      <th>Change %</th>\n",
              "    </tr>\n",
              "  </thead>\n",
              "  <tbody>\n",
              "    <tr>\n",
              "      <th>2616</th>\n",
              "      <td>2016-03-10</td>\n",
              "      <td>11.75</td>\n",
              "      <td>11.20</td>\n",
              "      <td>11.85</td>\n",
              "      <td>11.07</td>\n",
              "      <td>0.00K</td>\n",
              "      <td>4.91%</td>\n",
              "    </tr>\n",
              "    <tr>\n",
              "      <th>2615</th>\n",
              "      <td>2016-03-11</td>\n",
              "      <td>11.95</td>\n",
              "      <td>11.75</td>\n",
              "      <td>11.95</td>\n",
              "      <td>11.75</td>\n",
              "      <td>0.18K</td>\n",
              "      <td>1.70%</td>\n",
              "    </tr>\n",
              "    <tr>\n",
              "      <th>2614</th>\n",
              "      <td>2016-03-12</td>\n",
              "      <td>12.92</td>\n",
              "      <td>11.95</td>\n",
              "      <td>13.45</td>\n",
              "      <td>11.95</td>\n",
              "      <td>0.83K</td>\n",
              "      <td>8.12%</td>\n",
              "    </tr>\n",
              "    <tr>\n",
              "      <th>2613</th>\n",
              "      <td>2016-03-13</td>\n",
              "      <td>15.07</td>\n",
              "      <td>12.92</td>\n",
              "      <td>15.07</td>\n",
              "      <td>12.92</td>\n",
              "      <td>1.30K</td>\n",
              "      <td>16.64%</td>\n",
              "    </tr>\n",
              "    <tr>\n",
              "      <th>2612</th>\n",
              "      <td>2016-03-14</td>\n",
              "      <td>12.50</td>\n",
              "      <td>15.07</td>\n",
              "      <td>15.07</td>\n",
              "      <td>11.40</td>\n",
              "      <td>92.18K</td>\n",
              "      <td>-17.05%</td>\n",
              "    </tr>\n",
              "  </tbody>\n",
              "</table>\n",
              "</div>\n",
              "      <button class=\"colab-df-convert\" onclick=\"convertToInteractive('df-b917d242-f937-4afc-9934-93335472a10c')\"\n",
              "              title=\"Convert this dataframe to an interactive table.\"\n",
              "              style=\"display:none;\">\n",
              "        \n",
              "  <svg xmlns=\"http://www.w3.org/2000/svg\" height=\"24px\"viewBox=\"0 0 24 24\"\n",
              "       width=\"24px\">\n",
              "    <path d=\"M0 0h24v24H0V0z\" fill=\"none\"/>\n",
              "    <path d=\"M18.56 5.44l.94 2.06.94-2.06 2.06-.94-2.06-.94-.94-2.06-.94 2.06-2.06.94zm-11 1L8.5 8.5l.94-2.06 2.06-.94-2.06-.94L8.5 2.5l-.94 2.06-2.06.94zm10 10l.94 2.06.94-2.06 2.06-.94-2.06-.94-.94-2.06-.94 2.06-2.06.94z\"/><path d=\"M17.41 7.96l-1.37-1.37c-.4-.4-.92-.59-1.43-.59-.52 0-1.04.2-1.43.59L10.3 9.45l-7.72 7.72c-.78.78-.78 2.05 0 2.83L4 21.41c.39.39.9.59 1.41.59.51 0 1.02-.2 1.41-.59l7.78-7.78 2.81-2.81c.8-.78.8-2.07 0-2.86zM5.41 20L4 18.59l7.72-7.72 1.47 1.35L5.41 20z\"/>\n",
              "  </svg>\n",
              "      </button>\n",
              "      \n",
              "  <style>\n",
              "    .colab-df-container {\n",
              "      display:flex;\n",
              "      flex-wrap:wrap;\n",
              "      gap: 12px;\n",
              "    }\n",
              "\n",
              "    .colab-df-convert {\n",
              "      background-color: #E8F0FE;\n",
              "      border: none;\n",
              "      border-radius: 50%;\n",
              "      cursor: pointer;\n",
              "      display: none;\n",
              "      fill: #1967D2;\n",
              "      height: 32px;\n",
              "      padding: 0 0 0 0;\n",
              "      width: 32px;\n",
              "    }\n",
              "\n",
              "    .colab-df-convert:hover {\n",
              "      background-color: #E2EBFA;\n",
              "      box-shadow: 0px 1px 2px rgba(60, 64, 67, 0.3), 0px 1px 3px 1px rgba(60, 64, 67, 0.15);\n",
              "      fill: #174EA6;\n",
              "    }\n",
              "\n",
              "    [theme=dark] .colab-df-convert {\n",
              "      background-color: #3B4455;\n",
              "      fill: #D2E3FC;\n",
              "    }\n",
              "\n",
              "    [theme=dark] .colab-df-convert:hover {\n",
              "      background-color: #434B5C;\n",
              "      box-shadow: 0px 1px 3px 1px rgba(0, 0, 0, 0.15);\n",
              "      filter: drop-shadow(0px 1px 2px rgba(0, 0, 0, 0.3));\n",
              "      fill: #FFFFFF;\n",
              "    }\n",
              "  </style>\n",
              "\n",
              "      <script>\n",
              "        const buttonEl =\n",
              "          document.querySelector('#df-b917d242-f937-4afc-9934-93335472a10c button.colab-df-convert');\n",
              "        buttonEl.style.display =\n",
              "          google.colab.kernel.accessAllowed ? 'block' : 'none';\n",
              "\n",
              "        async function convertToInteractive(key) {\n",
              "          const element = document.querySelector('#df-b917d242-f937-4afc-9934-93335472a10c');\n",
              "          const dataTable =\n",
              "            await google.colab.kernel.invokeFunction('convertToInteractive',\n",
              "                                                     [key], {});\n",
              "          if (!dataTable) return;\n",
              "\n",
              "          const docLinkHtml = 'Like what you see? Visit the ' +\n",
              "            '<a target=\"_blank\" href=https://colab.research.google.com/notebooks/data_table.ipynb>data table notebook</a>'\n",
              "            + ' to learn more about interactive tables.';\n",
              "          element.innerHTML = '';\n",
              "          dataTable['output_type'] = 'display_data';\n",
              "          await google.colab.output.renderOutput(dataTable, element);\n",
              "          const docLink = document.createElement('div');\n",
              "          docLink.innerHTML = docLinkHtml;\n",
              "          element.appendChild(docLink);\n",
              "        }\n",
              "      </script>\n",
              "    </div>\n",
              "  </div>\n",
              "  "
            ]
          },
          "metadata": {},
          "execution_count": 15
        }
      ]
    },
    {
      "cell_type": "code",
      "source": [
        "df_1.tail(5)"
      ],
      "metadata": {
        "colab": {
          "base_uri": "https://localhost:8080/",
          "height": 206
        },
        "id": "xJ9aJ8dDyxSf",
        "outputId": "6c76f46f-97c0-48d6-853c-485a91dda48b"
      },
      "execution_count": 16,
      "outputs": [
        {
          "output_type": "execute_result",
          "data": {
            "text/plain": [
              "           Date         Open         High          Low        Close  \\\n",
              "2262 2021-10-16  3865.666504  3962.453125  3805.885986  3830.382080   \n",
              "2263 2021-10-17  3829.858887  3914.897949  3660.723389  3847.104492   \n",
              "2264 2021-10-18  3847.729980  3888.209229  3686.750488  3748.760254   \n",
              "2265 2021-10-19          NaN          NaN          NaN          NaN   \n",
              "2266 2021-10-20  3888.102539  3888.102539  3850.334961  3850.949463   \n",
              "\n",
              "        Adj Close        Volume  \n",
              "2262  3830.382080  1.657810e+10  \n",
              "2263  3847.104492  1.590809e+10  \n",
              "2264  3748.760254  1.738620e+10  \n",
              "2265          NaN           NaN  \n",
              "2266  3850.949463  1.593934e+10  "
            ],
            "text/html": [
              "\n",
              "  <div id=\"df-1b9d90eb-6236-471f-935a-f3c2af6a2ea4\">\n",
              "    <div class=\"colab-df-container\">\n",
              "      <div>\n",
              "<style scoped>\n",
              "    .dataframe tbody tr th:only-of-type {\n",
              "        vertical-align: middle;\n",
              "    }\n",
              "\n",
              "    .dataframe tbody tr th {\n",
              "        vertical-align: top;\n",
              "    }\n",
              "\n",
              "    .dataframe thead th {\n",
              "        text-align: right;\n",
              "    }\n",
              "</style>\n",
              "<table border=\"1\" class=\"dataframe\">\n",
              "  <thead>\n",
              "    <tr style=\"text-align: right;\">\n",
              "      <th></th>\n",
              "      <th>Date</th>\n",
              "      <th>Open</th>\n",
              "      <th>High</th>\n",
              "      <th>Low</th>\n",
              "      <th>Close</th>\n",
              "      <th>Adj Close</th>\n",
              "      <th>Volume</th>\n",
              "    </tr>\n",
              "  </thead>\n",
              "  <tbody>\n",
              "    <tr>\n",
              "      <th>2262</th>\n",
              "      <td>2021-10-16</td>\n",
              "      <td>3865.666504</td>\n",
              "      <td>3962.453125</td>\n",
              "      <td>3805.885986</td>\n",
              "      <td>3830.382080</td>\n",
              "      <td>3830.382080</td>\n",
              "      <td>1.657810e+10</td>\n",
              "    </tr>\n",
              "    <tr>\n",
              "      <th>2263</th>\n",
              "      <td>2021-10-17</td>\n",
              "      <td>3829.858887</td>\n",
              "      <td>3914.897949</td>\n",
              "      <td>3660.723389</td>\n",
              "      <td>3847.104492</td>\n",
              "      <td>3847.104492</td>\n",
              "      <td>1.590809e+10</td>\n",
              "    </tr>\n",
              "    <tr>\n",
              "      <th>2264</th>\n",
              "      <td>2021-10-18</td>\n",
              "      <td>3847.729980</td>\n",
              "      <td>3888.209229</td>\n",
              "      <td>3686.750488</td>\n",
              "      <td>3748.760254</td>\n",
              "      <td>3748.760254</td>\n",
              "      <td>1.738620e+10</td>\n",
              "    </tr>\n",
              "    <tr>\n",
              "      <th>2265</th>\n",
              "      <td>2021-10-19</td>\n",
              "      <td>NaN</td>\n",
              "      <td>NaN</td>\n",
              "      <td>NaN</td>\n",
              "      <td>NaN</td>\n",
              "      <td>NaN</td>\n",
              "      <td>NaN</td>\n",
              "    </tr>\n",
              "    <tr>\n",
              "      <th>2266</th>\n",
              "      <td>2021-10-20</td>\n",
              "      <td>3888.102539</td>\n",
              "      <td>3888.102539</td>\n",
              "      <td>3850.334961</td>\n",
              "      <td>3850.949463</td>\n",
              "      <td>3850.949463</td>\n",
              "      <td>1.593934e+10</td>\n",
              "    </tr>\n",
              "  </tbody>\n",
              "</table>\n",
              "</div>\n",
              "      <button class=\"colab-df-convert\" onclick=\"convertToInteractive('df-1b9d90eb-6236-471f-935a-f3c2af6a2ea4')\"\n",
              "              title=\"Convert this dataframe to an interactive table.\"\n",
              "              style=\"display:none;\">\n",
              "        \n",
              "  <svg xmlns=\"http://www.w3.org/2000/svg\" height=\"24px\"viewBox=\"0 0 24 24\"\n",
              "       width=\"24px\">\n",
              "    <path d=\"M0 0h24v24H0V0z\" fill=\"none\"/>\n",
              "    <path d=\"M18.56 5.44l.94 2.06.94-2.06 2.06-.94-2.06-.94-.94-2.06-.94 2.06-2.06.94zm-11 1L8.5 8.5l.94-2.06 2.06-.94-2.06-.94L8.5 2.5l-.94 2.06-2.06.94zm10 10l.94 2.06.94-2.06 2.06-.94-2.06-.94-.94-2.06-.94 2.06-2.06.94z\"/><path d=\"M17.41 7.96l-1.37-1.37c-.4-.4-.92-.59-1.43-.59-.52 0-1.04.2-1.43.59L10.3 9.45l-7.72 7.72c-.78.78-.78 2.05 0 2.83L4 21.41c.39.39.9.59 1.41.59.51 0 1.02-.2 1.41-.59l7.78-7.78 2.81-2.81c.8-.78.8-2.07 0-2.86zM5.41 20L4 18.59l7.72-7.72 1.47 1.35L5.41 20z\"/>\n",
              "  </svg>\n",
              "      </button>\n",
              "      \n",
              "  <style>\n",
              "    .colab-df-container {\n",
              "      display:flex;\n",
              "      flex-wrap:wrap;\n",
              "      gap: 12px;\n",
              "    }\n",
              "\n",
              "    .colab-df-convert {\n",
              "      background-color: #E8F0FE;\n",
              "      border: none;\n",
              "      border-radius: 50%;\n",
              "      cursor: pointer;\n",
              "      display: none;\n",
              "      fill: #1967D2;\n",
              "      height: 32px;\n",
              "      padding: 0 0 0 0;\n",
              "      width: 32px;\n",
              "    }\n",
              "\n",
              "    .colab-df-convert:hover {\n",
              "      background-color: #E2EBFA;\n",
              "      box-shadow: 0px 1px 2px rgba(60, 64, 67, 0.3), 0px 1px 3px 1px rgba(60, 64, 67, 0.15);\n",
              "      fill: #174EA6;\n",
              "    }\n",
              "\n",
              "    [theme=dark] .colab-df-convert {\n",
              "      background-color: #3B4455;\n",
              "      fill: #D2E3FC;\n",
              "    }\n",
              "\n",
              "    [theme=dark] .colab-df-convert:hover {\n",
              "      background-color: #434B5C;\n",
              "      box-shadow: 0px 1px 3px 1px rgba(0, 0, 0, 0.15);\n",
              "      filter: drop-shadow(0px 1px 2px rgba(0, 0, 0, 0.3));\n",
              "      fill: #FFFFFF;\n",
              "    }\n",
              "  </style>\n",
              "\n",
              "      <script>\n",
              "        const buttonEl =\n",
              "          document.querySelector('#df-1b9d90eb-6236-471f-935a-f3c2af6a2ea4 button.colab-df-convert');\n",
              "        buttonEl.style.display =\n",
              "          google.colab.kernel.accessAllowed ? 'block' : 'none';\n",
              "\n",
              "        async function convertToInteractive(key) {\n",
              "          const element = document.querySelector('#df-1b9d90eb-6236-471f-935a-f3c2af6a2ea4');\n",
              "          const dataTable =\n",
              "            await google.colab.kernel.invokeFunction('convertToInteractive',\n",
              "                                                     [key], {});\n",
              "          if (!dataTable) return;\n",
              "\n",
              "          const docLinkHtml = 'Like what you see? Visit the ' +\n",
              "            '<a target=\"_blank\" href=https://colab.research.google.com/notebooks/data_table.ipynb>data table notebook</a>'\n",
              "            + ' to learn more about interactive tables.';\n",
              "          element.innerHTML = '';\n",
              "          dataTable['output_type'] = 'display_data';\n",
              "          await google.colab.output.renderOutput(dataTable, element);\n",
              "          const docLink = document.createElement('div');\n",
              "          docLink.innerHTML = docLinkHtml;\n",
              "          element.appendChild(docLink);\n",
              "        }\n",
              "      </script>\n",
              "    </div>\n",
              "  </div>\n",
              "  "
            ]
          },
          "metadata": {},
          "execution_count": 16
        }
      ]
    },
    {
      "cell_type": "code",
      "source": [
        "df_2.tail(5)"
      ],
      "metadata": {
        "colab": {
          "base_uri": "https://localhost:8080/",
          "height": 206
        },
        "id": "m6uvpmdL0l7I",
        "outputId": "a657bf32-43b6-490f-e000-c70fbf859e46"
      },
      "execution_count": 17,
      "outputs": [
        {
          "output_type": "execute_result",
          "data": {
            "text/plain": [
              "        Date     Price      Open      High       Low     Vol. Change %\n",
              "4 2023-05-05  1,993.33  1,877.06  1,996.64  1,875.66  589.05K    6.19%\n",
              "3 2023-05-06  1,896.48  1,993.33  2,013.10  1,868.09  658.63K   -4.86%\n",
              "2 2023-05-07  1,870.99  1,896.48  1,931.39  1,870.94  441.65K   -1.34%\n",
              "1 2023-05-08  1,847.48  1,871.03  1,883.54  1,813.63  667.82K   -1.26%\n",
              "0 2023-05-09  1,845.00  1,847.48  1,854.58  1,832.05  450.86K   -0.13%"
            ],
            "text/html": [
              "\n",
              "  <div id=\"df-7712fb0d-b6e0-4fbd-8fd5-a23bca7f42da\">\n",
              "    <div class=\"colab-df-container\">\n",
              "      <div>\n",
              "<style scoped>\n",
              "    .dataframe tbody tr th:only-of-type {\n",
              "        vertical-align: middle;\n",
              "    }\n",
              "\n",
              "    .dataframe tbody tr th {\n",
              "        vertical-align: top;\n",
              "    }\n",
              "\n",
              "    .dataframe thead th {\n",
              "        text-align: right;\n",
              "    }\n",
              "</style>\n",
              "<table border=\"1\" class=\"dataframe\">\n",
              "  <thead>\n",
              "    <tr style=\"text-align: right;\">\n",
              "      <th></th>\n",
              "      <th>Date</th>\n",
              "      <th>Price</th>\n",
              "      <th>Open</th>\n",
              "      <th>High</th>\n",
              "      <th>Low</th>\n",
              "      <th>Vol.</th>\n",
              "      <th>Change %</th>\n",
              "    </tr>\n",
              "  </thead>\n",
              "  <tbody>\n",
              "    <tr>\n",
              "      <th>4</th>\n",
              "      <td>2023-05-05</td>\n",
              "      <td>1,993.33</td>\n",
              "      <td>1,877.06</td>\n",
              "      <td>1,996.64</td>\n",
              "      <td>1,875.66</td>\n",
              "      <td>589.05K</td>\n",
              "      <td>6.19%</td>\n",
              "    </tr>\n",
              "    <tr>\n",
              "      <th>3</th>\n",
              "      <td>2023-05-06</td>\n",
              "      <td>1,896.48</td>\n",
              "      <td>1,993.33</td>\n",
              "      <td>2,013.10</td>\n",
              "      <td>1,868.09</td>\n",
              "      <td>658.63K</td>\n",
              "      <td>-4.86%</td>\n",
              "    </tr>\n",
              "    <tr>\n",
              "      <th>2</th>\n",
              "      <td>2023-05-07</td>\n",
              "      <td>1,870.99</td>\n",
              "      <td>1,896.48</td>\n",
              "      <td>1,931.39</td>\n",
              "      <td>1,870.94</td>\n",
              "      <td>441.65K</td>\n",
              "      <td>-1.34%</td>\n",
              "    </tr>\n",
              "    <tr>\n",
              "      <th>1</th>\n",
              "      <td>2023-05-08</td>\n",
              "      <td>1,847.48</td>\n",
              "      <td>1,871.03</td>\n",
              "      <td>1,883.54</td>\n",
              "      <td>1,813.63</td>\n",
              "      <td>667.82K</td>\n",
              "      <td>-1.26%</td>\n",
              "    </tr>\n",
              "    <tr>\n",
              "      <th>0</th>\n",
              "      <td>2023-05-09</td>\n",
              "      <td>1,845.00</td>\n",
              "      <td>1,847.48</td>\n",
              "      <td>1,854.58</td>\n",
              "      <td>1,832.05</td>\n",
              "      <td>450.86K</td>\n",
              "      <td>-0.13%</td>\n",
              "    </tr>\n",
              "  </tbody>\n",
              "</table>\n",
              "</div>\n",
              "      <button class=\"colab-df-convert\" onclick=\"convertToInteractive('df-7712fb0d-b6e0-4fbd-8fd5-a23bca7f42da')\"\n",
              "              title=\"Convert this dataframe to an interactive table.\"\n",
              "              style=\"display:none;\">\n",
              "        \n",
              "  <svg xmlns=\"http://www.w3.org/2000/svg\" height=\"24px\"viewBox=\"0 0 24 24\"\n",
              "       width=\"24px\">\n",
              "    <path d=\"M0 0h24v24H0V0z\" fill=\"none\"/>\n",
              "    <path d=\"M18.56 5.44l.94 2.06.94-2.06 2.06-.94-2.06-.94-.94-2.06-.94 2.06-2.06.94zm-11 1L8.5 8.5l.94-2.06 2.06-.94-2.06-.94L8.5 2.5l-.94 2.06-2.06.94zm10 10l.94 2.06.94-2.06 2.06-.94-2.06-.94-.94-2.06-.94 2.06-2.06.94z\"/><path d=\"M17.41 7.96l-1.37-1.37c-.4-.4-.92-.59-1.43-.59-.52 0-1.04.2-1.43.59L10.3 9.45l-7.72 7.72c-.78.78-.78 2.05 0 2.83L4 21.41c.39.39.9.59 1.41.59.51 0 1.02-.2 1.41-.59l7.78-7.78 2.81-2.81c.8-.78.8-2.07 0-2.86zM5.41 20L4 18.59l7.72-7.72 1.47 1.35L5.41 20z\"/>\n",
              "  </svg>\n",
              "      </button>\n",
              "      \n",
              "  <style>\n",
              "    .colab-df-container {\n",
              "      display:flex;\n",
              "      flex-wrap:wrap;\n",
              "      gap: 12px;\n",
              "    }\n",
              "\n",
              "    .colab-df-convert {\n",
              "      background-color: #E8F0FE;\n",
              "      border: none;\n",
              "      border-radius: 50%;\n",
              "      cursor: pointer;\n",
              "      display: none;\n",
              "      fill: #1967D2;\n",
              "      height: 32px;\n",
              "      padding: 0 0 0 0;\n",
              "      width: 32px;\n",
              "    }\n",
              "\n",
              "    .colab-df-convert:hover {\n",
              "      background-color: #E2EBFA;\n",
              "      box-shadow: 0px 1px 2px rgba(60, 64, 67, 0.3), 0px 1px 3px 1px rgba(60, 64, 67, 0.15);\n",
              "      fill: #174EA6;\n",
              "    }\n",
              "\n",
              "    [theme=dark] .colab-df-convert {\n",
              "      background-color: #3B4455;\n",
              "      fill: #D2E3FC;\n",
              "    }\n",
              "\n",
              "    [theme=dark] .colab-df-convert:hover {\n",
              "      background-color: #434B5C;\n",
              "      box-shadow: 0px 1px 3px 1px rgba(0, 0, 0, 0.15);\n",
              "      filter: drop-shadow(0px 1px 2px rgba(0, 0, 0, 0.3));\n",
              "      fill: #FFFFFF;\n",
              "    }\n",
              "  </style>\n",
              "\n",
              "      <script>\n",
              "        const buttonEl =\n",
              "          document.querySelector('#df-7712fb0d-b6e0-4fbd-8fd5-a23bca7f42da button.colab-df-convert');\n",
              "        buttonEl.style.display =\n",
              "          google.colab.kernel.accessAllowed ? 'block' : 'none';\n",
              "\n",
              "        async function convertToInteractive(key) {\n",
              "          const element = document.querySelector('#df-7712fb0d-b6e0-4fbd-8fd5-a23bca7f42da');\n",
              "          const dataTable =\n",
              "            await google.colab.kernel.invokeFunction('convertToInteractive',\n",
              "                                                     [key], {});\n",
              "          if (!dataTable) return;\n",
              "\n",
              "          const docLinkHtml = 'Like what you see? Visit the ' +\n",
              "            '<a target=\"_blank\" href=https://colab.research.google.com/notebooks/data_table.ipynb>data table notebook</a>'\n",
              "            + ' to learn more about interactive tables.';\n",
              "          element.innerHTML = '';\n",
              "          dataTable['output_type'] = 'display_data';\n",
              "          await google.colab.output.renderOutput(dataTable, element);\n",
              "          const docLink = document.createElement('div');\n",
              "          docLink.innerHTML = docLinkHtml;\n",
              "          element.appendChild(docLink);\n",
              "        }\n",
              "      </script>\n",
              "    </div>\n",
              "  </div>\n",
              "  "
            ]
          },
          "metadata": {},
          "execution_count": 17
        }
      ]
    },
    {
      "cell_type": "code",
      "source": [
        "data_1 = df_1[df_1['Date'] < \"2016-03-10\"]\n",
        "data_1.head(2)"
      ],
      "metadata": {
        "colab": {
          "base_uri": "https://localhost:8080/",
          "height": 112
        },
        "id": "8-LLWMndx4Be",
        "outputId": "5821ceaa-fe58-4a6f-d7a0-d8b287df6161"
      },
      "execution_count": 18,
      "outputs": [
        {
          "output_type": "execute_result",
          "data": {
            "text/plain": [
              "        Date     Open     High       Low     Close  Adj Close    Volume\n",
              "0 2015-08-07  2.83162  3.53661  2.521120  2.772120   2.772120  164329.0\n",
              "1 2015-08-08  2.79376  2.79881  0.714725  0.753325   0.753325  674188.0"
            ],
            "text/html": [
              "\n",
              "  <div id=\"df-33431afe-6804-4b52-ba91-5ea778dde54f\">\n",
              "    <div class=\"colab-df-container\">\n",
              "      <div>\n",
              "<style scoped>\n",
              "    .dataframe tbody tr th:only-of-type {\n",
              "        vertical-align: middle;\n",
              "    }\n",
              "\n",
              "    .dataframe tbody tr th {\n",
              "        vertical-align: top;\n",
              "    }\n",
              "\n",
              "    .dataframe thead th {\n",
              "        text-align: right;\n",
              "    }\n",
              "</style>\n",
              "<table border=\"1\" class=\"dataframe\">\n",
              "  <thead>\n",
              "    <tr style=\"text-align: right;\">\n",
              "      <th></th>\n",
              "      <th>Date</th>\n",
              "      <th>Open</th>\n",
              "      <th>High</th>\n",
              "      <th>Low</th>\n",
              "      <th>Close</th>\n",
              "      <th>Adj Close</th>\n",
              "      <th>Volume</th>\n",
              "    </tr>\n",
              "  </thead>\n",
              "  <tbody>\n",
              "    <tr>\n",
              "      <th>0</th>\n",
              "      <td>2015-08-07</td>\n",
              "      <td>2.83162</td>\n",
              "      <td>3.53661</td>\n",
              "      <td>2.521120</td>\n",
              "      <td>2.772120</td>\n",
              "      <td>2.772120</td>\n",
              "      <td>164329.0</td>\n",
              "    </tr>\n",
              "    <tr>\n",
              "      <th>1</th>\n",
              "      <td>2015-08-08</td>\n",
              "      <td>2.79376</td>\n",
              "      <td>2.79881</td>\n",
              "      <td>0.714725</td>\n",
              "      <td>0.753325</td>\n",
              "      <td>0.753325</td>\n",
              "      <td>674188.0</td>\n",
              "    </tr>\n",
              "  </tbody>\n",
              "</table>\n",
              "</div>\n",
              "      <button class=\"colab-df-convert\" onclick=\"convertToInteractive('df-33431afe-6804-4b52-ba91-5ea778dde54f')\"\n",
              "              title=\"Convert this dataframe to an interactive table.\"\n",
              "              style=\"display:none;\">\n",
              "        \n",
              "  <svg xmlns=\"http://www.w3.org/2000/svg\" height=\"24px\"viewBox=\"0 0 24 24\"\n",
              "       width=\"24px\">\n",
              "    <path d=\"M0 0h24v24H0V0z\" fill=\"none\"/>\n",
              "    <path d=\"M18.56 5.44l.94 2.06.94-2.06 2.06-.94-2.06-.94-.94-2.06-.94 2.06-2.06.94zm-11 1L8.5 8.5l.94-2.06 2.06-.94-2.06-.94L8.5 2.5l-.94 2.06-2.06.94zm10 10l.94 2.06.94-2.06 2.06-.94-2.06-.94-.94-2.06-.94 2.06-2.06.94z\"/><path d=\"M17.41 7.96l-1.37-1.37c-.4-.4-.92-.59-1.43-.59-.52 0-1.04.2-1.43.59L10.3 9.45l-7.72 7.72c-.78.78-.78 2.05 0 2.83L4 21.41c.39.39.9.59 1.41.59.51 0 1.02-.2 1.41-.59l7.78-7.78 2.81-2.81c.8-.78.8-2.07 0-2.86zM5.41 20L4 18.59l7.72-7.72 1.47 1.35L5.41 20z\"/>\n",
              "  </svg>\n",
              "      </button>\n",
              "      \n",
              "  <style>\n",
              "    .colab-df-container {\n",
              "      display:flex;\n",
              "      flex-wrap:wrap;\n",
              "      gap: 12px;\n",
              "    }\n",
              "\n",
              "    .colab-df-convert {\n",
              "      background-color: #E8F0FE;\n",
              "      border: none;\n",
              "      border-radius: 50%;\n",
              "      cursor: pointer;\n",
              "      display: none;\n",
              "      fill: #1967D2;\n",
              "      height: 32px;\n",
              "      padding: 0 0 0 0;\n",
              "      width: 32px;\n",
              "    }\n",
              "\n",
              "    .colab-df-convert:hover {\n",
              "      background-color: #E2EBFA;\n",
              "      box-shadow: 0px 1px 2px rgba(60, 64, 67, 0.3), 0px 1px 3px 1px rgba(60, 64, 67, 0.15);\n",
              "      fill: #174EA6;\n",
              "    }\n",
              "\n",
              "    [theme=dark] .colab-df-convert {\n",
              "      background-color: #3B4455;\n",
              "      fill: #D2E3FC;\n",
              "    }\n",
              "\n",
              "    [theme=dark] .colab-df-convert:hover {\n",
              "      background-color: #434B5C;\n",
              "      box-shadow: 0px 1px 3px 1px rgba(0, 0, 0, 0.15);\n",
              "      filter: drop-shadow(0px 1px 2px rgba(0, 0, 0, 0.3));\n",
              "      fill: #FFFFFF;\n",
              "    }\n",
              "  </style>\n",
              "\n",
              "      <script>\n",
              "        const buttonEl =\n",
              "          document.querySelector('#df-33431afe-6804-4b52-ba91-5ea778dde54f button.colab-df-convert');\n",
              "        buttonEl.style.display =\n",
              "          google.colab.kernel.accessAllowed ? 'block' : 'none';\n",
              "\n",
              "        async function convertToInteractive(key) {\n",
              "          const element = document.querySelector('#df-33431afe-6804-4b52-ba91-5ea778dde54f');\n",
              "          const dataTable =\n",
              "            await google.colab.kernel.invokeFunction('convertToInteractive',\n",
              "                                                     [key], {});\n",
              "          if (!dataTable) return;\n",
              "\n",
              "          const docLinkHtml = 'Like what you see? Visit the ' +\n",
              "            '<a target=\"_blank\" href=https://colab.research.google.com/notebooks/data_table.ipynb>data table notebook</a>'\n",
              "            + ' to learn more about interactive tables.';\n",
              "          element.innerHTML = '';\n",
              "          dataTable['output_type'] = 'display_data';\n",
              "          await google.colab.output.renderOutput(dataTable, element);\n",
              "          const docLink = document.createElement('div');\n",
              "          docLink.innerHTML = docLinkHtml;\n",
              "          element.appendChild(docLink);\n",
              "        }\n",
              "      </script>\n",
              "    </div>\n",
              "  </div>\n",
              "  "
            ]
          },
          "metadata": {},
          "execution_count": 18
        }
      ]
    },
    {
      "cell_type": "code",
      "source": [
        "data_1.tail(2)"
      ],
      "metadata": {
        "colab": {
          "base_uri": "https://localhost:8080/",
          "height": 112
        },
        "id": "gBfpkwApIP5L",
        "outputId": "aa2896f8-d63c-40a9-f224-4a869fc552b6"
      },
      "execution_count": 19,
      "outputs": [
        {
          "output_type": "execute_result",
          "data": {
            "text/plain": [
              "          Date     Open     High      Low     Close  Adj Close      Volume\n",
              "214 2016-03-08  9.58214  10.1664  8.81577   9.84721    9.84721  25524300.0\n",
              "215 2016-03-09  9.79242  12.0547  9.67099  11.89800   11.89800  27540500.0"
            ],
            "text/html": [
              "\n",
              "  <div id=\"df-90a9b54d-b2a8-4916-a9c2-fa1b710c8882\">\n",
              "    <div class=\"colab-df-container\">\n",
              "      <div>\n",
              "<style scoped>\n",
              "    .dataframe tbody tr th:only-of-type {\n",
              "        vertical-align: middle;\n",
              "    }\n",
              "\n",
              "    .dataframe tbody tr th {\n",
              "        vertical-align: top;\n",
              "    }\n",
              "\n",
              "    .dataframe thead th {\n",
              "        text-align: right;\n",
              "    }\n",
              "</style>\n",
              "<table border=\"1\" class=\"dataframe\">\n",
              "  <thead>\n",
              "    <tr style=\"text-align: right;\">\n",
              "      <th></th>\n",
              "      <th>Date</th>\n",
              "      <th>Open</th>\n",
              "      <th>High</th>\n",
              "      <th>Low</th>\n",
              "      <th>Close</th>\n",
              "      <th>Adj Close</th>\n",
              "      <th>Volume</th>\n",
              "    </tr>\n",
              "  </thead>\n",
              "  <tbody>\n",
              "    <tr>\n",
              "      <th>214</th>\n",
              "      <td>2016-03-08</td>\n",
              "      <td>9.58214</td>\n",
              "      <td>10.1664</td>\n",
              "      <td>8.81577</td>\n",
              "      <td>9.84721</td>\n",
              "      <td>9.84721</td>\n",
              "      <td>25524300.0</td>\n",
              "    </tr>\n",
              "    <tr>\n",
              "      <th>215</th>\n",
              "      <td>2016-03-09</td>\n",
              "      <td>9.79242</td>\n",
              "      <td>12.0547</td>\n",
              "      <td>9.67099</td>\n",
              "      <td>11.89800</td>\n",
              "      <td>11.89800</td>\n",
              "      <td>27540500.0</td>\n",
              "    </tr>\n",
              "  </tbody>\n",
              "</table>\n",
              "</div>\n",
              "      <button class=\"colab-df-convert\" onclick=\"convertToInteractive('df-90a9b54d-b2a8-4916-a9c2-fa1b710c8882')\"\n",
              "              title=\"Convert this dataframe to an interactive table.\"\n",
              "              style=\"display:none;\">\n",
              "        \n",
              "  <svg xmlns=\"http://www.w3.org/2000/svg\" height=\"24px\"viewBox=\"0 0 24 24\"\n",
              "       width=\"24px\">\n",
              "    <path d=\"M0 0h24v24H0V0z\" fill=\"none\"/>\n",
              "    <path d=\"M18.56 5.44l.94 2.06.94-2.06 2.06-.94-2.06-.94-.94-2.06-.94 2.06-2.06.94zm-11 1L8.5 8.5l.94-2.06 2.06-.94-2.06-.94L8.5 2.5l-.94 2.06-2.06.94zm10 10l.94 2.06.94-2.06 2.06-.94-2.06-.94-.94-2.06-.94 2.06-2.06.94z\"/><path d=\"M17.41 7.96l-1.37-1.37c-.4-.4-.92-.59-1.43-.59-.52 0-1.04.2-1.43.59L10.3 9.45l-7.72 7.72c-.78.78-.78 2.05 0 2.83L4 21.41c.39.39.9.59 1.41.59.51 0 1.02-.2 1.41-.59l7.78-7.78 2.81-2.81c.8-.78.8-2.07 0-2.86zM5.41 20L4 18.59l7.72-7.72 1.47 1.35L5.41 20z\"/>\n",
              "  </svg>\n",
              "      </button>\n",
              "      \n",
              "  <style>\n",
              "    .colab-df-container {\n",
              "      display:flex;\n",
              "      flex-wrap:wrap;\n",
              "      gap: 12px;\n",
              "    }\n",
              "\n",
              "    .colab-df-convert {\n",
              "      background-color: #E8F0FE;\n",
              "      border: none;\n",
              "      border-radius: 50%;\n",
              "      cursor: pointer;\n",
              "      display: none;\n",
              "      fill: #1967D2;\n",
              "      height: 32px;\n",
              "      padding: 0 0 0 0;\n",
              "      width: 32px;\n",
              "    }\n",
              "\n",
              "    .colab-df-convert:hover {\n",
              "      background-color: #E2EBFA;\n",
              "      box-shadow: 0px 1px 2px rgba(60, 64, 67, 0.3), 0px 1px 3px 1px rgba(60, 64, 67, 0.15);\n",
              "      fill: #174EA6;\n",
              "    }\n",
              "\n",
              "    [theme=dark] .colab-df-convert {\n",
              "      background-color: #3B4455;\n",
              "      fill: #D2E3FC;\n",
              "    }\n",
              "\n",
              "    [theme=dark] .colab-df-convert:hover {\n",
              "      background-color: #434B5C;\n",
              "      box-shadow: 0px 1px 3px 1px rgba(0, 0, 0, 0.15);\n",
              "      filter: drop-shadow(0px 1px 2px rgba(0, 0, 0, 0.3));\n",
              "      fill: #FFFFFF;\n",
              "    }\n",
              "  </style>\n",
              "\n",
              "      <script>\n",
              "        const buttonEl =\n",
              "          document.querySelector('#df-90a9b54d-b2a8-4916-a9c2-fa1b710c8882 button.colab-df-convert');\n",
              "        buttonEl.style.display =\n",
              "          google.colab.kernel.accessAllowed ? 'block' : 'none';\n",
              "\n",
              "        async function convertToInteractive(key) {\n",
              "          const element = document.querySelector('#df-90a9b54d-b2a8-4916-a9c2-fa1b710c8882');\n",
              "          const dataTable =\n",
              "            await google.colab.kernel.invokeFunction('convertToInteractive',\n",
              "                                                     [key], {});\n",
              "          if (!dataTable) return;\n",
              "\n",
              "          const docLinkHtml = 'Like what you see? Visit the ' +\n",
              "            '<a target=\"_blank\" href=https://colab.research.google.com/notebooks/data_table.ipynb>data table notebook</a>'\n",
              "            + ' to learn more about interactive tables.';\n",
              "          element.innerHTML = '';\n",
              "          dataTable['output_type'] = 'display_data';\n",
              "          await google.colab.output.renderOutput(dataTable, element);\n",
              "          const docLink = document.createElement('div');\n",
              "          docLink.innerHTML = docLinkHtml;\n",
              "          element.appendChild(docLink);\n",
              "        }\n",
              "      </script>\n",
              "    </div>\n",
              "  </div>\n",
              "  "
            ]
          },
          "metadata": {},
          "execution_count": 19
        }
      ]
    },
    {
      "cell_type": "code",
      "source": [
        "data_1_Close = data_1['Close']\n",
        "data_2_Close = df_2['Price']\n",
        "price = pd.concat([data_1_Close, data_2_Close], ignore_index=True)"
      ],
      "metadata": {
        "id": "QqjnoKYoJgH6"
      },
      "execution_count": 20,
      "outputs": []
    },
    {
      "cell_type": "code",
      "source": [],
      "metadata": {
        "id": "vE9-rEJVJBoH"
      },
      "execution_count": 20,
      "outputs": []
    },
    {
      "cell_type": "markdown",
      "source": [
        "## 1) 1st dataset = start: 2015-08-07  end: 2021-10-20\n",
        "## 2) 2nd dataset = start: 2016-03-10  end: 2023-05-09\t\n",
        "## combined dataset = start = 2015-08-07 end: 2023-05-09"
      ],
      "metadata": {
        "id": "tIRzVuna1Vyf"
      }
    },
    {
      "cell_type": "code",
      "source": [
        "dataset = pd.concat([data_1, df_2], ignore_index=True)\n",
        "dataset['Price'] = price\n",
        "dataset.head(5)"
      ],
      "metadata": {
        "colab": {
          "base_uri": "https://localhost:8080/",
          "height": 206
        },
        "id": "WrBsSY69sGFn",
        "outputId": "5c463b86-be18-4dbb-ab1d-49a97d6e9b57"
      },
      "execution_count": 21,
      "outputs": [
        {
          "output_type": "execute_result",
          "data": {
            "text/plain": [
              "        Date      Open      High       Low     Close  Adj Close     Volume  \\\n",
              "0 2015-08-07   2.83162   3.53661   2.52112  2.772120   2.772120   164329.0   \n",
              "1 2015-08-08   2.79376   2.79881  0.714725  0.753325   0.753325   674188.0   \n",
              "2 2015-08-09  0.706136   0.87981  0.629191  0.701897   0.701897   532170.0   \n",
              "3 2015-08-10  0.713989  0.729854  0.636546  0.708448   0.708448   405283.0   \n",
              "4 2015-08-11  0.708087   1.13141  0.663235  1.067860   1.067860  1463100.0   \n",
              "\n",
              "      Price Vol. Change %  \n",
              "0   2.77212  NaN      NaN  \n",
              "1  0.753325  NaN      NaN  \n",
              "2  0.701897  NaN      NaN  \n",
              "3  0.708448  NaN      NaN  \n",
              "4   1.06786  NaN      NaN  "
            ],
            "text/html": [
              "\n",
              "  <div id=\"df-5a7dd5ff-4a6b-4c65-8efd-d2b0d9014695\">\n",
              "    <div class=\"colab-df-container\">\n",
              "      <div>\n",
              "<style scoped>\n",
              "    .dataframe tbody tr th:only-of-type {\n",
              "        vertical-align: middle;\n",
              "    }\n",
              "\n",
              "    .dataframe tbody tr th {\n",
              "        vertical-align: top;\n",
              "    }\n",
              "\n",
              "    .dataframe thead th {\n",
              "        text-align: right;\n",
              "    }\n",
              "</style>\n",
              "<table border=\"1\" class=\"dataframe\">\n",
              "  <thead>\n",
              "    <tr style=\"text-align: right;\">\n",
              "      <th></th>\n",
              "      <th>Date</th>\n",
              "      <th>Open</th>\n",
              "      <th>High</th>\n",
              "      <th>Low</th>\n",
              "      <th>Close</th>\n",
              "      <th>Adj Close</th>\n",
              "      <th>Volume</th>\n",
              "      <th>Price</th>\n",
              "      <th>Vol.</th>\n",
              "      <th>Change %</th>\n",
              "    </tr>\n",
              "  </thead>\n",
              "  <tbody>\n",
              "    <tr>\n",
              "      <th>0</th>\n",
              "      <td>2015-08-07</td>\n",
              "      <td>2.83162</td>\n",
              "      <td>3.53661</td>\n",
              "      <td>2.52112</td>\n",
              "      <td>2.772120</td>\n",
              "      <td>2.772120</td>\n",
              "      <td>164329.0</td>\n",
              "      <td>2.77212</td>\n",
              "      <td>NaN</td>\n",
              "      <td>NaN</td>\n",
              "    </tr>\n",
              "    <tr>\n",
              "      <th>1</th>\n",
              "      <td>2015-08-08</td>\n",
              "      <td>2.79376</td>\n",
              "      <td>2.79881</td>\n",
              "      <td>0.714725</td>\n",
              "      <td>0.753325</td>\n",
              "      <td>0.753325</td>\n",
              "      <td>674188.0</td>\n",
              "      <td>0.753325</td>\n",
              "      <td>NaN</td>\n",
              "      <td>NaN</td>\n",
              "    </tr>\n",
              "    <tr>\n",
              "      <th>2</th>\n",
              "      <td>2015-08-09</td>\n",
              "      <td>0.706136</td>\n",
              "      <td>0.87981</td>\n",
              "      <td>0.629191</td>\n",
              "      <td>0.701897</td>\n",
              "      <td>0.701897</td>\n",
              "      <td>532170.0</td>\n",
              "      <td>0.701897</td>\n",
              "      <td>NaN</td>\n",
              "      <td>NaN</td>\n",
              "    </tr>\n",
              "    <tr>\n",
              "      <th>3</th>\n",
              "      <td>2015-08-10</td>\n",
              "      <td>0.713989</td>\n",
              "      <td>0.729854</td>\n",
              "      <td>0.636546</td>\n",
              "      <td>0.708448</td>\n",
              "      <td>0.708448</td>\n",
              "      <td>405283.0</td>\n",
              "      <td>0.708448</td>\n",
              "      <td>NaN</td>\n",
              "      <td>NaN</td>\n",
              "    </tr>\n",
              "    <tr>\n",
              "      <th>4</th>\n",
              "      <td>2015-08-11</td>\n",
              "      <td>0.708087</td>\n",
              "      <td>1.13141</td>\n",
              "      <td>0.663235</td>\n",
              "      <td>1.067860</td>\n",
              "      <td>1.067860</td>\n",
              "      <td>1463100.0</td>\n",
              "      <td>1.06786</td>\n",
              "      <td>NaN</td>\n",
              "      <td>NaN</td>\n",
              "    </tr>\n",
              "  </tbody>\n",
              "</table>\n",
              "</div>\n",
              "      <button class=\"colab-df-convert\" onclick=\"convertToInteractive('df-5a7dd5ff-4a6b-4c65-8efd-d2b0d9014695')\"\n",
              "              title=\"Convert this dataframe to an interactive table.\"\n",
              "              style=\"display:none;\">\n",
              "        \n",
              "  <svg xmlns=\"http://www.w3.org/2000/svg\" height=\"24px\"viewBox=\"0 0 24 24\"\n",
              "       width=\"24px\">\n",
              "    <path d=\"M0 0h24v24H0V0z\" fill=\"none\"/>\n",
              "    <path d=\"M18.56 5.44l.94 2.06.94-2.06 2.06-.94-2.06-.94-.94-2.06-.94 2.06-2.06.94zm-11 1L8.5 8.5l.94-2.06 2.06-.94-2.06-.94L8.5 2.5l-.94 2.06-2.06.94zm10 10l.94 2.06.94-2.06 2.06-.94-2.06-.94-.94-2.06-.94 2.06-2.06.94z\"/><path d=\"M17.41 7.96l-1.37-1.37c-.4-.4-.92-.59-1.43-.59-.52 0-1.04.2-1.43.59L10.3 9.45l-7.72 7.72c-.78.78-.78 2.05 0 2.83L4 21.41c.39.39.9.59 1.41.59.51 0 1.02-.2 1.41-.59l7.78-7.78 2.81-2.81c.8-.78.8-2.07 0-2.86zM5.41 20L4 18.59l7.72-7.72 1.47 1.35L5.41 20z\"/>\n",
              "  </svg>\n",
              "      </button>\n",
              "      \n",
              "  <style>\n",
              "    .colab-df-container {\n",
              "      display:flex;\n",
              "      flex-wrap:wrap;\n",
              "      gap: 12px;\n",
              "    }\n",
              "\n",
              "    .colab-df-convert {\n",
              "      background-color: #E8F0FE;\n",
              "      border: none;\n",
              "      border-radius: 50%;\n",
              "      cursor: pointer;\n",
              "      display: none;\n",
              "      fill: #1967D2;\n",
              "      height: 32px;\n",
              "      padding: 0 0 0 0;\n",
              "      width: 32px;\n",
              "    }\n",
              "\n",
              "    .colab-df-convert:hover {\n",
              "      background-color: #E2EBFA;\n",
              "      box-shadow: 0px 1px 2px rgba(60, 64, 67, 0.3), 0px 1px 3px 1px rgba(60, 64, 67, 0.15);\n",
              "      fill: #174EA6;\n",
              "    }\n",
              "\n",
              "    [theme=dark] .colab-df-convert {\n",
              "      background-color: #3B4455;\n",
              "      fill: #D2E3FC;\n",
              "    }\n",
              "\n",
              "    [theme=dark] .colab-df-convert:hover {\n",
              "      background-color: #434B5C;\n",
              "      box-shadow: 0px 1px 3px 1px rgba(0, 0, 0, 0.15);\n",
              "      filter: drop-shadow(0px 1px 2px rgba(0, 0, 0, 0.3));\n",
              "      fill: #FFFFFF;\n",
              "    }\n",
              "  </style>\n",
              "\n",
              "      <script>\n",
              "        const buttonEl =\n",
              "          document.querySelector('#df-5a7dd5ff-4a6b-4c65-8efd-d2b0d9014695 button.colab-df-convert');\n",
              "        buttonEl.style.display =\n",
              "          google.colab.kernel.accessAllowed ? 'block' : 'none';\n",
              "\n",
              "        async function convertToInteractive(key) {\n",
              "          const element = document.querySelector('#df-5a7dd5ff-4a6b-4c65-8efd-d2b0d9014695');\n",
              "          const dataTable =\n",
              "            await google.colab.kernel.invokeFunction('convertToInteractive',\n",
              "                                                     [key], {});\n",
              "          if (!dataTable) return;\n",
              "\n",
              "          const docLinkHtml = 'Like what you see? Visit the ' +\n",
              "            '<a target=\"_blank\" href=https://colab.research.google.com/notebooks/data_table.ipynb>data table notebook</a>'\n",
              "            + ' to learn more about interactive tables.';\n",
              "          element.innerHTML = '';\n",
              "          dataTable['output_type'] = 'display_data';\n",
              "          await google.colab.output.renderOutput(dataTable, element);\n",
              "          const docLink = document.createElement('div');\n",
              "          docLink.innerHTML = docLinkHtml;\n",
              "          element.appendChild(docLink);\n",
              "        }\n",
              "      </script>\n",
              "    </div>\n",
              "  </div>\n",
              "  "
            ]
          },
          "metadata": {},
          "execution_count": 21
        }
      ]
    },
    {
      "cell_type": "code",
      "source": [
        "dataset.tail(5)"
      ],
      "metadata": {
        "colab": {
          "base_uri": "https://localhost:8080/",
          "height": 206
        },
        "id": "xvZ6Vwqv1PoQ",
        "outputId": "dd6c78fa-8bdc-4a6b-aef3-b887734ca15a"
      },
      "execution_count": 22,
      "outputs": [
        {
          "output_type": "execute_result",
          "data": {
            "text/plain": [
              "           Date      Open      High       Low  Close  Adj Close  Volume  \\\n",
              "2828 2023-05-05  1,877.06  1,996.64  1,875.66    NaN        NaN     NaN   \n",
              "2829 2023-05-06  1,993.33  2,013.10  1,868.09    NaN        NaN     NaN   \n",
              "2830 2023-05-07  1,896.48  1,931.39  1,870.94    NaN        NaN     NaN   \n",
              "2831 2023-05-08  1,871.03  1,883.54  1,813.63    NaN        NaN     NaN   \n",
              "2832 2023-05-09  1,847.48  1,854.58  1,832.05    NaN        NaN     NaN   \n",
              "\n",
              "         Price     Vol. Change %  \n",
              "2828  1,993.33  589.05K    6.19%  \n",
              "2829  1,896.48  658.63K   -4.86%  \n",
              "2830  1,870.99  441.65K   -1.34%  \n",
              "2831  1,847.48  667.82K   -1.26%  \n",
              "2832  1,845.00  450.86K   -0.13%  "
            ],
            "text/html": [
              "\n",
              "  <div id=\"df-af118b16-3760-4c39-8679-85d4e33ae666\">\n",
              "    <div class=\"colab-df-container\">\n",
              "      <div>\n",
              "<style scoped>\n",
              "    .dataframe tbody tr th:only-of-type {\n",
              "        vertical-align: middle;\n",
              "    }\n",
              "\n",
              "    .dataframe tbody tr th {\n",
              "        vertical-align: top;\n",
              "    }\n",
              "\n",
              "    .dataframe thead th {\n",
              "        text-align: right;\n",
              "    }\n",
              "</style>\n",
              "<table border=\"1\" class=\"dataframe\">\n",
              "  <thead>\n",
              "    <tr style=\"text-align: right;\">\n",
              "      <th></th>\n",
              "      <th>Date</th>\n",
              "      <th>Open</th>\n",
              "      <th>High</th>\n",
              "      <th>Low</th>\n",
              "      <th>Close</th>\n",
              "      <th>Adj Close</th>\n",
              "      <th>Volume</th>\n",
              "      <th>Price</th>\n",
              "      <th>Vol.</th>\n",
              "      <th>Change %</th>\n",
              "    </tr>\n",
              "  </thead>\n",
              "  <tbody>\n",
              "    <tr>\n",
              "      <th>2828</th>\n",
              "      <td>2023-05-05</td>\n",
              "      <td>1,877.06</td>\n",
              "      <td>1,996.64</td>\n",
              "      <td>1,875.66</td>\n",
              "      <td>NaN</td>\n",
              "      <td>NaN</td>\n",
              "      <td>NaN</td>\n",
              "      <td>1,993.33</td>\n",
              "      <td>589.05K</td>\n",
              "      <td>6.19%</td>\n",
              "    </tr>\n",
              "    <tr>\n",
              "      <th>2829</th>\n",
              "      <td>2023-05-06</td>\n",
              "      <td>1,993.33</td>\n",
              "      <td>2,013.10</td>\n",
              "      <td>1,868.09</td>\n",
              "      <td>NaN</td>\n",
              "      <td>NaN</td>\n",
              "      <td>NaN</td>\n",
              "      <td>1,896.48</td>\n",
              "      <td>658.63K</td>\n",
              "      <td>-4.86%</td>\n",
              "    </tr>\n",
              "    <tr>\n",
              "      <th>2830</th>\n",
              "      <td>2023-05-07</td>\n",
              "      <td>1,896.48</td>\n",
              "      <td>1,931.39</td>\n",
              "      <td>1,870.94</td>\n",
              "      <td>NaN</td>\n",
              "      <td>NaN</td>\n",
              "      <td>NaN</td>\n",
              "      <td>1,870.99</td>\n",
              "      <td>441.65K</td>\n",
              "      <td>-1.34%</td>\n",
              "    </tr>\n",
              "    <tr>\n",
              "      <th>2831</th>\n",
              "      <td>2023-05-08</td>\n",
              "      <td>1,871.03</td>\n",
              "      <td>1,883.54</td>\n",
              "      <td>1,813.63</td>\n",
              "      <td>NaN</td>\n",
              "      <td>NaN</td>\n",
              "      <td>NaN</td>\n",
              "      <td>1,847.48</td>\n",
              "      <td>667.82K</td>\n",
              "      <td>-1.26%</td>\n",
              "    </tr>\n",
              "    <tr>\n",
              "      <th>2832</th>\n",
              "      <td>2023-05-09</td>\n",
              "      <td>1,847.48</td>\n",
              "      <td>1,854.58</td>\n",
              "      <td>1,832.05</td>\n",
              "      <td>NaN</td>\n",
              "      <td>NaN</td>\n",
              "      <td>NaN</td>\n",
              "      <td>1,845.00</td>\n",
              "      <td>450.86K</td>\n",
              "      <td>-0.13%</td>\n",
              "    </tr>\n",
              "  </tbody>\n",
              "</table>\n",
              "</div>\n",
              "      <button class=\"colab-df-convert\" onclick=\"convertToInteractive('df-af118b16-3760-4c39-8679-85d4e33ae666')\"\n",
              "              title=\"Convert this dataframe to an interactive table.\"\n",
              "              style=\"display:none;\">\n",
              "        \n",
              "  <svg xmlns=\"http://www.w3.org/2000/svg\" height=\"24px\"viewBox=\"0 0 24 24\"\n",
              "       width=\"24px\">\n",
              "    <path d=\"M0 0h24v24H0V0z\" fill=\"none\"/>\n",
              "    <path d=\"M18.56 5.44l.94 2.06.94-2.06 2.06-.94-2.06-.94-.94-2.06-.94 2.06-2.06.94zm-11 1L8.5 8.5l.94-2.06 2.06-.94-2.06-.94L8.5 2.5l-.94 2.06-2.06.94zm10 10l.94 2.06.94-2.06 2.06-.94-2.06-.94-.94-2.06-.94 2.06-2.06.94z\"/><path d=\"M17.41 7.96l-1.37-1.37c-.4-.4-.92-.59-1.43-.59-.52 0-1.04.2-1.43.59L10.3 9.45l-7.72 7.72c-.78.78-.78 2.05 0 2.83L4 21.41c.39.39.9.59 1.41.59.51 0 1.02-.2 1.41-.59l7.78-7.78 2.81-2.81c.8-.78.8-2.07 0-2.86zM5.41 20L4 18.59l7.72-7.72 1.47 1.35L5.41 20z\"/>\n",
              "  </svg>\n",
              "      </button>\n",
              "      \n",
              "  <style>\n",
              "    .colab-df-container {\n",
              "      display:flex;\n",
              "      flex-wrap:wrap;\n",
              "      gap: 12px;\n",
              "    }\n",
              "\n",
              "    .colab-df-convert {\n",
              "      background-color: #E8F0FE;\n",
              "      border: none;\n",
              "      border-radius: 50%;\n",
              "      cursor: pointer;\n",
              "      display: none;\n",
              "      fill: #1967D2;\n",
              "      height: 32px;\n",
              "      padding: 0 0 0 0;\n",
              "      width: 32px;\n",
              "    }\n",
              "\n",
              "    .colab-df-convert:hover {\n",
              "      background-color: #E2EBFA;\n",
              "      box-shadow: 0px 1px 2px rgba(60, 64, 67, 0.3), 0px 1px 3px 1px rgba(60, 64, 67, 0.15);\n",
              "      fill: #174EA6;\n",
              "    }\n",
              "\n",
              "    [theme=dark] .colab-df-convert {\n",
              "      background-color: #3B4455;\n",
              "      fill: #D2E3FC;\n",
              "    }\n",
              "\n",
              "    [theme=dark] .colab-df-convert:hover {\n",
              "      background-color: #434B5C;\n",
              "      box-shadow: 0px 1px 3px 1px rgba(0, 0, 0, 0.15);\n",
              "      filter: drop-shadow(0px 1px 2px rgba(0, 0, 0, 0.3));\n",
              "      fill: #FFFFFF;\n",
              "    }\n",
              "  </style>\n",
              "\n",
              "      <script>\n",
              "        const buttonEl =\n",
              "          document.querySelector('#df-af118b16-3760-4c39-8679-85d4e33ae666 button.colab-df-convert');\n",
              "        buttonEl.style.display =\n",
              "          google.colab.kernel.accessAllowed ? 'block' : 'none';\n",
              "\n",
              "        async function convertToInteractive(key) {\n",
              "          const element = document.querySelector('#df-af118b16-3760-4c39-8679-85d4e33ae666');\n",
              "          const dataTable =\n",
              "            await google.colab.kernel.invokeFunction('convertToInteractive',\n",
              "                                                     [key], {});\n",
              "          if (!dataTable) return;\n",
              "\n",
              "          const docLinkHtml = 'Like what you see? Visit the ' +\n",
              "            '<a target=\"_blank\" href=https://colab.research.google.com/notebooks/data_table.ipynb>data table notebook</a>'\n",
              "            + ' to learn more about interactive tables.';\n",
              "          element.innerHTML = '';\n",
              "          dataTable['output_type'] = 'display_data';\n",
              "          await google.colab.output.renderOutput(dataTable, element);\n",
              "          const docLink = document.createElement('div');\n",
              "          docLink.innerHTML = docLinkHtml;\n",
              "          element.appendChild(docLink);\n",
              "        }\n",
              "      </script>\n",
              "    </div>\n",
              "  </div>\n",
              "  "
            ]
          },
          "metadata": {},
          "execution_count": 22
        }
      ]
    },
    {
      "cell_type": "code",
      "source": [
        "dataset = dataset[['Date', 'Open', 'High', 'Low', 'Price']]"
      ],
      "metadata": {
        "id": "3lFmrcSKKZZY"
      },
      "execution_count": 23,
      "outputs": []
    },
    {
      "cell_type": "code",
      "source": [
        "dataset.info()"
      ],
      "metadata": {
        "colab": {
          "base_uri": "https://localhost:8080/"
        },
        "id": "MfZx29TtIg6o",
        "outputId": "ed613f29-9575-4da6-c197-b37e1ec5edf9"
      },
      "execution_count": 24,
      "outputs": [
        {
          "output_type": "stream",
          "name": "stdout",
          "text": [
            "<class 'pandas.core.frame.DataFrame'>\n",
            "RangeIndex: 2833 entries, 0 to 2832\n",
            "Data columns (total 5 columns):\n",
            " #   Column  Non-Null Count  Dtype         \n",
            "---  ------  --------------  -----         \n",
            " 0   Date    2833 non-null   datetime64[ns]\n",
            " 1   Open    2833 non-null   object        \n",
            " 2   High    2833 non-null   object        \n",
            " 3   Low     2833 non-null   object        \n",
            " 4   Price   2833 non-null   object        \n",
            "dtypes: datetime64[ns](1), object(4)\n",
            "memory usage: 110.8+ KB\n"
          ]
        }
      ]
    },
    {
      "cell_type": "code",
      "source": [
        "def parse_float(string_value):\n",
        "  cleaned_string = string_value.replace(\",\", \"\")\n",
        "  float_value = float(cleaned_string)\n",
        "  return float_value"
      ],
      "metadata": {
        "id": "OBTUxYckOTat"
      },
      "execution_count": 25,
      "outputs": []
    },
    {
      "cell_type": "code",
      "source": [
        "dataset['Open'] = dataset['Open'].astype(str).apply(parse_float)\n",
        "dataset['High'] = dataset['High'].astype(str).apply(parse_float)\n",
        "dataset['Low'] = dataset['Low'].astype(str).apply(parse_float)\n",
        "dataset['Price'] = dataset['Price'].astype(str).apply(parse_float)"
      ],
      "metadata": {
        "id": "naqB7avMOUyJ"
      },
      "execution_count": 26,
      "outputs": []
    },
    {
      "cell_type": "code",
      "source": [
        "dataset.info()"
      ],
      "metadata": {
        "colab": {
          "base_uri": "https://localhost:8080/"
        },
        "id": "W5y76hKbPDQJ",
        "outputId": "089cd9bf-0bd8-41b4-a488-ea41bf642935"
      },
      "execution_count": 27,
      "outputs": [
        {
          "output_type": "stream",
          "name": "stdout",
          "text": [
            "<class 'pandas.core.frame.DataFrame'>\n",
            "RangeIndex: 2833 entries, 0 to 2832\n",
            "Data columns (total 5 columns):\n",
            " #   Column  Non-Null Count  Dtype         \n",
            "---  ------  --------------  -----         \n",
            " 0   Date    2833 non-null   datetime64[ns]\n",
            " 1   Open    2833 non-null   float64       \n",
            " 2   High    2833 non-null   float64       \n",
            " 3   Low     2833 non-null   float64       \n",
            " 4   Price   2833 non-null   float64       \n",
            "dtypes: datetime64[ns](1), float64(4)\n",
            "memory usage: 110.8 KB\n"
          ]
        }
      ]
    },
    {
      "cell_type": "code",
      "source": [
        "dataset.describe()"
      ],
      "metadata": {
        "colab": {
          "base_uri": "https://localhost:8080/",
          "height": 300
        },
        "id": "3WAKsVDcKpB-",
        "outputId": "ced68995-93ac-4e6e-e5ac-09e6d7bb4f48"
      },
      "execution_count": 28,
      "outputs": [
        {
          "output_type": "execute_result",
          "data": {
            "text/plain": [
              "              Open         High          Low        Price\n",
              "count  2833.000000  2833.000000  2833.000000  2833.000000\n",
              "mean    844.568229   872.631679   813.014749   845.200424\n",
              "std    1096.571156  1130.408215  1057.459689  1096.603103\n",
              "min       0.431589     0.482988     0.420897     0.434829\n",
              "25%     119.590000   125.050000   115.370000   120.970000\n",
              "50%     287.160000   298.190000   276.530000   288.080000\n",
              "75%    1337.070000  1384.390000  1298.130000  1337.370000\n",
              "max    4808.340000  4864.060000  4715.430000  4808.380000"
            ],
            "text/html": [
              "\n",
              "  <div id=\"df-bca43f6d-b3d4-4757-8990-3495988bb652\">\n",
              "    <div class=\"colab-df-container\">\n",
              "      <div>\n",
              "<style scoped>\n",
              "    .dataframe tbody tr th:only-of-type {\n",
              "        vertical-align: middle;\n",
              "    }\n",
              "\n",
              "    .dataframe tbody tr th {\n",
              "        vertical-align: top;\n",
              "    }\n",
              "\n",
              "    .dataframe thead th {\n",
              "        text-align: right;\n",
              "    }\n",
              "</style>\n",
              "<table border=\"1\" class=\"dataframe\">\n",
              "  <thead>\n",
              "    <tr style=\"text-align: right;\">\n",
              "      <th></th>\n",
              "      <th>Open</th>\n",
              "      <th>High</th>\n",
              "      <th>Low</th>\n",
              "      <th>Price</th>\n",
              "    </tr>\n",
              "  </thead>\n",
              "  <tbody>\n",
              "    <tr>\n",
              "      <th>count</th>\n",
              "      <td>2833.000000</td>\n",
              "      <td>2833.000000</td>\n",
              "      <td>2833.000000</td>\n",
              "      <td>2833.000000</td>\n",
              "    </tr>\n",
              "    <tr>\n",
              "      <th>mean</th>\n",
              "      <td>844.568229</td>\n",
              "      <td>872.631679</td>\n",
              "      <td>813.014749</td>\n",
              "      <td>845.200424</td>\n",
              "    </tr>\n",
              "    <tr>\n",
              "      <th>std</th>\n",
              "      <td>1096.571156</td>\n",
              "      <td>1130.408215</td>\n",
              "      <td>1057.459689</td>\n",
              "      <td>1096.603103</td>\n",
              "    </tr>\n",
              "    <tr>\n",
              "      <th>min</th>\n",
              "      <td>0.431589</td>\n",
              "      <td>0.482988</td>\n",
              "      <td>0.420897</td>\n",
              "      <td>0.434829</td>\n",
              "    </tr>\n",
              "    <tr>\n",
              "      <th>25%</th>\n",
              "      <td>119.590000</td>\n",
              "      <td>125.050000</td>\n",
              "      <td>115.370000</td>\n",
              "      <td>120.970000</td>\n",
              "    </tr>\n",
              "    <tr>\n",
              "      <th>50%</th>\n",
              "      <td>287.160000</td>\n",
              "      <td>298.190000</td>\n",
              "      <td>276.530000</td>\n",
              "      <td>288.080000</td>\n",
              "    </tr>\n",
              "    <tr>\n",
              "      <th>75%</th>\n",
              "      <td>1337.070000</td>\n",
              "      <td>1384.390000</td>\n",
              "      <td>1298.130000</td>\n",
              "      <td>1337.370000</td>\n",
              "    </tr>\n",
              "    <tr>\n",
              "      <th>max</th>\n",
              "      <td>4808.340000</td>\n",
              "      <td>4864.060000</td>\n",
              "      <td>4715.430000</td>\n",
              "      <td>4808.380000</td>\n",
              "    </tr>\n",
              "  </tbody>\n",
              "</table>\n",
              "</div>\n",
              "      <button class=\"colab-df-convert\" onclick=\"convertToInteractive('df-bca43f6d-b3d4-4757-8990-3495988bb652')\"\n",
              "              title=\"Convert this dataframe to an interactive table.\"\n",
              "              style=\"display:none;\">\n",
              "        \n",
              "  <svg xmlns=\"http://www.w3.org/2000/svg\" height=\"24px\"viewBox=\"0 0 24 24\"\n",
              "       width=\"24px\">\n",
              "    <path d=\"M0 0h24v24H0V0z\" fill=\"none\"/>\n",
              "    <path d=\"M18.56 5.44l.94 2.06.94-2.06 2.06-.94-2.06-.94-.94-2.06-.94 2.06-2.06.94zm-11 1L8.5 8.5l.94-2.06 2.06-.94-2.06-.94L8.5 2.5l-.94 2.06-2.06.94zm10 10l.94 2.06.94-2.06 2.06-.94-2.06-.94-.94-2.06-.94 2.06-2.06.94z\"/><path d=\"M17.41 7.96l-1.37-1.37c-.4-.4-.92-.59-1.43-.59-.52 0-1.04.2-1.43.59L10.3 9.45l-7.72 7.72c-.78.78-.78 2.05 0 2.83L4 21.41c.39.39.9.59 1.41.59.51 0 1.02-.2 1.41-.59l7.78-7.78 2.81-2.81c.8-.78.8-2.07 0-2.86zM5.41 20L4 18.59l7.72-7.72 1.47 1.35L5.41 20z\"/>\n",
              "  </svg>\n",
              "      </button>\n",
              "      \n",
              "  <style>\n",
              "    .colab-df-container {\n",
              "      display:flex;\n",
              "      flex-wrap:wrap;\n",
              "      gap: 12px;\n",
              "    }\n",
              "\n",
              "    .colab-df-convert {\n",
              "      background-color: #E8F0FE;\n",
              "      border: none;\n",
              "      border-radius: 50%;\n",
              "      cursor: pointer;\n",
              "      display: none;\n",
              "      fill: #1967D2;\n",
              "      height: 32px;\n",
              "      padding: 0 0 0 0;\n",
              "      width: 32px;\n",
              "    }\n",
              "\n",
              "    .colab-df-convert:hover {\n",
              "      background-color: #E2EBFA;\n",
              "      box-shadow: 0px 1px 2px rgba(60, 64, 67, 0.3), 0px 1px 3px 1px rgba(60, 64, 67, 0.15);\n",
              "      fill: #174EA6;\n",
              "    }\n",
              "\n",
              "    [theme=dark] .colab-df-convert {\n",
              "      background-color: #3B4455;\n",
              "      fill: #D2E3FC;\n",
              "    }\n",
              "\n",
              "    [theme=dark] .colab-df-convert:hover {\n",
              "      background-color: #434B5C;\n",
              "      box-shadow: 0px 1px 3px 1px rgba(0, 0, 0, 0.15);\n",
              "      filter: drop-shadow(0px 1px 2px rgba(0, 0, 0, 0.3));\n",
              "      fill: #FFFFFF;\n",
              "    }\n",
              "  </style>\n",
              "\n",
              "      <script>\n",
              "        const buttonEl =\n",
              "          document.querySelector('#df-bca43f6d-b3d4-4757-8990-3495988bb652 button.colab-df-convert');\n",
              "        buttonEl.style.display =\n",
              "          google.colab.kernel.accessAllowed ? 'block' : 'none';\n",
              "\n",
              "        async function convertToInteractive(key) {\n",
              "          const element = document.querySelector('#df-bca43f6d-b3d4-4757-8990-3495988bb652');\n",
              "          const dataTable =\n",
              "            await google.colab.kernel.invokeFunction('convertToInteractive',\n",
              "                                                     [key], {});\n",
              "          if (!dataTable) return;\n",
              "\n",
              "          const docLinkHtml = 'Like what you see? Visit the ' +\n",
              "            '<a target=\"_blank\" href=https://colab.research.google.com/notebooks/data_table.ipynb>data table notebook</a>'\n",
              "            + ' to learn more about interactive tables.';\n",
              "          element.innerHTML = '';\n",
              "          dataTable['output_type'] = 'display_data';\n",
              "          await google.colab.output.renderOutput(dataTable, element);\n",
              "          const docLink = document.createElement('div');\n",
              "          docLink.innerHTML = docLinkHtml;\n",
              "          element.appendChild(docLink);\n",
              "        }\n",
              "      </script>\n",
              "    </div>\n",
              "  </div>\n",
              "  "
            ]
          },
          "metadata": {},
          "execution_count": 28
        }
      ]
    },
    {
      "cell_type": "code",
      "source": [
        "import matplotlib.pyplot as plt\n",
        "dataset['Price'].plot(figsize=(10, 7))\n",
        "plt.ylabel(\"ETH Price\")\n",
        "plt.title(\"Price of etherum\", fontsize=16)\n",
        "plt.legend(fontsize=14);"
      ],
      "metadata": {
        "colab": {
          "base_uri": "https://localhost:8080/",
          "height": 624
        },
        "id": "6wfPRoEuKsNN",
        "outputId": "c407e334-7ddb-4b7a-b46a-979a3bfff8ce"
      },
      "execution_count": 29,
      "outputs": [
        {
          "output_type": "display_data",
          "data": {
            "text/plain": [
              "<Figure size 1000x700 with 1 Axes>"
            ],
            "image/png": "[encoded data removed]"
          },
          "metadata": {}
        }
      ]
    },
    {
      "cell_type": "code",
      "source": [],
      "metadata": {
        "id": "vREFntgwQ4es"
      },
      "execution_count": 29,
      "outputs": []
    },
    {
      "cell_type": "code",
      "source": [],
      "metadata": {
        "id": "e_v74HeyQ5G3"
      },
      "execution_count": 29,
      "outputs": []
    },
    {
      "cell_type": "code",
      "source": [
        "price_data = dataset['Price'].values\n",
        "price_data"
      ],
      "metadata": {
        "colab": {
          "base_uri": "https://localhost:8080/"
        },
        "id": "juGxQ7bjRE5v",
        "outputId": "dd81179f-7329-4030-aa79-49e1fe3f5806"
      },
      "execution_count": 30,
      "outputs": [
        {
          "output_type": "execute_result",
          "data": {
            "text/plain": [
              "array([2.77212e+00, 7.53325e-01, 7.01897e-01, ..., 1.87099e+03,\n",
              "       1.84748e+03, 1.84500e+03])"
            ]
          },
          "metadata": {},
          "execution_count": 30
        }
      ]
    },
    {
      "cell_type": "code",
      "source": [
        "price_data.shape"
      ],
      "metadata": {
        "colab": {
          "base_uri": "https://localhost:8080/"
        },
        "id": "MZitbEKIReji",
        "outputId": "c675bd20-d4cd-42a1-f8b5-19739aae36c8"
      },
      "execution_count": 31,
      "outputs": [
        {
          "output_type": "execute_result",
          "data": {
            "text/plain": [
              "(2833,)"
            ]
          },
          "metadata": {},
          "execution_count": 31
        }
      ]
    },
    {
      "cell_type": "code",
      "source": [
        "train_data, test_data = price_data[0:2783], price_data[2783:]"
      ],
      "metadata": {
        "id": "PZN10RpgRo3U"
      },
      "execution_count": 32,
      "outputs": []
    },
    {
      "cell_type": "code",
      "source": [
        "train_data.shape, test_data.shape"
      ],
      "metadata": {
        "colab": {
          "base_uri": "https://localhost:8080/"
        },
        "id": "3hxrDzK3RpJA",
        "outputId": "60d40dcc-0b12-457d-aef9-597f7b72e37b"
      },
      "execution_count": 33,
      "outputs": [
        {
          "output_type": "execute_result",
          "data": {
            "text/plain": [
              "((2783,), (50,))"
            ]
          },
          "metadata": {},
          "execution_count": 33
        }
      ]
    },
    {
      "cell_type": "code",
      "source": [
        "def windowed_dataset(series, time_step):\n",
        "    dataX, dataY = [], []\n",
        "    for i in range(len(series) - time_step - 1):\n",
        "        a = series[i : i + time_step]  # Remove the indexing with \", 0\"\n",
        "        dataX.append(a)\n",
        "        dataY.append(series[i + time_step])\n",
        "        \n",
        "    return np.array(dataX), np.array(dataY)"
      ],
      "metadata": {
        "id": "HNXnFWf8SJMT"
      },
      "execution_count": 34,
      "outputs": []
    },
    {
      "cell_type": "code",
      "source": [
        "X_train, y_train = windowed_dataset(train_data, time_step=7)\n",
        "X_test, y_test = windowed_dataset(test_data, time_step=7)"
      ],
      "metadata": {
        "id": "CrcXsapOSJXx"
      },
      "execution_count": 35,
      "outputs": []
    },
    {
      "cell_type": "code",
      "source": [
        "X_train.shape, y_train.shape, X_test.shape, y_test.shape"
      ],
      "metadata": {
        "colab": {
          "base_uri": "https://localhost:8080/"
        },
        "id": "lHZS3N7ASSwq",
        "outputId": "0037a088-1cfc-460e-ea9d-bd81347ce33d"
      },
      "execution_count": 36,
      "outputs": [
        {
          "output_type": "execute_result",
          "data": {
            "text/plain": [
              "((2775, 7), (2775,), (42, 7), (42,))"
            ]
          },
          "metadata": {},
          "execution_count": 36
        }
      ]
    },
    {
      "cell_type": "code",
      "source": [
        "X_train = X_train.reshape(X_train.shape[0], X_train.shape[1], 1)\n",
        "X_test = X_test.reshape(X_test.shape[0], X_test.shape[1], 1)\n",
        "\n",
        "print(X_train.shape) \n",
        "print(X_test.shape)"
      ],
      "metadata": {
        "colab": {
          "base_uri": "https://localhost:8080/"
        },
        "id": "vNyapBF2SV6B",
        "outputId": "5bbb6cb6-d1fa-4b9e-d8c3-9195f80d04ea"
      },
      "execution_count": 37,
      "outputs": [
        {
          "output_type": "stream",
          "name": "stdout",
          "text": [
            "(2775, 7, 1)\n",
            "(42, 7, 1)\n"
          ]
        }
      ]
    },
    {
      "cell_type": "code",
      "source": [
        "X_train[0]"
      ],
      "metadata": {
        "colab": {
          "base_uri": "https://localhost:8080/"
        },
        "id": "IRaIl8SQP2kz",
        "outputId": "d2958789-3361-4b03-8702-7b58692ba3f3"
      },
      "execution_count": 38,
      "outputs": [
        {
          "output_type": "execute_result",
          "data": {
            "text/plain": [
              "array([[2.77212 ],\n",
              "       [0.753325],\n",
              "       [0.701897],\n",
              "       [0.708448],\n",
              "       [1.06786 ],\n",
              "       [1.21744 ],\n",
              "       [1.82767 ]])"
            ]
          },
          "metadata": {},
          "execution_count": 38
        }
      ]
    },
    {
      "cell_type": "code",
      "source": [
        "import tensorflow as tf\n",
        "from tensorflow.keras import models, layers"
      ],
      "metadata": {
        "id": "poOi-84Ykab6"
      },
      "execution_count": 39,
      "outputs": []
    },
    {
      "cell_type": "code",
      "source": [
        "# Create the LSTM model\n",
        "model = models.Sequential()\n",
        "\n",
        "model.add(layers.Input(shape = (7, 1), dtype=tf.float32))\n",
        "# Add the Normalization layer\n",
        "model.add(layers.Normalization())\n",
        "\n",
        "# Specify the mean and variance for normalization\n",
        "model.layers[0].adapt(X_train)\n",
        "\n",
        "model.add(layers.LSTM(units=100, activation='relu', return_sequences=True))\n",
        "model.add(layers.Dropout(0.3))\n",
        "\n",
        "model.add(layers.LSTM(units=50, activation='relu', return_sequences=True))\n",
        "model.add(layers.Dropout(0.4))\n",
        "\n",
        "model.add(layers.LSTM(units=10, activation='relu'))\n",
        "model.add(layers.Dropout(0.2))\n",
        "\n",
        "model.add(layers.Dense(units=1))"
      ],
      "metadata": {
        "id": "25cXgPpbTMN5"
      },
      "execution_count": 59,
      "outputs": []
    },
    {
      "cell_type": "code",
      "source": [
        "model.summary()"
      ],
      "metadata": {
        "colab": {
          "base_uri": "https://localhost:8080/"
        },
        "id": "-IhqBiwCVKA_",
        "outputId": "c19485b3-7aa2-4957-c38a-57ede98949ce"
      },
      "execution_count": 60,
      "outputs": [
        {
          "output_type": "stream",
          "name": "stdout",
          "text": [
            "Model: \"sequential_2\"\n",
            "_________________________________________________________________\n",
            " Layer (type)                Output Shape              Param #   \n",
            "=================================================================\n",
            " normalization_2 (Normalizat  (None, 7, 1)             3         \n",
            " ion)                                                            \n",
            "                                                                 \n",
            " lstm_6 (LSTM)               (None, 7, 100)            40800     \n",
            "                                                                 \n",
            " dropout_6 (Dropout)         (None, 7, 100)            0         \n",
            "                                                                 \n",
            " lstm_7 (LSTM)               (None, 7, 50)             30200     \n",
            "                                                                 \n",
            " dropout_7 (Dropout)         (None, 7, 50)             0         \n",
            "                                                                 \n",
            " lstm_8 (LSTM)               (None, 10)                2440      \n",
            "                                                                 \n",
            " dropout_8 (Dropout)         (None, 10)                0         \n",
            "                                                                 \n",
            " dense_2 (Dense)             (None, 1)                 11        \n",
            "                                                                 \n",
            "=================================================================\n",
            "Total params: 73,454\n",
            "Trainable params: 73,451\n",
            "Non-trainable params: 3\n",
            "_________________________________________________________________\n"
          ]
        }
      ]
    },
    {
      "cell_type": "code",
      "source": [
        "model.compile(optimizer = 'adamax', loss = 'mse', metrics = 'mae')"
      ],
      "metadata": {
        "id": "a8vNqJrrXR-G"
      },
      "execution_count": 61,
      "outputs": []
    },
    {
      "cell_type": "code",
      "source": [
        "# Fitting the RNN to the Training set\n",
        "history = model.fit(X_train, y_train, validation_split=0.1, epochs = 30, batch_size = 32, verbose=1, shuffle=False)"
      ],
      "metadata": {
        "colab": {
          "base_uri": "https://localhost:8080/"
        },
        "id": "r8sNewtrVPyh",
        "outputId": "69e5b4e7-53a4-4016-a7f2-d28936f6bfe8"
      },
      "execution_count": 62,
      "outputs": [
        {
          "output_type": "stream",
          "name": "stdout",
          "text": [
            "Epoch 1/30\n",
            "79/79 [==============================] - 5s 16ms/step - loss: 1867268.7500 - mae: 760.4979 - val_loss: 2099715.7500 - val_mae: 1433.1194\n",
            "Epoch 2/30\n",
            "79/79 [==============================] - 1s 11ms/step - loss: 1805681.1250 - mae: 716.4205 - val_loss: 1968790.1250 - val_mae: 1385.4724\n",
            "Epoch 3/30\n",
            "79/79 [==============================] - 1s 11ms/step - loss: 1808428.1250 - mae: 821.5029 - val_loss: 1924255.1250 - val_mae: 1371.1132\n",
            "Epoch 4/30\n",
            "79/79 [==============================] - 1s 12ms/step - loss: 1339228.2500 - mae: 679.9426 - val_loss: 1432974.7500 - val_mae: 1181.8379\n",
            "Epoch 5/30\n",
            "79/79 [==============================] - 1s 12ms/step - loss: 482231.1562 - mae: 461.3914 - val_loss: 351375.7812 - val_mae: 573.8115\n",
            "Epoch 6/30\n",
            "79/79 [==============================] - 1s 11ms/step - loss: 679434.7500 - mae: 444.3993 - val_loss: 552372.7500 - val_mae: 728.7113\n",
            "Epoch 7/30\n",
            "79/79 [==============================] - 1s 12ms/step - loss: 316783.1250 - mae: 349.6941 - val_loss: 703664.6250 - val_mae: 825.8677\n",
            "Epoch 8/30\n",
            "79/79 [==============================] - 1s 11ms/step - loss: 295466.5938 - mae: 334.5726 - val_loss: 636161.1250 - val_mae: 784.0295\n",
            "Epoch 9/30\n",
            "79/79 [==============================] - 1s 15ms/step - loss: 269982.4375 - mae: 321.3982 - val_loss: 587894.9375 - val_mae: 752.6554\n",
            "Epoch 10/30\n",
            "79/79 [==============================] - 1s 17ms/step - loss: 283891.9062 - mae: 321.5166 - val_loss: 562712.5000 - val_mae: 735.7369\n",
            "Epoch 11/30\n",
            "79/79 [==============================] - 1s 13ms/step - loss: 281813.8750 - mae: 317.4701 - val_loss: 561209.0625 - val_mae: 734.6691\n",
            "Epoch 12/30\n",
            "79/79 [==============================] - 1s 11ms/step - loss: 278737.5938 - mae: 322.5482 - val_loss: 524014.9062 - val_mae: 708.9279\n",
            "Epoch 13/30\n",
            "79/79 [==============================] - 1s 11ms/step - loss: 264132.3438 - mae: 317.3998 - val_loss: 478345.5938 - val_mae: 676.0001\n",
            "Epoch 14/30\n",
            "79/79 [==============================] - 1s 11ms/step - loss: 268469.1562 - mae: 313.2678 - val_loss: 454284.3750 - val_mae: 657.9910\n",
            "Epoch 15/30\n",
            "79/79 [==============================] - 1s 12ms/step - loss: 262593.7500 - mae: 314.8425 - val_loss: 427890.9375 - val_mae: 637.6453\n",
            "Epoch 16/30\n",
            "79/79 [==============================] - 1s 11ms/step - loss: 243775.9219 - mae: 302.1344 - val_loss: 397115.4688 - val_mae: 613.0693\n",
            "Epoch 17/30\n",
            "79/79 [==============================] - 1s 11ms/step - loss: 224528.0156 - mae: 292.2935 - val_loss: 346518.5938 - val_mae: 570.4100\n",
            "Epoch 18/30\n",
            "79/79 [==============================] - 1s 11ms/step - loss: 238159.3750 - mae: 292.6107 - val_loss: 354225.2500 - val_mae: 577.1172\n",
            "Epoch 19/30\n",
            "79/79 [==============================] - 1s 11ms/step - loss: 228444.6562 - mae: 286.3947 - val_loss: 332999.8750 - val_mae: 558.5289\n",
            "Epoch 20/30\n",
            "79/79 [==============================] - 1s 12ms/step - loss: 200280.1875 - mae: 274.3777 - val_loss: 285864.2812 - val_mae: 515.0101\n",
            "Epoch 21/30\n",
            "79/79 [==============================] - 1s 11ms/step - loss: 219246.3906 - mae: 280.2809 - val_loss: 266616.2188 - val_mae: 496.1301\n",
            "Epoch 22/30\n",
            "79/79 [==============================] - 1s 13ms/step - loss: 187038.5312 - mae: 256.3309 - val_loss: 225580.2344 - val_mae: 453.2772\n",
            "Epoch 23/30\n",
            "79/79 [==============================] - 1s 17ms/step - loss: 194906.7344 - mae: 258.7517 - val_loss: 207439.8438 - val_mae: 433.2997\n",
            "Epoch 24/30\n",
            "79/79 [==============================] - 1s 16ms/step - loss: 182205.4688 - mae: 248.0822 - val_loss: 173045.0938 - val_mae: 392.8736\n",
            "Epoch 25/30\n",
            "79/79 [==============================] - 1s 11ms/step - loss: 181075.8438 - mae: 240.6392 - val_loss: 177532.4531 - val_mae: 398.2189\n",
            "Epoch 26/30\n",
            "79/79 [==============================] - 1s 11ms/step - loss: 186072.4219 - mae: 238.2290 - val_loss: 140905.6719 - val_mae: 350.5735\n",
            "Epoch 27/30\n",
            "79/79 [==============================] - 1s 11ms/step - loss: 176688.5000 - mae: 228.8746 - val_loss: 120393.2422 - val_mae: 320.6189\n",
            "Epoch 28/30\n",
            "79/79 [==============================] - 1s 12ms/step - loss: 159714.2031 - mae: 217.5323 - val_loss: 87377.2500 - val_mae: 266.2380\n",
            "Epoch 29/30\n",
            "79/79 [==============================] - 1s 11ms/step - loss: 164123.2500 - mae: 213.3448 - val_loss: 65993.5938 - val_mae: 225.2035\n",
            "Epoch 30/30\n",
            "79/79 [==============================] - 1s 11ms/step - loss: 157595.0312 - mae: 203.4315 - val_loss: 57349.0898 - val_mae: 206.4059\n"
          ]
        }
      ]
    },
    {
      "cell_type": "code",
      "source": [
        "plt.figure(figsize=(16,7))\n",
        "plt.plot(history.history[\"loss\"], label= \"train loss\")\n",
        "plt.plot(history.history[\"val_loss\"], label= \"validation loss\")\n",
        "plt.legend();"
      ],
      "metadata": {
        "colab": {
          "base_uri": "https://localhost:8080/",
          "height": 528
        },
        "id": "LrXki-umXP8V",
        "outputId": "d4215754-36f9-4d3f-8859-1cc18f2ac448"
      },
      "execution_count": 63,
      "outputs": [
        {
          "output_type": "display_data",
          "data": {
            "text/plain": [
              "<Figure size 1600x700 with 1 Axes>"
            ],
            "image/png": "[encoded data removed]"
          },
          "metadata": {}
        }
      ]
    },
    {
      "cell_type": "code",
      "source": [
        "train_predict = model.predict(X_train)\n",
        "test_predict = model.predict(X_test)"
      ],
      "metadata": {
        "colab": {
          "base_uri": "https://localhost:8080/"
        },
        "id": "SXJeCP6NXjtc",
        "outputId": "26358115-f1b4-4b2e-9075-99fed2e64280"
      },
      "execution_count": 64,
      "outputs": [
        {
          "output_type": "stream",
          "name": "stdout",
          "text": [
            "87/87 [==============================] - 1s 3ms/step\n",
            "2/2 [==============================] - 0s 5ms/step\n"
          ]
        }
      ]
    },
    {
      "cell_type": "code",
      "source": [
        "plt.figure(figsize=(16,7))\n",
        "plt.plot(y_test.flatten(), marker='.', label=\"Actual\")\n",
        "plt.plot(test_predict.flatten(), 'r', marker='.', label=\"Predicted\")\n",
        "plt.legend();"
      ],
      "metadata": {
        "colab": {
          "base_uri": "https://localhost:8080/",
          "height": 514
        },
        "id": "aDRR_XonXoTg",
        "outputId": "4544f467-c734-4e91-8d97-077968446857"
      },
      "execution_count": 65,
      "outputs": [
        {
          "output_type": "display_data",
          "data": {
            "text/plain": [
              "<Figure size 1600x700 with 1 Axes>"
            ],
            "image/png": "[encoded data removed]"
          },
          "metadata": {}
        }
      ]
    },
    {
      "cell_type": "code",
      "source": [
        "from sklearn.metrics import mean_absolute_error, mean_squared_error\n",
        "\n",
        "train_RMSE = np.sqrt(mean_squared_error(y_train, train_predict))\n",
        "test_RMSE = np.sqrt(mean_squared_error(y_test, test_predict))\n",
        "train_MAE = np.sqrt(mean_absolute_error(y_train, train_predict))\n",
        "test_MAE = np.sqrt(mean_absolute_error(y_test, test_predict))\n",
        "\n",
        "\n",
        "print(f\"Train RMSE: {train_RMSE}\")\n",
        "print(f\"Train MAE: {train_MAE}\")\n",
        "\n",
        "print(f\"Test RMSE: {test_RMSE}\")\n",
        "print(f\"Test MAE: {test_MAE}\")"
      ],
      "metadata": {
        "colab": {
          "base_uri": "https://localhost:8080/"
        },
        "id": "n8bwLaVrXoqO",
        "outputId": "1421e745-9382-4225-cf62-6e95b87b6eaf"
      },
      "execution_count": 66,
      "outputs": [
        {
          "output_type": "stream",
          "name": "stdout",
          "text": [
            "Train RMSE: 220.42648875217944\n",
            "Train MAE: 11.932202862986676\n",
            "Test RMSE: 331.60805476105827\n",
            "Test MAE: 17.722146953812615\n"
          ]
        }
      ]
    },
    {
      "cell_type": "markdown",
      "source": [
        "# at Inference"
      ],
      "metadata": {
        "id": "kdaXuZYhlE_x"
      }
    },
    {
      "cell_type": "code",
      "source": [
        "model.save(\"Price_Prediction\")"
      ],
      "metadata": {
        "colab": {
          "base_uri": "https://localhost:8080/"
        },
        "id": "mYHkypxhk9cH",
        "outputId": "0d1c8b80-df5e-4ffd-d7a2-c2307bcfd9b8"
      },
      "execution_count": 107,
      "outputs": [
        {
          "output_type": "stream",
          "name": "stderr",
          "text": [
            "WARNING:absl:Found untraced functions such as _update_step_xla while saving (showing 1 of 1). These functions will not be directly callable after loading.\n"
          ]
        }
      ]
    },
    {
      "cell_type": "code",
      "source": [
        "import tensorflow as tf\n",
        "import numpy as np"
      ],
      "metadata": {
        "id": "dOotGRTfn3Sd"
      },
      "execution_count": 5,
      "outputs": []
    },
    {
      "cell_type": "code",
      "source": [
        "model = tf.keras.saving.load_model(\"/content/Price_pred.h5\")"
      ],
      "metadata": {
        "id": "aons6uoDk9fV"
      },
      "execution_count": 49,
      "outputs": []
    },
    {
      "cell_type": "code",
      "source": [
        "%cp -av /content/Price_Prediction /content/drive/MyDrive/Price_Prediction_model"
      ],
      "metadata": {
        "colab": {
          "base_uri": "https://localhost:8080/"
        },
        "id": "zR_uT07bk9ih",
        "outputId": "39e8ae71-3ab6-4322-e5f9-cb6b6a985776"
      },
      "execution_count": 110,
      "outputs": [
        {
          "output_type": "stream",
          "name": "stdout",
          "text": [
            "'/content/Price_Prediction' -> '/content/drive/MyDrive/Price_Prediction_model/Price_Prediction'\n",
            "'/content/Price_Prediction/variables' -> '/content/drive/MyDrive/Price_Prediction_model/Price_Prediction/variables'\n",
            "'/content/Price_Prediction/variables/variables.data-00000-of-00001' -> '/content/drive/MyDrive/Price_Prediction_model/Price_Prediction/variables/variables.data-00000-of-00001'\n",
            "'/content/Price_Prediction/variables/variables.index' -> '/content/drive/MyDrive/Price_Prediction_model/Price_Prediction/variables/variables.index'\n",
            "'/content/Price_Prediction/assets' -> '/content/drive/MyDrive/Price_Prediction_model/Price_Prediction/assets'\n",
            "'/content/Price_Prediction/fingerprint.pb' -> '/content/drive/MyDrive/Price_Prediction_model/Price_Prediction/fingerprint.pb'\n",
            "'/content/Price_Prediction/saved_model.pb' -> '/content/drive/MyDrive/Price_Prediction_model/Price_Prediction/saved_model.pb'\n",
            "'/content/Price_Prediction/keras_metadata.pb' -> '/content/drive/MyDrive/Price_Prediction_model/Price_Prediction/keras_metadata.pb'\n"
          ]
        }
      ]
    },
    {
      "cell_type": "code",
      "source": [
        "X_test[0].shape"
      ],
      "metadata": {
        "colab": {
          "base_uri": "https://localhost:8080/"
        },
        "id": "rUKUT-QaaaKt",
        "outputId": "42a2a797-6a99-4d10-8143-fb0ca2c642f2"
      },
      "execution_count": 111,
      "outputs": [
        {
          "output_type": "execute_result",
          "data": {
            "text/plain": [
              "(7, 1)"
            ]
          },
          "metadata": {},
          "execution_count": 111
        }
      ]
    },
    {
      "cell_type": "code",
      "source": [],
      "metadata": {
        "id": "sOTsOQ_AohXj"
      },
      "execution_count": null,
      "outputs": []
    },
    {
      "cell_type": "code",
      "source": [
        "prices = np.array([[1803.54], [1734.48], [1814.08], [1749.26], [1742.34], [1774.06], [1714.65]])\n",
        "\n",
        "prices = prices.reshape(1, -1, 1)\n",
        "prediction_price = model.predict(prices)\n",
        "prediction_price = prediction_price[0][0]\n",
        "print(\"Prediction Price: \", prediction_price)"
      ],
      "metadata": {
        "id": "ae5tO4X4bCIB",
        "colab": {
          "base_uri": "https://localhost:8080/"
        },
        "outputId": "64c63bd7-7855-4191-9888-7349ce38d65f"
      },
      "execution_count": 50,
      "outputs": [
        {
          "output_type": "stream",
          "name": "stdout",
          "text": [
            "1/1 [==============================] - 0s 295ms/step\n",
            "Prediction Price:  1563.2938\n"
          ]
        }
      ]
    },
    {
      "cell_type": "code",
      "source": [
        "def get_upper_lower(price):\n",
        "  std_dev = np.std(prices)\n",
        "  interval = 1.96 * std_dev \n",
        "  preds_mean = np.mean(prices)\n",
        "  lower, upper = preds_mean - interval, preds_mean + interval\n",
        "  return lower, upper"
      ],
      "metadata": {
        "id": "oqgNRT5q1vAF"
      },
      "execution_count": 86,
      "outputs": []
    },
    {
      "cell_type": "code",
      "source": [
        "# Get the upper and lower bounds of the 95% \n",
        "lower, upper = get_upper_lower(price=prices)\n",
        "array = [prediction_price, lower, upper]\n",
        "\n",
        "print(\"Predicted Ethereum Price: {0:.2f} \\nMinimum Price Range:{1:.2f} \\nMaximum Price Range:{2:.2f}\".format(*array))"
      ],
      "metadata": {
        "colab": {
          "base_uri": "https://localhost:8080/"
        },
        "id": "3zKBhqE-mehR",
        "outputId": "749a5054-a714-46dd-9043-841189f75829"
      },
      "execution_count": 94,
      "outputs": [
        {
          "output_type": "stream",
          "name": "stdout",
          "text": [
            "Predicted Ethereum Price: 1563.29 \n",
            "Minimum Price Range:1694.97 \n",
            "Maximum Price Range:1828.57\n"
          ]
        }
      ]
    },
    {
      "cell_type": "code",
      "source": [
        "tf.__version__"
      ],
      "metadata": {
        "colab": {
          "base_uri": "https://localhost:8080/",
          "height": 36
        },
        "id": "3zHdsckN0-HS",
        "outputId": "c61311ae-1dbe-4584-b7d0-d841dbdf5eda"
      },
      "execution_count": 95,
      "outputs": [
        {
          "output_type": "execute_result",
          "data": {
            "text/plain": [
              "'2.12.0'"
            ],
            "application/vnd.google.colaboratory.intrinsic+json": {
              "type": "string"
            }
          },
          "metadata": {},
          "execution_count": 95
        }
      ]
    },
    {
      "cell_type": "code",
      "source": [],
      "metadata": {
        "id": "HSrimdY780m5"
      },
      "execution_count": null,
      "outputs": []
    }
  ]
}