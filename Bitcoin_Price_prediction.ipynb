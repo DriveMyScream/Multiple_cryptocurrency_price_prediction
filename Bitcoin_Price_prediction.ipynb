{
  "nbformat": 4,
  "nbformat_minor": 0,
  "metadata": {
    "colab": {
      "provenance": []
    },
    "kernelspec": {
      "name": "python3",
      "display_name": "Python 3"
    },
    "language_info": {
      "name": "python"
    }
  },
  "cells": [
    {
      "cell_type": "markdown",
      "source": [
        "# Imports"
      ],
      "metadata": {
        "id": "9nxMubEyjk_-"
      }
    },
    {
      "cell_type": "code",
      "execution_count": 1,
      "metadata": {
        "id": "RKhvtAXGqQaU"
      },
      "outputs": [],
      "source": [
        "import numpy as np\n",
        "import pandas as pd\n",
        "import matplotlib.pyplot as plt\n",
        "import seaborn as sns\n",
        "import tensorflow as tf"
      ]
    },
    {
      "cell_type": "markdown",
      "source": [
        "# data Loading"
      ],
      "metadata": {
        "id": "ik0QY4cljp9X"
      }
    },
    {
      "cell_type": "code",
      "source": [
        "data_path = \"https://raw.githubusercontent.com/DriveMyScream/Multiple_Stock_Price_Prediction/main/Bitcoin%20Historical%20Data%20-%20Investing.com%20India.csv\"\n",
        "dataset = pd.read_csv(data_path, parse_dates=['Date'])\n",
        "dataset.head(5)"
      ],
      "metadata": {
        "colab": {
          "base_uri": "https://localhost:8080/",
          "height": 206
        },
        "id": "fgiZJaKiru3f",
        "outputId": "afb0d5a3-c4f7-4af9-a78a-dd30af6d8395"
      },
      "execution_count": 13,
      "outputs": [
        {
          "output_type": "execute_result",
          "data": {
            "text/plain": [
              "        Date     Price      Open      High       Low    Vol. Change %\n",
              "0 2023-05-15  27,196.6  26,920.4  27,284.3  26,752.1  32.80K    1.03%\n",
              "1 2023-05-14  26,920.0  26,777.4  27,176.1  26,609.9  26.35K    0.53%\n",
              "2 2023-05-13  26,777.5  26,798.7  27,011.9  26,695.6  27.95K   -0.08%\n",
              "3 2023-05-12  26,799.2  26,983.1  27,044.0  25,853.1  87.49K   -0.68%\n",
              "4 2023-05-11  26,983.5  27,604.3  27,607.4  26,766.2  62.85K   -2.25%"
            ],
            "text/html": [
              "\n",
              "  <div id=\"df-7e88ec77-d973-474a-ac72-2976138897d4\">\n",
              "    <div class=\"colab-df-container\">\n",
              "      <div>\n",
              "<style scoped>\n",
              "    .dataframe tbody tr th:only-of-type {\n",
              "        vertical-align: middle;\n",
              "    }\n",
              "\n",
              "    .dataframe tbody tr th {\n",
              "        vertical-align: top;\n",
              "    }\n",
              "\n",
              "    .dataframe thead th {\n",
              "        text-align: right;\n",
              "    }\n",
              "</style>\n",
              "<table border=\"1\" class=\"dataframe\">\n",
              "  <thead>\n",
              "    <tr style=\"text-align: right;\">\n",
              "      <th></th>\n",
              "      <th>Date</th>\n",
              "      <th>Price</th>\n",
              "      <th>Open</th>\n",
              "      <th>High</th>\n",
              "      <th>Low</th>\n",
              "      <th>Vol.</th>\n",
              "      <th>Change %</th>\n",
              "    </tr>\n",
              "  </thead>\n",
              "  <tbody>\n",
              "    <tr>\n",
              "      <th>0</th>\n",
              "      <td>2023-05-15</td>\n",
              "      <td>27,196.6</td>\n",
              "      <td>26,920.4</td>\n",
              "      <td>27,284.3</td>\n",
              "      <td>26,752.1</td>\n",
              "      <td>32.80K</td>\n",
              "      <td>1.03%</td>\n",
              "    </tr>\n",
              "    <tr>\n",
              "      <th>1</th>\n",
              "      <td>2023-05-14</td>\n",
              "      <td>26,920.0</td>\n",
              "      <td>26,777.4</td>\n",
              "      <td>27,176.1</td>\n",
              "      <td>26,609.9</td>\n",
              "      <td>26.35K</td>\n",
              "      <td>0.53%</td>\n",
              "    </tr>\n",
              "    <tr>\n",
              "      <th>2</th>\n",
              "      <td>2023-05-13</td>\n",
              "      <td>26,777.5</td>\n",
              "      <td>26,798.7</td>\n",
              "      <td>27,011.9</td>\n",
              "      <td>26,695.6</td>\n",
              "      <td>27.95K</td>\n",
              "      <td>-0.08%</td>\n",
              "    </tr>\n",
              "    <tr>\n",
              "      <th>3</th>\n",
              "      <td>2023-05-12</td>\n",
              "      <td>26,799.2</td>\n",
              "      <td>26,983.1</td>\n",
              "      <td>27,044.0</td>\n",
              "      <td>25,853.1</td>\n",
              "      <td>87.49K</td>\n",
              "      <td>-0.68%</td>\n",
              "    </tr>\n",
              "    <tr>\n",
              "      <th>4</th>\n",
              "      <td>2023-05-11</td>\n",
              "      <td>26,983.5</td>\n",
              "      <td>27,604.3</td>\n",
              "      <td>27,607.4</td>\n",
              "      <td>26,766.2</td>\n",
              "      <td>62.85K</td>\n",
              "      <td>-2.25%</td>\n",
              "    </tr>\n",
              "  </tbody>\n",
              "</table>\n",
              "</div>\n",
              "      <button class=\"colab-df-convert\" onclick=\"convertToInteractive('df-7e88ec77-d973-474a-ac72-2976138897d4')\"\n",
              "              title=\"Convert this dataframe to an interactive table.\"\n",
              "              style=\"display:none;\">\n",
              "        \n",
              "  <svg xmlns=\"http://www.w3.org/2000/svg\" height=\"24px\"viewBox=\"0 0 24 24\"\n",
              "       width=\"24px\">\n",
              "    <path d=\"M0 0h24v24H0V0z\" fill=\"none\"/>\n",
              "    <path d=\"M18.56 5.44l.94 2.06.94-2.06 2.06-.94-2.06-.94-.94-2.06-.94 2.06-2.06.94zm-11 1L8.5 8.5l.94-2.06 2.06-.94-2.06-.94L8.5 2.5l-.94 2.06-2.06.94zm10 10l.94 2.06.94-2.06 2.06-.94-2.06-.94-.94-2.06-.94 2.06-2.06.94z\"/><path d=\"M17.41 7.96l-1.37-1.37c-.4-.4-.92-.59-1.43-.59-.52 0-1.04.2-1.43.59L10.3 9.45l-7.72 7.72c-.78.78-.78 2.05 0 2.83L4 21.41c.39.39.9.59 1.41.59.51 0 1.02-.2 1.41-.59l7.78-7.78 2.81-2.81c.8-.78.8-2.07 0-2.86zM5.41 20L4 18.59l7.72-7.72 1.47 1.35L5.41 20z\"/>\n",
              "  </svg>\n",
              "      </button>\n",
              "      \n",
              "  <style>\n",
              "    .colab-df-container {\n",
              "      display:flex;\n",
              "      flex-wrap:wrap;\n",
              "      gap: 12px;\n",
              "    }\n",
              "\n",
              "    .colab-df-convert {\n",
              "      background-color: #E8F0FE;\n",
              "      border: none;\n",
              "      border-radius: 50%;\n",
              "      cursor: pointer;\n",
              "      display: none;\n",
              "      fill: #1967D2;\n",
              "      height: 32px;\n",
              "      padding: 0 0 0 0;\n",
              "      width: 32px;\n",
              "    }\n",
              "\n",
              "    .colab-df-convert:hover {\n",
              "      background-color: #E2EBFA;\n",
              "      box-shadow: 0px 1px 2px rgba(60, 64, 67, 0.3), 0px 1px 3px 1px rgba(60, 64, 67, 0.15);\n",
              "      fill: #174EA6;\n",
              "    }\n",
              "\n",
              "    [theme=dark] .colab-df-convert {\n",
              "      background-color: #3B4455;\n",
              "      fill: #D2E3FC;\n",
              "    }\n",
              "\n",
              "    [theme=dark] .colab-df-convert:hover {\n",
              "      background-color: #434B5C;\n",
              "      box-shadow: 0px 1px 3px 1px rgba(0, 0, 0, 0.15);\n",
              "      filter: drop-shadow(0px 1px 2px rgba(0, 0, 0, 0.3));\n",
              "      fill: #FFFFFF;\n",
              "    }\n",
              "  </style>\n",
              "\n",
              "      <script>\n",
              "        const buttonEl =\n",
              "          document.querySelector('#df-7e88ec77-d973-474a-ac72-2976138897d4 button.colab-df-convert');\n",
              "        buttonEl.style.display =\n",
              "          google.colab.kernel.accessAllowed ? 'block' : 'none';\n",
              "\n",
              "        async function convertToInteractive(key) {\n",
              "          const element = document.querySelector('#df-7e88ec77-d973-474a-ac72-2976138897d4');\n",
              "          const dataTable =\n",
              "            await google.colab.kernel.invokeFunction('convertToInteractive',\n",
              "                                                     [key], {});\n",
              "          if (!dataTable) return;\n",
              "\n",
              "          const docLinkHtml = 'Like what you see? Visit the ' +\n",
              "            '<a target=\"_blank\" href=https://colab.research.google.com/notebooks/data_table.ipynb>data table notebook</a>'\n",
              "            + ' to learn more about interactive tables.';\n",
              "          element.innerHTML = '';\n",
              "          dataTable['output_type'] = 'display_data';\n",
              "          await google.colab.output.renderOutput(dataTable, element);\n",
              "          const docLink = document.createElement('div');\n",
              "          docLink.innerHTML = docLinkHtml;\n",
              "          element.appendChild(docLink);\n",
              "        }\n",
              "      </script>\n",
              "    </div>\n",
              "  </div>\n",
              "  "
            ]
          },
          "metadata": {},
          "execution_count": 13
        }
      ]
    },
    {
      "cell_type": "code",
      "source": [
        "dataset = dataset[::-1]\n",
        "dataset.head(5)"
      ],
      "metadata": {
        "colab": {
          "base_uri": "https://localhost:8080/",
          "height": 206
        },
        "id": "KJ0dazvposMC",
        "outputId": "6fc5d394-6b75-498a-f5d3-a9bcea73e6d1"
      },
      "execution_count": 15,
      "outputs": [
        {
          "output_type": "execute_result",
          "data": {
            "text/plain": [
              "           Date     Price      Open      High       Low     Vol. Change %\n",
              "1960 2018-01-01  13,444.9  13,850.5  13,921.5  12,877.7   78.43K   -2.93%\n",
              "1959 2018-01-02  14,754.1  13,444.9  15,306.1  12,934.2  137.73K    9.74%\n",
              "1958 2018-01-03  15,156.6  14,754.1  15,435.0  14,579.7  106.54K    2.73%\n",
              "1957 2018-01-04  15,180.1  15,156.5  15,408.7  14,244.7  110.97K    0.15%\n",
              "1956 2018-01-05  16,954.8  15,180.1  17,126.9  14,832.4  141.96K   11.69%"
            ],
            "text/html": [
              "\n",
              "  <div id=\"df-9f20dab6-2792-4728-b9d7-54ed6da71250\">\n",
              "    <div class=\"colab-df-container\">\n",
              "      <div>\n",
              "<style scoped>\n",
              "    .dataframe tbody tr th:only-of-type {\n",
              "        vertical-align: middle;\n",
              "    }\n",
              "\n",
              "    .dataframe tbody tr th {\n",
              "        vertical-align: top;\n",
              "    }\n",
              "\n",
              "    .dataframe thead th {\n",
              "        text-align: right;\n",
              "    }\n",
              "</style>\n",
              "<table border=\"1\" class=\"dataframe\">\n",
              "  <thead>\n",
              "    <tr style=\"text-align: right;\">\n",
              "      <th></th>\n",
              "      <th>Date</th>\n",
              "      <th>Price</th>\n",
              "      <th>Open</th>\n",
              "      <th>High</th>\n",
              "      <th>Low</th>\n",
              "      <th>Vol.</th>\n",
              "      <th>Change %</th>\n",
              "    </tr>\n",
              "  </thead>\n",
              "  <tbody>\n",
              "    <tr>\n",
              "      <th>1960</th>\n",
              "      <td>2018-01-01</td>\n",
              "      <td>13,444.9</td>\n",
              "      <td>13,850.5</td>\n",
              "      <td>13,921.5</td>\n",
              "      <td>12,877.7</td>\n",
              "      <td>78.43K</td>\n",
              "      <td>-2.93%</td>\n",
              "    </tr>\n",
              "    <tr>\n",
              "      <th>1959</th>\n",
              "      <td>2018-01-02</td>\n",
              "      <td>14,754.1</td>\n",
              "      <td>13,444.9</td>\n",
              "      <td>15,306.1</td>\n",
              "      <td>12,934.2</td>\n",
              "      <td>137.73K</td>\n",
              "      <td>9.74%</td>\n",
              "    </tr>\n",
              "    <tr>\n",
              "      <th>1958</th>\n",
              "      <td>2018-01-03</td>\n",
              "      <td>15,156.6</td>\n",
              "      <td>14,754.1</td>\n",
              "      <td>15,435.0</td>\n",
              "      <td>14,579.7</td>\n",
              "      <td>106.54K</td>\n",
              "      <td>2.73%</td>\n",
              "    </tr>\n",
              "    <tr>\n",
              "      <th>1957</th>\n",
              "      <td>2018-01-04</td>\n",
              "      <td>15,180.1</td>\n",
              "      <td>15,156.5</td>\n",
              "      <td>15,408.7</td>\n",
              "      <td>14,244.7</td>\n",
              "      <td>110.97K</td>\n",
              "      <td>0.15%</td>\n",
              "    </tr>\n",
              "    <tr>\n",
              "      <th>1956</th>\n",
              "      <td>2018-01-05</td>\n",
              "      <td>16,954.8</td>\n",
              "      <td>15,180.1</td>\n",
              "      <td>17,126.9</td>\n",
              "      <td>14,832.4</td>\n",
              "      <td>141.96K</td>\n",
              "      <td>11.69%</td>\n",
              "    </tr>\n",
              "  </tbody>\n",
              "</table>\n",
              "</div>\n",
              "      <button class=\"colab-df-convert\" onclick=\"convertToInteractive('df-9f20dab6-2792-4728-b9d7-54ed6da71250')\"\n",
              "              title=\"Convert this dataframe to an interactive table.\"\n",
              "              style=\"display:none;\">\n",
              "        \n",
              "  <svg xmlns=\"http://www.w3.org/2000/svg\" height=\"24px\"viewBox=\"0 0 24 24\"\n",
              "       width=\"24px\">\n",
              "    <path d=\"M0 0h24v24H0V0z\" fill=\"none\"/>\n",
              "    <path d=\"M18.56 5.44l.94 2.06.94-2.06 2.06-.94-2.06-.94-.94-2.06-.94 2.06-2.06.94zm-11 1L8.5 8.5l.94-2.06 2.06-.94-2.06-.94L8.5 2.5l-.94 2.06-2.06.94zm10 10l.94 2.06.94-2.06 2.06-.94-2.06-.94-.94-2.06-.94 2.06-2.06.94z\"/><path d=\"M17.41 7.96l-1.37-1.37c-.4-.4-.92-.59-1.43-.59-.52 0-1.04.2-1.43.59L10.3 9.45l-7.72 7.72c-.78.78-.78 2.05 0 2.83L4 21.41c.39.39.9.59 1.41.59.51 0 1.02-.2 1.41-.59l7.78-7.78 2.81-2.81c.8-.78.8-2.07 0-2.86zM5.41 20L4 18.59l7.72-7.72 1.47 1.35L5.41 20z\"/>\n",
              "  </svg>\n",
              "      </button>\n",
              "      \n",
              "  <style>\n",
              "    .colab-df-container {\n",
              "      display:flex;\n",
              "      flex-wrap:wrap;\n",
              "      gap: 12px;\n",
              "    }\n",
              "\n",
              "    .colab-df-convert {\n",
              "      background-color: #E8F0FE;\n",
              "      border: none;\n",
              "      border-radius: 50%;\n",
              "      cursor: pointer;\n",
              "      display: none;\n",
              "      fill: #1967D2;\n",
              "      height: 32px;\n",
              "      padding: 0 0 0 0;\n",
              "      width: 32px;\n",
              "    }\n",
              "\n",
              "    .colab-df-convert:hover {\n",
              "      background-color: #E2EBFA;\n",
              "      box-shadow: 0px 1px 2px rgba(60, 64, 67, 0.3), 0px 1px 3px 1px rgba(60, 64, 67, 0.15);\n",
              "      fill: #174EA6;\n",
              "    }\n",
              "\n",
              "    [theme=dark] .colab-df-convert {\n",
              "      background-color: #3B4455;\n",
              "      fill: #D2E3FC;\n",
              "    }\n",
              "\n",
              "    [theme=dark] .colab-df-convert:hover {\n",
              "      background-color: #434B5C;\n",
              "      box-shadow: 0px 1px 3px 1px rgba(0, 0, 0, 0.15);\n",
              "      filter: drop-shadow(0px 1px 2px rgba(0, 0, 0, 0.3));\n",
              "      fill: #FFFFFF;\n",
              "    }\n",
              "  </style>\n",
              "\n",
              "      <script>\n",
              "        const buttonEl =\n",
              "          document.querySelector('#df-9f20dab6-2792-4728-b9d7-54ed6da71250 button.colab-df-convert');\n",
              "        buttonEl.style.display =\n",
              "          google.colab.kernel.accessAllowed ? 'block' : 'none';\n",
              "\n",
              "        async function convertToInteractive(key) {\n",
              "          const element = document.querySelector('#df-9f20dab6-2792-4728-b9d7-54ed6da71250');\n",
              "          const dataTable =\n",
              "            await google.colab.kernel.invokeFunction('convertToInteractive',\n",
              "                                                     [key], {});\n",
              "          if (!dataTable) return;\n",
              "\n",
              "          const docLinkHtml = 'Like what you see? Visit the ' +\n",
              "            '<a target=\"_blank\" href=https://colab.research.google.com/notebooks/data_table.ipynb>data table notebook</a>'\n",
              "            + ' to learn more about interactive tables.';\n",
              "          element.innerHTML = '';\n",
              "          dataTable['output_type'] = 'display_data';\n",
              "          await google.colab.output.renderOutput(dataTable, element);\n",
              "          const docLink = document.createElement('div');\n",
              "          docLink.innerHTML = docLinkHtml;\n",
              "          element.appendChild(docLink);\n",
              "        }\n",
              "      </script>\n",
              "    </div>\n",
              "  </div>\n",
              "  "
            ]
          },
          "metadata": {},
          "execution_count": 15
        }
      ]
    },
    {
      "cell_type": "code",
      "source": [
        "def parse_float(string_value):\n",
        "  cleaned_string = string_value.replace(\",\", \"\")\n",
        "  float_value = float(cleaned_string)\n",
        "  return float_value"
      ],
      "metadata": {
        "id": "YjC41gtmo9FZ"
      },
      "execution_count": 16,
      "outputs": []
    },
    {
      "cell_type": "code",
      "source": [
        "dataset['Open'] = dataset['Open'].astype(str).apply(parse_float)\n",
        "dataset['High'] = dataset['High'].astype(str).apply(parse_float)\n",
        "dataset['Low'] = dataset['Low'].astype(str).apply(parse_float)\n",
        "dataset['Price'] = dataset['Price'].astype(str).apply(parse_float)"
      ],
      "metadata": {
        "id": "CHKjmOt9pFpL"
      },
      "execution_count": 17,
      "outputs": []
    },
    {
      "cell_type": "code",
      "source": [
        "dataset.info()"
      ],
      "metadata": {
        "colab": {
          "base_uri": "https://localhost:8080/"
        },
        "id": "MfZx29TtIg6o",
        "outputId": "1d05bcaa-940c-4d40-8dc7-91ba1959a52a"
      },
      "execution_count": 18,
      "outputs": [
        {
          "output_type": "stream",
          "name": "stdout",
          "text": [
            "<class 'pandas.core.frame.DataFrame'>\n",
            "RangeIndex: 1961 entries, 1960 to 0\n",
            "Data columns (total 7 columns):\n",
            " #   Column    Non-Null Count  Dtype         \n",
            "---  ------    --------------  -----         \n",
            " 0   Date      1961 non-null   datetime64[ns]\n",
            " 1   Price     1961 non-null   float64       \n",
            " 2   Open      1961 non-null   float64       \n",
            " 3   High      1961 non-null   float64       \n",
            " 4   Low       1961 non-null   float64       \n",
            " 5   Vol.      1961 non-null   object        \n",
            " 6   Change %  1961 non-null   object        \n",
            "dtypes: datetime64[ns](1), float64(4), object(2)\n",
            "memory usage: 107.4+ KB\n"
          ]
        }
      ]
    },
    {
      "cell_type": "code",
      "source": [
        "dataset.describe()"
      ],
      "metadata": {
        "colab": {
          "base_uri": "https://localhost:8080/",
          "height": 300
        },
        "id": "3WAKsVDcKpB-",
        "outputId": "d5ca9dc5-b4c5-48ca-bbc1-afeb1c190bbc"
      },
      "execution_count": 19,
      "outputs": [
        {
          "output_type": "execute_result",
          "data": {
            "text/plain": [
              "              Price          Open          High           Low\n",
              "count   1961.000000   1961.000000   1961.000000   1961.000000\n",
              "mean   20626.350127  20619.737991  21149.574503  20027.474350\n",
              "std    16453.351157  16453.517257  16895.648915  15947.276149\n",
              "min     3228.700000   3228.600000   3282.300000   3177.000000\n",
              "25%     7970.100000   7971.400000   8185.100000   7754.100000\n",
              "50%    11753.400000  11752.900000  11964.000000  11406.400000\n",
              "75%    31367.600000  31370.300000  32377.500000  29911.900000\n",
              "max    67527.900000  67528.700000  68990.600000  66334.900000"
            ],
            "text/html": [
              "\n",
              "  <div id=\"df-467db75f-261c-44b5-88d4-41b289c64b10\">\n",
              "    <div class=\"colab-df-container\">\n",
              "      <div>\n",
              "<style scoped>\n",
              "    .dataframe tbody tr th:only-of-type {\n",
              "        vertical-align: middle;\n",
              "    }\n",
              "\n",
              "    .dataframe tbody tr th {\n",
              "        vertical-align: top;\n",
              "    }\n",
              "\n",
              "    .dataframe thead th {\n",
              "        text-align: right;\n",
              "    }\n",
              "</style>\n",
              "<table border=\"1\" class=\"dataframe\">\n",
              "  <thead>\n",
              "    <tr style=\"text-align: right;\">\n",
              "      <th></th>\n",
              "      <th>Price</th>\n",
              "      <th>Open</th>\n",
              "      <th>High</th>\n",
              "      <th>Low</th>\n",
              "    </tr>\n",
              "  </thead>\n",
              "  <tbody>\n",
              "    <tr>\n",
              "      <th>count</th>\n",
              "      <td>1961.000000</td>\n",
              "      <td>1961.000000</td>\n",
              "      <td>1961.000000</td>\n",
              "      <td>1961.000000</td>\n",
              "    </tr>\n",
              "    <tr>\n",
              "      <th>mean</th>\n",
              "      <td>20626.350127</td>\n",
              "      <td>20619.737991</td>\n",
              "      <td>21149.574503</td>\n",
              "      <td>20027.474350</td>\n",
              "    </tr>\n",
              "    <tr>\n",
              "      <th>std</th>\n",
              "      <td>16453.351157</td>\n",
              "      <td>16453.517257</td>\n",
              "      <td>16895.648915</td>\n",
              "      <td>15947.276149</td>\n",
              "    </tr>\n",
              "    <tr>\n",
              "      <th>min</th>\n",
              "      <td>3228.700000</td>\n",
              "      <td>3228.600000</td>\n",
              "      <td>3282.300000</td>\n",
              "      <td>3177.000000</td>\n",
              "    </tr>\n",
              "    <tr>\n",
              "      <th>25%</th>\n",
              "      <td>7970.100000</td>\n",
              "      <td>7971.400000</td>\n",
              "      <td>8185.100000</td>\n",
              "      <td>7754.100000</td>\n",
              "    </tr>\n",
              "    <tr>\n",
              "      <th>50%</th>\n",
              "      <td>11753.400000</td>\n",
              "      <td>11752.900000</td>\n",
              "      <td>11964.000000</td>\n",
              "      <td>11406.400000</td>\n",
              "    </tr>\n",
              "    <tr>\n",
              "      <th>75%</th>\n",
              "      <td>31367.600000</td>\n",
              "      <td>31370.300000</td>\n",
              "      <td>32377.500000</td>\n",
              "      <td>29911.900000</td>\n",
              "    </tr>\n",
              "    <tr>\n",
              "      <th>max</th>\n",
              "      <td>67527.900000</td>\n",
              "      <td>67528.700000</td>\n",
              "      <td>68990.600000</td>\n",
              "      <td>66334.900000</td>\n",
              "    </tr>\n",
              "  </tbody>\n",
              "</table>\n",
              "</div>\n",
              "      <button class=\"colab-df-convert\" onclick=\"convertToInteractive('df-467db75f-261c-44b5-88d4-41b289c64b10')\"\n",
              "              title=\"Convert this dataframe to an interactive table.\"\n",
              "              style=\"display:none;\">\n",
              "        \n",
              "  <svg xmlns=\"http://www.w3.org/2000/svg\" height=\"24px\"viewBox=\"0 0 24 24\"\n",
              "       width=\"24px\">\n",
              "    <path d=\"M0 0h24v24H0V0z\" fill=\"none\"/>\n",
              "    <path d=\"M18.56 5.44l.94 2.06.94-2.06 2.06-.94-2.06-.94-.94-2.06-.94 2.06-2.06.94zm-11 1L8.5 8.5l.94-2.06 2.06-.94-2.06-.94L8.5 2.5l-.94 2.06-2.06.94zm10 10l.94 2.06.94-2.06 2.06-.94-2.06-.94-.94-2.06-.94 2.06-2.06.94z\"/><path d=\"M17.41 7.96l-1.37-1.37c-.4-.4-.92-.59-1.43-.59-.52 0-1.04.2-1.43.59L10.3 9.45l-7.72 7.72c-.78.78-.78 2.05 0 2.83L4 21.41c.39.39.9.59 1.41.59.51 0 1.02-.2 1.41-.59l7.78-7.78 2.81-2.81c.8-.78.8-2.07 0-2.86zM5.41 20L4 18.59l7.72-7.72 1.47 1.35L5.41 20z\"/>\n",
              "  </svg>\n",
              "      </button>\n",
              "      \n",
              "  <style>\n",
              "    .colab-df-container {\n",
              "      display:flex;\n",
              "      flex-wrap:wrap;\n",
              "      gap: 12px;\n",
              "    }\n",
              "\n",
              "    .colab-df-convert {\n",
              "      background-color: #E8F0FE;\n",
              "      border: none;\n",
              "      border-radius: 50%;\n",
              "      cursor: pointer;\n",
              "      display: none;\n",
              "      fill: #1967D2;\n",
              "      height: 32px;\n",
              "      padding: 0 0 0 0;\n",
              "      width: 32px;\n",
              "    }\n",
              "\n",
              "    .colab-df-convert:hover {\n",
              "      background-color: #E2EBFA;\n",
              "      box-shadow: 0px 1px 2px rgba(60, 64, 67, 0.3), 0px 1px 3px 1px rgba(60, 64, 67, 0.15);\n",
              "      fill: #174EA6;\n",
              "    }\n",
              "\n",
              "    [theme=dark] .colab-df-convert {\n",
              "      background-color: #3B4455;\n",
              "      fill: #D2E3FC;\n",
              "    }\n",
              "\n",
              "    [theme=dark] .colab-df-convert:hover {\n",
              "      background-color: #434B5C;\n",
              "      box-shadow: 0px 1px 3px 1px rgba(0, 0, 0, 0.15);\n",
              "      filter: drop-shadow(0px 1px 2px rgba(0, 0, 0, 0.3));\n",
              "      fill: #FFFFFF;\n",
              "    }\n",
              "  </style>\n",
              "\n",
              "      <script>\n",
              "        const buttonEl =\n",
              "          document.querySelector('#df-467db75f-261c-44b5-88d4-41b289c64b10 button.colab-df-convert');\n",
              "        buttonEl.style.display =\n",
              "          google.colab.kernel.accessAllowed ? 'block' : 'none';\n",
              "\n",
              "        async function convertToInteractive(key) {\n",
              "          const element = document.querySelector('#df-467db75f-261c-44b5-88d4-41b289c64b10');\n",
              "          const dataTable =\n",
              "            await google.colab.kernel.invokeFunction('convertToInteractive',\n",
              "                                                     [key], {});\n",
              "          if (!dataTable) return;\n",
              "\n",
              "          const docLinkHtml = 'Like what you see? Visit the ' +\n",
              "            '<a target=\"_blank\" href=https://colab.research.google.com/notebooks/data_table.ipynb>data table notebook</a>'\n",
              "            + ' to learn more about interactive tables.';\n",
              "          element.innerHTML = '';\n",
              "          dataTable['output_type'] = 'display_data';\n",
              "          await google.colab.output.renderOutput(dataTable, element);\n",
              "          const docLink = document.createElement('div');\n",
              "          docLink.innerHTML = docLinkHtml;\n",
              "          element.appendChild(docLink);\n",
              "        }\n",
              "      </script>\n",
              "    </div>\n",
              "  </div>\n",
              "  "
            ]
          },
          "metadata": {},
          "execution_count": 19
        }
      ]
    },
    {
      "cell_type": "code",
      "source": [
        "dataset.columns"
      ],
      "metadata": {
        "colab": {
          "base_uri": "https://localhost:8080/"
        },
        "id": "BeGeeDhpH605",
        "outputId": "21e0e586-c573-4f0f-a41a-e983122c0983"
      },
      "execution_count": 20,
      "outputs": [
        {
          "output_type": "execute_result",
          "data": {
            "text/plain": [
              "Index(['Date', 'Price', 'Open', 'High', 'Low', 'Vol.', 'Change %'], dtype='object')"
            ]
          },
          "metadata": {},
          "execution_count": 20
        }
      ]
    },
    {
      "cell_type": "code",
      "source": [
        "import matplotlib.pyplot as plt\n",
        "dataset['Price'].plot(figsize=(10, 7))\n",
        "plt.ylabel(\"Bitcoin Price\")\n",
        "plt.title(\"Price of Bitcon\", fontsize=16)\n",
        "plt.legend(fontsize=14);"
      ],
      "metadata": {
        "colab": {
          "base_uri": "https://localhost:8080/",
          "height": 624
        },
        "id": "6wfPRoEuKsNN",
        "outputId": "71c460d0-1519-493a-c694-2a6527146062"
      },
      "execution_count": 21,
      "outputs": [
        {
          "output_type": "display_data",
          "data": {
            "text/plain": [
              "<Figure size 1000x700 with 1 Axes>"
            ],
            "image/png": "[encoded data removed]"
          },
          "metadata": {}
        }
      ]
    },
    {
      "cell_type": "code",
      "source": [
        "price_data = dataset['Price'].values\n",
        "price_data"
      ],
      "metadata": {
        "colab": {
          "base_uri": "https://localhost:8080/"
        },
        "id": "juGxQ7bjRE5v",
        "outputId": "cb4065ff-0f71-4773-c5ea-6a4a007a20b5"
      },
      "execution_count": 22,
      "outputs": [
        {
          "output_type": "execute_result",
          "data": {
            "text/plain": [
              "array([13444.9, 14754.1, 15156.6, ..., 26777.5, 26920. , 27196.6])"
            ]
          },
          "metadata": {},
          "execution_count": 22
        }
      ]
    },
    {
      "cell_type": "code",
      "source": [
        "price_data.shape"
      ],
      "metadata": {
        "colab": {
          "base_uri": "https://localhost:8080/"
        },
        "id": "MZitbEKIReji",
        "outputId": "16861f20-ce0f-4f33-ccac-6b8c1fd48349"
      },
      "execution_count": 23,
      "outputs": [
        {
          "output_type": "execute_result",
          "data": {
            "text/plain": [
              "(1961,)"
            ]
          },
          "metadata": {},
          "execution_count": 23
        }
      ]
    },
    {
      "cell_type": "code",
      "source": [
        "train_data, test_data = price_data[0:1800], price_data[1800:]"
      ],
      "metadata": {
        "id": "PZN10RpgRo3U"
      },
      "execution_count": 24,
      "outputs": []
    },
    {
      "cell_type": "code",
      "source": [
        "train_data.shape, test_data.shape"
      ],
      "metadata": {
        "colab": {
          "base_uri": "https://localhost:8080/"
        },
        "id": "3hxrDzK3RpJA",
        "outputId": "2c1eb994-556a-4e8d-eb6a-74c2adc0d977"
      },
      "execution_count": 25,
      "outputs": [
        {
          "output_type": "execute_result",
          "data": {
            "text/plain": [
              "((1800,), (161,))"
            ]
          },
          "metadata": {},
          "execution_count": 25
        }
      ]
    },
    {
      "cell_type": "code",
      "source": [
        "def windowed_dataset(series, time_step):\n",
        "    dataX, dataY = [], []\n",
        "    for i in range(len(series) - time_step - 1):\n",
        "        a = series[i : i + time_step]  # Remove the indexing with \", 0\"\n",
        "        dataX.append(a)\n",
        "        dataY.append(series[i + time_step])\n",
        "        \n",
        "    return np.array(dataX), np.array(dataY)"
      ],
      "metadata": {
        "id": "HNXnFWf8SJMT"
      },
      "execution_count": 26,
      "outputs": []
    },
    {
      "cell_type": "code",
      "source": [
        "X_train, y_train = windowed_dataset(train_data, time_step=7)\n",
        "X_test, y_test = windowed_dataset(test_data, time_step=7)"
      ],
      "metadata": {
        "id": "CrcXsapOSJXx"
      },
      "execution_count": 27,
      "outputs": []
    },
    {
      "cell_type": "code",
      "source": [
        "X_train.shape, y_train.shape, X_test.shape, y_test.shape"
      ],
      "metadata": {
        "colab": {
          "base_uri": "https://localhost:8080/"
        },
        "id": "lHZS3N7ASSwq",
        "outputId": "0dff8d3f-7c41-45d3-eb40-3ec2d20b73a3"
      },
      "execution_count": 28,
      "outputs": [
        {
          "output_type": "execute_result",
          "data": {
            "text/plain": [
              "((1792, 7), (1792,), (153, 7), (153,))"
            ]
          },
          "metadata": {},
          "execution_count": 28
        }
      ]
    },
    {
      "cell_type": "code",
      "source": [
        "X_train = X_train.reshape(X_train.shape[0], X_train.shape[1], 1)\n",
        "X_test = X_test.reshape(X_test.shape[0], X_test.shape[1], 1)\n",
        "\n",
        "print(X_train.shape) \n",
        "print(X_test.shape)"
      ],
      "metadata": {
        "colab": {
          "base_uri": "https://localhost:8080/"
        },
        "id": "vNyapBF2SV6B",
        "outputId": "ff853731-4542-4767-d1a6-55b6a8247f10"
      },
      "execution_count": 29,
      "outputs": [
        {
          "output_type": "stream",
          "name": "stdout",
          "text": [
            "(1792, 7, 1)\n",
            "(153, 7, 1)\n"
          ]
        }
      ]
    },
    {
      "cell_type": "code",
      "source": [
        "X_train[0]"
      ],
      "metadata": {
        "colab": {
          "base_uri": "https://localhost:8080/"
        },
        "id": "IRaIl8SQP2kz",
        "outputId": "f2ffd362-5847-4608-b54c-1d52c350be40"
      },
      "execution_count": 30,
      "outputs": [
        {
          "output_type": "execute_result",
          "data": {
            "text/plain": [
              "array([[13444.9],\n",
              "       [14754.1],\n",
              "       [15156.6],\n",
              "       [15180.1],\n",
              "       [16954.8],\n",
              "       [17172.3],\n",
              "       [16228.2]])"
            ]
          },
          "metadata": {},
          "execution_count": 30
        }
      ]
    },
    {
      "cell_type": "code",
      "source": [
        "import tensorflow as tf\n",
        "from tensorflow.keras import models, layers"
      ],
      "metadata": {
        "id": "poOi-84Ykab6"
      },
      "execution_count": 31,
      "outputs": []
    },
    {
      "cell_type": "code",
      "source": [
        "# Create the LSTM model\n",
        "model = models.Sequential()\n",
        "\n",
        "model.add(layers.Input(shape = (7, 1), dtype=tf.float32))\n",
        "# Add the Normalization layer\n",
        "model.add(layers.Normalization())\n",
        "\n",
        "# Specify the mean and variance for normalization\n",
        "model.layers[0].adapt(X_train)\n",
        "\n",
        "model.add(layers.LSTM(units=100, activation='relu', return_sequences=True))\n",
        "model.add(layers.Dropout(0.3))\n",
        "\n",
        "model.add(layers.LSTM(units=50, activation='relu', return_sequences=True))\n",
        "model.add(layers.Dropout(0.4))\n",
        "\n",
        "model.add(layers.LSTM(units=10, activation='relu'))\n",
        "model.add(layers.Dropout(0.2))\n",
        "\n",
        "model.add(layers.Dense(units=1))"
      ],
      "metadata": {
        "id": "25cXgPpbTMN5"
      },
      "execution_count": 32,
      "outputs": []
    },
    {
      "cell_type": "code",
      "source": [
        "model.summary()"
      ],
      "metadata": {
        "colab": {
          "base_uri": "https://localhost:8080/"
        },
        "id": "-IhqBiwCVKA_",
        "outputId": "7bca9b1f-f605-4179-c8e2-c4863aa8c3b7"
      },
      "execution_count": 33,
      "outputs": [
        {
          "output_type": "stream",
          "name": "stdout",
          "text": [
            "Model: \"sequential\"\n",
            "_________________________________________________________________\n",
            " Layer (type)                Output Shape              Param #   \n",
            "=================================================================\n",
            " normalization (Normalizatio  (None, 7, 1)             3         \n",
            " n)                                                              \n",
            "                                                                 \n",
            " lstm (LSTM)                 (None, 7, 100)            40800     \n",
            "                                                                 \n",
            " dropout (Dropout)           (None, 7, 100)            0         \n",
            "                                                                 \n",
            " lstm_1 (LSTM)               (None, 7, 50)             30200     \n",
            "                                                                 \n",
            " dropout_1 (Dropout)         (None, 7, 50)             0         \n",
            "                                                                 \n",
            " lstm_2 (LSTM)               (None, 10)                2440      \n",
            "                                                                 \n",
            " dropout_2 (Dropout)         (None, 10)                0         \n",
            "                                                                 \n",
            " dense (Dense)               (None, 1)                 11        \n",
            "                                                                 \n",
            "=================================================================\n",
            "Total params: 73,454\n",
            "Trainable params: 73,451\n",
            "Non-trainable params: 3\n",
            "_________________________________________________________________\n"
          ]
        }
      ]
    },
    {
      "cell_type": "code",
      "source": [
        "model.compile(optimizer = 'adamax', loss = 'mse', metrics = 'mae')"
      ],
      "metadata": {
        "id": "a8vNqJrrXR-G"
      },
      "execution_count": 34,
      "outputs": []
    },
    {
      "cell_type": "code",
      "source": [
        "# Fitting the RNN to the Training set\n",
        "history = model.fit(X_train, y_train, validation_split=0.1, epochs = 30, batch_size = 32, verbose=1, shuffle=False)"
      ],
      "metadata": {
        "colab": {
          "base_uri": "https://localhost:8080/"
        },
        "id": "r8sNewtrVPyh",
        "outputId": "5e4def5b-eab2-4a81-8bdf-d60c11c55095"
      },
      "execution_count": 35,
      "outputs": [
        {
          "output_type": "stream",
          "name": "stdout",
          "text": [
            "Epoch 1/30\n",
            "51/51 [==============================] - 6s 29ms/step - loss: 741052928.0000 - mae: 20385.9551 - val_loss: 423805376.0000 - val_mae: 20434.5723\n",
            "Epoch 2/30\n",
            "51/51 [==============================] - 1s 17ms/step - loss: 740832704.0000 - mae: 20379.7715 - val_loss: 422949216.0000 - val_mae: 20412.7109\n",
            "Epoch 3/30\n",
            "51/51 [==============================] - 1s 18ms/step - loss: 726100928.0000 - mae: 19864.6191 - val_loss: 359606560.0000 - val_mae: 18737.5547\n",
            "Epoch 4/30\n",
            "51/51 [==============================] - 1s 18ms/step - loss: 666822464.0000 - mae: 17528.0430 - val_loss: 284886912.0000 - val_mae: 16599.9434\n",
            "Epoch 5/30\n",
            "51/51 [==============================] - 1s 18ms/step - loss: 560470592.0000 - mae: 16313.2627 - val_loss: 191234144.0000 - val_mae: 13545.1836\n",
            "Epoch 6/30\n",
            "51/51 [==============================] - 1s 18ms/step - loss: 288519200.0000 - mae: 12135.4727 - val_loss: 38800912.0000 - val_mae: 5889.1382\n",
            "Epoch 7/30\n",
            "51/51 [==============================] - 1s 17ms/step - loss: 133610064.0000 - mae: 8750.4980 - val_loss: 45144244.0000 - val_mae: 6484.9067\n",
            "Epoch 8/30\n",
            "51/51 [==============================] - 1s 29ms/step - loss: 112897296.0000 - mae: 7161.4839 - val_loss: 53293312.0000 - val_mae: 7087.2700\n",
            "Epoch 9/30\n",
            "51/51 [==============================] - 1s 27ms/step - loss: 97008976.0000 - mae: 6513.6445 - val_loss: 41648348.0000 - val_mae: 6211.6709\n",
            "Epoch 10/30\n",
            "51/51 [==============================] - 1s 17ms/step - loss: 97905784.0000 - mae: 6505.4385 - val_loss: 45169564.0000 - val_mae: 6491.1694\n",
            "Epoch 11/30\n",
            "51/51 [==============================] - 1s 17ms/step - loss: 92322296.0000 - mae: 6242.1646 - val_loss: 33453926.0000 - val_mae: 5524.2524\n",
            "Epoch 12/30\n",
            "51/51 [==============================] - 1s 18ms/step - loss: 103041592.0000 - mae: 6591.2896 - val_loss: 42358264.0000 - val_mae: 6272.6846\n",
            "Epoch 13/30\n",
            "51/51 [==============================] - 1s 18ms/step - loss: 89435472.0000 - mae: 6211.0107 - val_loss: 31093294.0000 - val_mae: 5316.0981\n",
            "Epoch 14/30\n",
            "51/51 [==============================] - 2s 38ms/step - loss: 91291680.0000 - mae: 6189.9126 - val_loss: 22037728.0000 - val_mae: 4456.4072\n",
            "Epoch 15/30\n",
            "51/51 [==============================] - 2s 39ms/step - loss: 84511688.0000 - mae: 6049.3970 - val_loss: 36759940.0000 - val_mae: 5812.4658\n",
            "Epoch 16/30\n",
            "51/51 [==============================] - 1s 19ms/step - loss: 88319336.0000 - mae: 5990.1880 - val_loss: 20408500.0000 - val_mae: 4275.2915\n",
            "Epoch 17/30\n",
            "51/51 [==============================] - 1s 27ms/step - loss: 87217016.0000 - mae: 6154.6284 - val_loss: 26559784.0000 - val_mae: 4904.9058\n",
            "Epoch 18/30\n",
            "51/51 [==============================] - 2s 42ms/step - loss: 79309976.0000 - mae: 5717.4189 - val_loss: 19453662.0000 - val_mae: 4172.2949\n",
            "Epoch 19/30\n",
            "51/51 [==============================] - 2s 31ms/step - loss: 93247328.0000 - mae: 6047.0117 - val_loss: 24890058.0000 - val_mae: 4741.3418\n",
            "Epoch 20/30\n",
            "51/51 [==============================] - 2s 38ms/step - loss: 76309688.0000 - mae: 5605.5366 - val_loss: 19510448.0000 - val_mae: 4176.0151\n",
            "Epoch 21/30\n",
            "51/51 [==============================] - 2s 42ms/step - loss: 79275480.0000 - mae: 5764.1670 - val_loss: 16534652.0000 - val_mae: 3828.2473\n",
            "Epoch 22/30\n",
            "51/51 [==============================] - 1s 18ms/step - loss: 84010600.0000 - mae: 5891.4980 - val_loss: 21034174.0000 - val_mae: 4347.1538\n",
            "Epoch 23/30\n",
            "51/51 [==============================] - 1s 17ms/step - loss: 80737560.0000 - mae: 5690.3687 - val_loss: 14882256.0000 - val_mae: 3618.5173\n",
            "Epoch 24/30\n",
            "51/51 [==============================] - 2s 38ms/step - loss: 80689288.0000 - mae: 5695.5435 - val_loss: 17883162.0000 - val_mae: 3991.7673\n",
            "Epoch 25/30\n",
            "51/51 [==============================] - 1s 20ms/step - loss: 74715992.0000 - mae: 5571.0225 - val_loss: 16079802.0000 - val_mae: 3770.1174\n",
            "Epoch 26/30\n",
            "51/51 [==============================] - 2s 41ms/step - loss: 79690240.0000 - mae: 5706.4985 - val_loss: 20728436.0000 - val_mae: 4305.6318\n",
            "Epoch 27/30\n",
            "51/51 [==============================] - 1s 28ms/step - loss: 79985000.0000 - mae: 5648.3311 - val_loss: 8204902.5000 - val_mae: 2588.7944\n",
            "Epoch 28/30\n",
            "51/51 [==============================] - 1s 19ms/step - loss: 74528312.0000 - mae: 5642.6724 - val_loss: 22677710.0000 - val_mae: 4522.1479\n",
            "Epoch 29/30\n",
            "51/51 [==============================] - 1s 18ms/step - loss: 77793648.0000 - mae: 5531.4648 - val_loss: 7331164.5000 - val_mae: 2414.4771\n",
            "Epoch 30/30\n",
            "51/51 [==============================] - 1s 29ms/step - loss: 73798920.0000 - mae: 5708.3057 - val_loss: 19592860.0000 - val_mae: 4193.4438\n"
          ]
        }
      ]
    },
    {
      "cell_type": "code",
      "source": [
        "plt.figure(figsize=(16,7))\n",
        "plt.plot(history.history[\"loss\"], label= \"train loss\")\n",
        "plt.plot(history.history[\"val_loss\"], label= \"validation loss\")\n",
        "plt.legend();"
      ],
      "metadata": {
        "colab": {
          "base_uri": "https://localhost:8080/",
          "height": 614
        },
        "id": "LrXki-umXP8V",
        "outputId": "5cd8a9ef-cc22-4101-b877-bfee6faf8ba6"
      },
      "execution_count": 36,
      "outputs": [
        {
          "output_type": "display_data",
          "data": {
            "text/plain": [
              "<Figure size 1600x700 with 1 Axes>"
            ],
            "image/png": "[encoded data removed]"
          },
          "metadata": {}
        }
      ]
    },
    {
      "cell_type": "code",
      "source": [
        "train_predict = model.predict(X_train)\n",
        "test_predict = model.predict(X_test)"
      ],
      "metadata": {
        "colab": {
          "base_uri": "https://localhost:8080/"
        },
        "id": "SXJeCP6NXjtc",
        "outputId": "298d7e9b-0a31-4778-db1c-ebffcb040adb"
      },
      "execution_count": 37,
      "outputs": [
        {
          "output_type": "stream",
          "name": "stdout",
          "text": [
            "56/56 [==============================] - 1s 8ms/step\n",
            "5/5 [==============================] - 1s 15ms/step\n"
          ]
        }
      ]
    },
    {
      "cell_type": "code",
      "source": [
        "plt.figure(figsize=(16,7))\n",
        "plt.plot(y_test.flatten(), marker='.', label=\"Actual\")\n",
        "plt.plot(test_predict.flatten(), 'r', marker='.', label=\"Predicted\")\n",
        "plt.legend();"
      ],
      "metadata": {
        "colab": {
          "base_uri": "https://localhost:8080/",
          "height": 599
        },
        "id": "aDRR_XonXoTg",
        "outputId": "0c03a8a1-74aa-4170-da32-395f264fec0a"
      },
      "execution_count": 38,
      "outputs": [
        {
          "output_type": "display_data",
          "data": {
            "text/plain": [
              "<Figure size 1600x700 with 1 Axes>"
            ],
            "image/png": "[encoded data removed]"
          },
          "metadata": {}
        }
      ]
    },
    {
      "cell_type": "code",
      "source": [
        "from sklearn.metrics import mean_absolute_error, mean_squared_error\n",
        "\n",
        "train_RMSE = np.sqrt(mean_squared_error(y_train, train_predict))\n",
        "test_RMSE = np.sqrt(mean_squared_error(y_test, test_predict))\n",
        "train_MAE = np.sqrt(mean_absolute_error(y_train, train_predict))\n",
        "test_MAE = np.sqrt(mean_absolute_error(y_test, test_predict))\n",
        "\n",
        "\n",
        "print(f\"Train RMSE: {train_RMSE}\")\n",
        "print(f\"Train MAE: {train_MAE}\")\n",
        "\n",
        "print(f\"Test RMSE: {test_RMSE}\")\n",
        "print(f\"Test MAE: {test_MAE}\")"
      ],
      "metadata": {
        "colab": {
          "base_uri": "https://localhost:8080/"
        },
        "id": "n8bwLaVrXoqO",
        "outputId": "54f6dfb9-5665-4636-e4c4-b8a27ba7734f"
      },
      "execution_count": 39,
      "outputs": [
        {
          "output_type": "stream",
          "name": "stdout",
          "text": [
            "Train RMSE: 4374.4198096989285\n",
            "Train MAE: 55.439903176470246\n",
            "Test RMSE: 5766.702246097194\n",
            "Test MAE: 74.0637494982297\n"
          ]
        }
      ]
    },
    {
      "cell_type": "markdown",
      "source": [
        "# at Inference"
      ],
      "metadata": {
        "id": "kdaXuZYhlE_x"
      }
    },
    {
      "cell_type": "code",
      "source": [
        "model.save(\"Bitcoin_Price_Prediction\")"
      ],
      "metadata": {
        "colab": {
          "base_uri": "https://localhost:8080/"
        },
        "id": "mYHkypxhk9cH",
        "outputId": "d5c5886a-68c1-490f-d45e-bfc49af87ce3"
      },
      "execution_count": 40,
      "outputs": [
        {
          "output_type": "stream",
          "name": "stderr",
          "text": [
            "WARNING:absl:Found untraced functions such as _update_step_xla while saving (showing 1 of 1). These functions will not be directly callable after loading.\n"
          ]
        }
      ]
    },
    {
      "cell_type": "code",
      "source": [
        "from google.colab import drive\n",
        "drive.mount('/content/drive')"
      ],
      "metadata": {
        "colab": {
          "base_uri": "https://localhost:8080/"
        },
        "id": "uvh9oOxmLRgm",
        "outputId": "4cf7f4b4-aad8-48a2-8576-a267cd2c9f73"
      },
      "execution_count": 41,
      "outputs": [
        {
          "output_type": "stream",
          "name": "stdout",
          "text": [
            "Mounted at /content/drive\n"
          ]
        }
      ]
    },
    {
      "cell_type": "code",
      "source": [
        "model = tf.keras.saving.load_model(\"/content/Bitcoin_Price_Prediction\")"
      ],
      "metadata": {
        "id": "aons6uoDk9fV"
      },
      "execution_count": 42,
      "outputs": []
    },
    {
      "cell_type": "code",
      "source": [
        "%cp -av /content/Bitcoin_Price_Prediction /content/drive/MyDrive/Multiple_Stock_Price_Prediction"
      ],
      "metadata": {
        "colab": {
          "base_uri": "https://localhost:8080/"
        },
        "id": "zR_uT07bk9ih",
        "outputId": "5824b15e-324e-4d3c-9374-98ff69aca960"
      },
      "execution_count": 43,
      "outputs": [
        {
          "output_type": "stream",
          "name": "stdout",
          "text": [
            "'/content/Bitcoin_Price_Prediction' -> '/content/drive/MyDrive/Multiple_Stock_Price_Prediction/Bitcoin_Price_Prediction'\n",
            "'/content/Bitcoin_Price_Prediction/variables' -> '/content/drive/MyDrive/Multiple_Stock_Price_Prediction/Bitcoin_Price_Prediction/variables'\n",
            "'/content/Bitcoin_Price_Prediction/variables/variables.data-00000-of-00001' -> '/content/drive/MyDrive/Multiple_Stock_Price_Prediction/Bitcoin_Price_Prediction/variables/variables.data-00000-of-00001'\n",
            "'/content/Bitcoin_Price_Prediction/variables/variables.index' -> '/content/drive/MyDrive/Multiple_Stock_Price_Prediction/Bitcoin_Price_Prediction/variables/variables.index'\n",
            "'/content/Bitcoin_Price_Prediction/assets' -> '/content/drive/MyDrive/Multiple_Stock_Price_Prediction/Bitcoin_Price_Prediction/assets'\n",
            "'/content/Bitcoin_Price_Prediction/fingerprint.pb' -> '/content/drive/MyDrive/Multiple_Stock_Price_Prediction/Bitcoin_Price_Prediction/fingerprint.pb'\n",
            "'/content/Bitcoin_Price_Prediction/saved_model.pb' -> '/content/drive/MyDrive/Multiple_Stock_Price_Prediction/Bitcoin_Price_Prediction/saved_model.pb'\n",
            "'/content/Bitcoin_Price_Prediction/keras_metadata.pb' -> '/content/drive/MyDrive/Multiple_Stock_Price_Prediction/Bitcoin_Price_Prediction/keras_metadata.pb'\n"
          ]
        }
      ]
    },
    {
      "cell_type": "code",
      "source": [
        "X_test[0].shape"
      ],
      "metadata": {
        "colab": {
          "base_uri": "https://localhost:8080/"
        },
        "id": "rUKUT-QaaaKt",
        "outputId": "e90b932e-19e4-4b16-e9c5-407cb641f4dd"
      },
      "execution_count": 44,
      "outputs": [
        {
          "output_type": "execute_result",
          "data": {
            "text/plain": [
              "(7, 1)"
            ]
          },
          "metadata": {},
          "execution_count": 44
        }
      ]
    },
    {
      "cell_type": "code",
      "source": [],
      "metadata": {
        "id": "sOTsOQ_AohXj"
      },
      "execution_count": null,
      "outputs": []
    },
    {
      "cell_type": "code",
      "source": [
        "prices = np.array([[13444.9],\n",
        "       [14754.1],\n",
        "       [15156.6],\n",
        "       [15180.1],\n",
        "       [16954.8],\n",
        "       [17172.3],\n",
        "       [16228.2]])\n",
        "\n",
        "prices = prices.reshape(1, -1, 1)\n",
        "prediction_price = model.predict(prices)\n",
        "prediction_price = prediction_price[0][0]\n",
        "print(\"Prediction Price: \", prediction_price)"
      ],
      "metadata": {
        "id": "ae5tO4X4bCIB",
        "colab": {
          "base_uri": "https://localhost:8080/"
        },
        "outputId": "0aef9046-8a50-4086-ae39-cbc9aee8bb6e"
      },
      "execution_count": 45,
      "outputs": [
        {
          "output_type": "stream",
          "name": "stdout",
          "text": [
            "1/1 [==============================] - 2s 2s/step\n",
            "Prediction Price:  11686.826\n"
          ]
        }
      ]
    },
    {
      "cell_type": "code",
      "source": [
        "print(\"Predicted Bitcoin Price: {0:.2f} \".format(prediction_price))"
      ],
      "metadata": {
        "colab": {
          "base_uri": "https://localhost:8080/"
        },
        "id": "3zKBhqE-mehR",
        "outputId": "14103e86-1a30-43c1-b42a-472d40f5db85"
      },
      "execution_count": 46,
      "outputs": [
        {
          "output_type": "stream",
          "name": "stdout",
          "text": [
            "Predicted Bitcoin Price: 11686.83 \n"
          ]
        }
      ]
    },
    {
      "cell_type": "code",
      "source": [],
      "metadata": {
        "id": "HSrimdY780m5"
      },
      "execution_count": null,
      "outputs": []
    }
  ]
}