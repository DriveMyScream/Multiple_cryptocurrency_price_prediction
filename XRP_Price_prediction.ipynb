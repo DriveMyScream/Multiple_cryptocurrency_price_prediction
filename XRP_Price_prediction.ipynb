{
  "nbformat": 4,
  "nbformat_minor": 0,
  "metadata": {
    "colab": {
      "provenance": []
    },
    "kernelspec": {
      "name": "python3",
      "display_name": "Python 3"
    },
    "language_info": {
      "name": "python"
    }
  },
  "cells": [
    {
      "cell_type": "markdown",
      "source": [
        "# Imports"
      ],
      "metadata": {
        "id": "9nxMubEyjk_-"
      }
    },
    {
      "cell_type": "code",
      "execution_count": 1,
      "metadata": {
        "id": "RKhvtAXGqQaU"
      },
      "outputs": [],
      "source": [
        "import numpy as np\n",
        "import pandas as pd\n",
        "import matplotlib.pyplot as plt\n",
        "import seaborn as sns\n",
        "import tensorflow as tf"
      ]
    },
    {
      "cell_type": "markdown",
      "source": [
        "# data Loading"
      ],
      "metadata": {
        "id": "ik0QY4cljp9X"
      }
    },
    {
      "cell_type": "code",
      "source": [
        "data_path = \"https://raw.githubusercontent.com/DriveMyScream/Multiple_Stock_Price_Prediction/main/XRP%20Historical%20Data%20-%20Investing.com%20India.csv\"\n",
        "dataset = pd.read_csv(data_path, parse_dates=['Date'])\n",
        "dataset.head(5)"
      ],
      "metadata": {
        "colab": {
          "base_uri": "https://localhost:8080/",
          "height": 206
        },
        "id": "fgiZJaKiru3f",
        "outputId": "a191ec98-4d79-4395-d97a-eb8e12f799e2"
      },
      "execution_count": 114,
      "outputs": [
        {
          "output_type": "execute_result",
          "data": {
            "text/plain": [
              "        Date    Price     Open     High      Low     Vol. Change %\n",
              "0 2023-05-15  0.42752  0.42520  0.42899  0.42161  196.21M    0.54%\n",
              "1 2023-05-14  0.42522  0.42401  0.43144  0.42183  142.86M    0.29%\n",
              "2 2023-05-13  0.42401  0.43048  0.43048  0.42362  145.07M   -1.51%\n",
              "3 2023-05-12  0.43049  0.42064  0.44320  0.41665  562.85M    2.35%\n",
              "4 2023-05-11  0.42063  0.43026  0.43042  0.41162  423.24M   -2.24%"
            ],
            "text/html": [
              "\n",
              "  <div id=\"df-b2294880-1feb-4bf7-b6a3-d04b851e7bea\">\n",
              "    <div class=\"colab-df-container\">\n",
              "      <div>\n",
              "<style scoped>\n",
              "    .dataframe tbody tr th:only-of-type {\n",
              "        vertical-align: middle;\n",
              "    }\n",
              "\n",
              "    .dataframe tbody tr th {\n",
              "        vertical-align: top;\n",
              "    }\n",
              "\n",
              "    .dataframe thead th {\n",
              "        text-align: right;\n",
              "    }\n",
              "</style>\n",
              "<table border=\"1\" class=\"dataframe\">\n",
              "  <thead>\n",
              "    <tr style=\"text-align: right;\">\n",
              "      <th></th>\n",
              "      <th>Date</th>\n",
              "      <th>Price</th>\n",
              "      <th>Open</th>\n",
              "      <th>High</th>\n",
              "      <th>Low</th>\n",
              "      <th>Vol.</th>\n",
              "      <th>Change %</th>\n",
              "    </tr>\n",
              "  </thead>\n",
              "  <tbody>\n",
              "    <tr>\n",
              "      <th>0</th>\n",
              "      <td>2023-05-15</td>\n",
              "      <td>0.42752</td>\n",
              "      <td>0.42520</td>\n",
              "      <td>0.42899</td>\n",
              "      <td>0.42161</td>\n",
              "      <td>196.21M</td>\n",
              "      <td>0.54%</td>\n",
              "    </tr>\n",
              "    <tr>\n",
              "      <th>1</th>\n",
              "      <td>2023-05-14</td>\n",
              "      <td>0.42522</td>\n",
              "      <td>0.42401</td>\n",
              "      <td>0.43144</td>\n",
              "      <td>0.42183</td>\n",
              "      <td>142.86M</td>\n",
              "      <td>0.29%</td>\n",
              "    </tr>\n",
              "    <tr>\n",
              "      <th>2</th>\n",
              "      <td>2023-05-13</td>\n",
              "      <td>0.42401</td>\n",
              "      <td>0.43048</td>\n",
              "      <td>0.43048</td>\n",
              "      <td>0.42362</td>\n",
              "      <td>145.07M</td>\n",
              "      <td>-1.51%</td>\n",
              "    </tr>\n",
              "    <tr>\n",
              "      <th>3</th>\n",
              "      <td>2023-05-12</td>\n",
              "      <td>0.43049</td>\n",
              "      <td>0.42064</td>\n",
              "      <td>0.44320</td>\n",
              "      <td>0.41665</td>\n",
              "      <td>562.85M</td>\n",
              "      <td>2.35%</td>\n",
              "    </tr>\n",
              "    <tr>\n",
              "      <th>4</th>\n",
              "      <td>2023-05-11</td>\n",
              "      <td>0.42063</td>\n",
              "      <td>0.43026</td>\n",
              "      <td>0.43042</td>\n",
              "      <td>0.41162</td>\n",
              "      <td>423.24M</td>\n",
              "      <td>-2.24%</td>\n",
              "    </tr>\n",
              "  </tbody>\n",
              "</table>\n",
              "</div>\n",
              "      <button class=\"colab-df-convert\" onclick=\"convertToInteractive('df-b2294880-1feb-4bf7-b6a3-d04b851e7bea')\"\n",
              "              title=\"Convert this dataframe to an interactive table.\"\n",
              "              style=\"display:none;\">\n",
              "        \n",
              "  <svg xmlns=\"http://www.w3.org/2000/svg\" height=\"24px\"viewBox=\"0 0 24 24\"\n",
              "       width=\"24px\">\n",
              "    <path d=\"M0 0h24v24H0V0z\" fill=\"none\"/>\n",
              "    <path d=\"M18.56 5.44l.94 2.06.94-2.06 2.06-.94-2.06-.94-.94-2.06-.94 2.06-2.06.94zm-11 1L8.5 8.5l.94-2.06 2.06-.94-2.06-.94L8.5 2.5l-.94 2.06-2.06.94zm10 10l.94 2.06.94-2.06 2.06-.94-2.06-.94-.94-2.06-.94 2.06-2.06.94z\"/><path d=\"M17.41 7.96l-1.37-1.37c-.4-.4-.92-.59-1.43-.59-.52 0-1.04.2-1.43.59L10.3 9.45l-7.72 7.72c-.78.78-.78 2.05 0 2.83L4 21.41c.39.39.9.59 1.41.59.51 0 1.02-.2 1.41-.59l7.78-7.78 2.81-2.81c.8-.78.8-2.07 0-2.86zM5.41 20L4 18.59l7.72-7.72 1.47 1.35L5.41 20z\"/>\n",
              "  </svg>\n",
              "      </button>\n",
              "      \n",
              "  <style>\n",
              "    .colab-df-container {\n",
              "      display:flex;\n",
              "      flex-wrap:wrap;\n",
              "      gap: 12px;\n",
              "    }\n",
              "\n",
              "    .colab-df-convert {\n",
              "      background-color: #E8F0FE;\n",
              "      border: none;\n",
              "      border-radius: 50%;\n",
              "      cursor: pointer;\n",
              "      display: none;\n",
              "      fill: #1967D2;\n",
              "      height: 32px;\n",
              "      padding: 0 0 0 0;\n",
              "      width: 32px;\n",
              "    }\n",
              "\n",
              "    .colab-df-convert:hover {\n",
              "      background-color: #E2EBFA;\n",
              "      box-shadow: 0px 1px 2px rgba(60, 64, 67, 0.3), 0px 1px 3px 1px rgba(60, 64, 67, 0.15);\n",
              "      fill: #174EA6;\n",
              "    }\n",
              "\n",
              "    [theme=dark] .colab-df-convert {\n",
              "      background-color: #3B4455;\n",
              "      fill: #D2E3FC;\n",
              "    }\n",
              "\n",
              "    [theme=dark] .colab-df-convert:hover {\n",
              "      background-color: #434B5C;\n",
              "      box-shadow: 0px 1px 3px 1px rgba(0, 0, 0, 0.15);\n",
              "      filter: drop-shadow(0px 1px 2px rgba(0, 0, 0, 0.3));\n",
              "      fill: #FFFFFF;\n",
              "    }\n",
              "  </style>\n",
              "\n",
              "      <script>\n",
              "        const buttonEl =\n",
              "          document.querySelector('#df-b2294880-1feb-4bf7-b6a3-d04b851e7bea button.colab-df-convert');\n",
              "        buttonEl.style.display =\n",
              "          google.colab.kernel.accessAllowed ? 'block' : 'none';\n",
              "\n",
              "        async function convertToInteractive(key) {\n",
              "          const element = document.querySelector('#df-b2294880-1feb-4bf7-b6a3-d04b851e7bea');\n",
              "          const dataTable =\n",
              "            await google.colab.kernel.invokeFunction('convertToInteractive',\n",
              "                                                     [key], {});\n",
              "          if (!dataTable) return;\n",
              "\n",
              "          const docLinkHtml = 'Like what you see? Visit the ' +\n",
              "            '<a target=\"_blank\" href=https://colab.research.google.com/notebooks/data_table.ipynb>data table notebook</a>'\n",
              "            + ' to learn more about interactive tables.';\n",
              "          element.innerHTML = '';\n",
              "          dataTable['output_type'] = 'display_data';\n",
              "          await google.colab.output.renderOutput(dataTable, element);\n",
              "          const docLink = document.createElement('div');\n",
              "          docLink.innerHTML = docLinkHtml;\n",
              "          element.appendChild(docLink);\n",
              "        }\n",
              "      </script>\n",
              "    </div>\n",
              "  </div>\n",
              "  "
            ]
          },
          "metadata": {},
          "execution_count": 114
        }
      ]
    },
    {
      "cell_type": "code",
      "source": [
        "dataset = dataset[::-1]\n",
        "dataset.head(5)"
      ],
      "metadata": {
        "colab": {
          "base_uri": "https://localhost:8080/",
          "height": 206
        },
        "id": "KJ0dazvposMC",
        "outputId": "bfc0997a-63f1-40fa-8997-46be8775d0f9"
      },
      "execution_count": 115,
      "outputs": [
        {
          "output_type": "execute_result",
          "data": {
            "text/plain": [
              "           Date  Price  Open  High   Low     Vol. Change %\n",
              "1960 2018-01-01   2.05  1.98  2.09  1.81  120.74M    3.54%\n",
              "1959 2018-01-02   2.19  2.05  2.21  1.89  201.99M    6.83%\n",
              "1958 2018-01-03   2.73  2.19  2.85  2.15  387.51M   24.66%\n",
              "1957 2018-01-04   2.73  2.73  3.29  2.58  438.91M    0.00%\n",
              "1956 2018-01-05   2.51  2.73  3.05  2.24  381.02M   -8.06%"
            ],
            "text/html": [
              "\n",
              "  <div id=\"df-d41977d9-a1c4-4ce8-bb57-e05a54159b22\">\n",
              "    <div class=\"colab-df-container\">\n",
              "      <div>\n",
              "<style scoped>\n",
              "    .dataframe tbody tr th:only-of-type {\n",
              "        vertical-align: middle;\n",
              "    }\n",
              "\n",
              "    .dataframe tbody tr th {\n",
              "        vertical-align: top;\n",
              "    }\n",
              "\n",
              "    .dataframe thead th {\n",
              "        text-align: right;\n",
              "    }\n",
              "</style>\n",
              "<table border=\"1\" class=\"dataframe\">\n",
              "  <thead>\n",
              "    <tr style=\"text-align: right;\">\n",
              "      <th></th>\n",
              "      <th>Date</th>\n",
              "      <th>Price</th>\n",
              "      <th>Open</th>\n",
              "      <th>High</th>\n",
              "      <th>Low</th>\n",
              "      <th>Vol.</th>\n",
              "      <th>Change %</th>\n",
              "    </tr>\n",
              "  </thead>\n",
              "  <tbody>\n",
              "    <tr>\n",
              "      <th>1960</th>\n",
              "      <td>2018-01-01</td>\n",
              "      <td>2.05</td>\n",
              "      <td>1.98</td>\n",
              "      <td>2.09</td>\n",
              "      <td>1.81</td>\n",
              "      <td>120.74M</td>\n",
              "      <td>3.54%</td>\n",
              "    </tr>\n",
              "    <tr>\n",
              "      <th>1959</th>\n",
              "      <td>2018-01-02</td>\n",
              "      <td>2.19</td>\n",
              "      <td>2.05</td>\n",
              "      <td>2.21</td>\n",
              "      <td>1.89</td>\n",
              "      <td>201.99M</td>\n",
              "      <td>6.83%</td>\n",
              "    </tr>\n",
              "    <tr>\n",
              "      <th>1958</th>\n",
              "      <td>2018-01-03</td>\n",
              "      <td>2.73</td>\n",
              "      <td>2.19</td>\n",
              "      <td>2.85</td>\n",
              "      <td>2.15</td>\n",
              "      <td>387.51M</td>\n",
              "      <td>24.66%</td>\n",
              "    </tr>\n",
              "    <tr>\n",
              "      <th>1957</th>\n",
              "      <td>2018-01-04</td>\n",
              "      <td>2.73</td>\n",
              "      <td>2.73</td>\n",
              "      <td>3.29</td>\n",
              "      <td>2.58</td>\n",
              "      <td>438.91M</td>\n",
              "      <td>0.00%</td>\n",
              "    </tr>\n",
              "    <tr>\n",
              "      <th>1956</th>\n",
              "      <td>2018-01-05</td>\n",
              "      <td>2.51</td>\n",
              "      <td>2.73</td>\n",
              "      <td>3.05</td>\n",
              "      <td>2.24</td>\n",
              "      <td>381.02M</td>\n",
              "      <td>-8.06%</td>\n",
              "    </tr>\n",
              "  </tbody>\n",
              "</table>\n",
              "</div>\n",
              "      <button class=\"colab-df-convert\" onclick=\"convertToInteractive('df-d41977d9-a1c4-4ce8-bb57-e05a54159b22')\"\n",
              "              title=\"Convert this dataframe to an interactive table.\"\n",
              "              style=\"display:none;\">\n",
              "        \n",
              "  <svg xmlns=\"http://www.w3.org/2000/svg\" height=\"24px\"viewBox=\"0 0 24 24\"\n",
              "       width=\"24px\">\n",
              "    <path d=\"M0 0h24v24H0V0z\" fill=\"none\"/>\n",
              "    <path d=\"M18.56 5.44l.94 2.06.94-2.06 2.06-.94-2.06-.94-.94-2.06-.94 2.06-2.06.94zm-11 1L8.5 8.5l.94-2.06 2.06-.94-2.06-.94L8.5 2.5l-.94 2.06-2.06.94zm10 10l.94 2.06.94-2.06 2.06-.94-2.06-.94-.94-2.06-.94 2.06-2.06.94z\"/><path d=\"M17.41 7.96l-1.37-1.37c-.4-.4-.92-.59-1.43-.59-.52 0-1.04.2-1.43.59L10.3 9.45l-7.72 7.72c-.78.78-.78 2.05 0 2.83L4 21.41c.39.39.9.59 1.41.59.51 0 1.02-.2 1.41-.59l7.78-7.78 2.81-2.81c.8-.78.8-2.07 0-2.86zM5.41 20L4 18.59l7.72-7.72 1.47 1.35L5.41 20z\"/>\n",
              "  </svg>\n",
              "      </button>\n",
              "      \n",
              "  <style>\n",
              "    .colab-df-container {\n",
              "      display:flex;\n",
              "      flex-wrap:wrap;\n",
              "      gap: 12px;\n",
              "    }\n",
              "\n",
              "    .colab-df-convert {\n",
              "      background-color: #E8F0FE;\n",
              "      border: none;\n",
              "      border-radius: 50%;\n",
              "      cursor: pointer;\n",
              "      display: none;\n",
              "      fill: #1967D2;\n",
              "      height: 32px;\n",
              "      padding: 0 0 0 0;\n",
              "      width: 32px;\n",
              "    }\n",
              "\n",
              "    .colab-df-convert:hover {\n",
              "      background-color: #E2EBFA;\n",
              "      box-shadow: 0px 1px 2px rgba(60, 64, 67, 0.3), 0px 1px 3px 1px rgba(60, 64, 67, 0.15);\n",
              "      fill: #174EA6;\n",
              "    }\n",
              "\n",
              "    [theme=dark] .colab-df-convert {\n",
              "      background-color: #3B4455;\n",
              "      fill: #D2E3FC;\n",
              "    }\n",
              "\n",
              "    [theme=dark] .colab-df-convert:hover {\n",
              "      background-color: #434B5C;\n",
              "      box-shadow: 0px 1px 3px 1px rgba(0, 0, 0, 0.15);\n",
              "      filter: drop-shadow(0px 1px 2px rgba(0, 0, 0, 0.3));\n",
              "      fill: #FFFFFF;\n",
              "    }\n",
              "  </style>\n",
              "\n",
              "      <script>\n",
              "        const buttonEl =\n",
              "          document.querySelector('#df-d41977d9-a1c4-4ce8-bb57-e05a54159b22 button.colab-df-convert');\n",
              "        buttonEl.style.display =\n",
              "          google.colab.kernel.accessAllowed ? 'block' : 'none';\n",
              "\n",
              "        async function convertToInteractive(key) {\n",
              "          const element = document.querySelector('#df-d41977d9-a1c4-4ce8-bb57-e05a54159b22');\n",
              "          const dataTable =\n",
              "            await google.colab.kernel.invokeFunction('convertToInteractive',\n",
              "                                                     [key], {});\n",
              "          if (!dataTable) return;\n",
              "\n",
              "          const docLinkHtml = 'Like what you see? Visit the ' +\n",
              "            '<a target=\"_blank\" href=https://colab.research.google.com/notebooks/data_table.ipynb>data table notebook</a>'\n",
              "            + ' to learn more about interactive tables.';\n",
              "          element.innerHTML = '';\n",
              "          dataTable['output_type'] = 'display_data';\n",
              "          await google.colab.output.renderOutput(dataTable, element);\n",
              "          const docLink = document.createElement('div');\n",
              "          docLink.innerHTML = docLinkHtml;\n",
              "          element.appendChild(docLink);\n",
              "        }\n",
              "      </script>\n",
              "    </div>\n",
              "  </div>\n",
              "  "
            ]
          },
          "metadata": {},
          "execution_count": 115
        }
      ]
    },
    {
      "cell_type": "code",
      "source": [
        "def parse_float(string_value):\n",
        "  cleaned_string = string_value.replace(\",\", \"\")\n",
        "  float_value = float(cleaned_string)\n",
        "  return float_value"
      ],
      "metadata": {
        "id": "YjC41gtmo9FZ"
      },
      "execution_count": 116,
      "outputs": []
    },
    {
      "cell_type": "code",
      "source": [
        "dataset['Open'] = dataset['Open'].astype(str).apply(parse_float)\n",
        "dataset['High'] = dataset['High'].astype(str).apply(parse_float)\n",
        "dataset['Low'] = dataset['Low'].astype(str).apply(parse_float)\n",
        "dataset['Price'] = dataset['Price'].astype(str).apply(parse_float)"
      ],
      "metadata": {
        "id": "CHKjmOt9pFpL"
      },
      "execution_count": 117,
      "outputs": []
    },
    {
      "cell_type": "code",
      "source": [
        "dataset.info()"
      ],
      "metadata": {
        "colab": {
          "base_uri": "https://localhost:8080/"
        },
        "id": "MfZx29TtIg6o",
        "outputId": "b6e6a803-0581-47af-bb60-5f24e1e04e53"
      },
      "execution_count": 118,
      "outputs": [
        {
          "output_type": "stream",
          "name": "stdout",
          "text": [
            "<class 'pandas.core.frame.DataFrame'>\n",
            "RangeIndex: 1961 entries, 1960 to 0\n",
            "Data columns (total 7 columns):\n",
            " #   Column    Non-Null Count  Dtype         \n",
            "---  ------    --------------  -----         \n",
            " 0   Date      1961 non-null   datetime64[ns]\n",
            " 1   Price     1961 non-null   float64       \n",
            " 2   Open      1961 non-null   float64       \n",
            " 3   High      1961 non-null   float64       \n",
            " 4   Low       1961 non-null   float64       \n",
            " 5   Vol.      1961 non-null   object        \n",
            " 6   Change %  1961 non-null   object        \n",
            "dtypes: datetime64[ns](1), float64(4), object(2)\n",
            "memory usage: 107.4+ KB\n"
          ]
        }
      ]
    },
    {
      "cell_type": "code",
      "source": [
        "dataset.describe()"
      ],
      "metadata": {
        "colab": {
          "base_uri": "https://localhost:8080/",
          "height": 300
        },
        "id": "3WAKsVDcKpB-",
        "outputId": "220fdece-92d4-4a5b-ba18-72f79a7f2ba1"
      },
      "execution_count": 119,
      "outputs": [
        {
          "output_type": "execute_result",
          "data": {
            "text/plain": [
              "             Price         Open         High          Low\n",
              "count  1961.000000  1961.000000  1961.000000  1961.000000\n",
              "mean      0.513268     0.513999     0.535611     0.489498\n",
              "std       0.335413     0.336672     0.360285     0.309249\n",
              "min       0.136040     0.135820     0.149240     0.105700\n",
              "25%       0.295250     0.295260     0.305220     0.285030\n",
              "50%       0.395270     0.395300     0.408310     0.381380\n",
              "75%       0.633030     0.634660     0.657530     0.605020\n",
              "max       2.780000     2.780000     3.290000     2.580000"
            ],
            "text/html": [
              "\n",
              "  <div id=\"df-cca0cc87-e2af-4485-99f4-a2e3c7b3642b\">\n",
              "    <div class=\"colab-df-container\">\n",
              "      <div>\n",
              "<style scoped>\n",
              "    .dataframe tbody tr th:only-of-type {\n",
              "        vertical-align: middle;\n",
              "    }\n",
              "\n",
              "    .dataframe tbody tr th {\n",
              "        vertical-align: top;\n",
              "    }\n",
              "\n",
              "    .dataframe thead th {\n",
              "        text-align: right;\n",
              "    }\n",
              "</style>\n",
              "<table border=\"1\" class=\"dataframe\">\n",
              "  <thead>\n",
              "    <tr style=\"text-align: right;\">\n",
              "      <th></th>\n",
              "      <th>Price</th>\n",
              "      <th>Open</th>\n",
              "      <th>High</th>\n",
              "      <th>Low</th>\n",
              "    </tr>\n",
              "  </thead>\n",
              "  <tbody>\n",
              "    <tr>\n",
              "      <th>count</th>\n",
              "      <td>1961.000000</td>\n",
              "      <td>1961.000000</td>\n",
              "      <td>1961.000000</td>\n",
              "      <td>1961.000000</td>\n",
              "    </tr>\n",
              "    <tr>\n",
              "      <th>mean</th>\n",
              "      <td>0.513268</td>\n",
              "      <td>0.513999</td>\n",
              "      <td>0.535611</td>\n",
              "      <td>0.489498</td>\n",
              "    </tr>\n",
              "    <tr>\n",
              "      <th>std</th>\n",
              "      <td>0.335413</td>\n",
              "      <td>0.336672</td>\n",
              "      <td>0.360285</td>\n",
              "      <td>0.309249</td>\n",
              "    </tr>\n",
              "    <tr>\n",
              "      <th>min</th>\n",
              "      <td>0.136040</td>\n",
              "      <td>0.135820</td>\n",
              "      <td>0.149240</td>\n",
              "      <td>0.105700</td>\n",
              "    </tr>\n",
              "    <tr>\n",
              "      <th>25%</th>\n",
              "      <td>0.295250</td>\n",
              "      <td>0.295260</td>\n",
              "      <td>0.305220</td>\n",
              "      <td>0.285030</td>\n",
              "    </tr>\n",
              "    <tr>\n",
              "      <th>50%</th>\n",
              "      <td>0.395270</td>\n",
              "      <td>0.395300</td>\n",
              "      <td>0.408310</td>\n",
              "      <td>0.381380</td>\n",
              "    </tr>\n",
              "    <tr>\n",
              "      <th>75%</th>\n",
              "      <td>0.633030</td>\n",
              "      <td>0.634660</td>\n",
              "      <td>0.657530</td>\n",
              "      <td>0.605020</td>\n",
              "    </tr>\n",
              "    <tr>\n",
              "      <th>max</th>\n",
              "      <td>2.780000</td>\n",
              "      <td>2.780000</td>\n",
              "      <td>3.290000</td>\n",
              "      <td>2.580000</td>\n",
              "    </tr>\n",
              "  </tbody>\n",
              "</table>\n",
              "</div>\n",
              "      <button class=\"colab-df-convert\" onclick=\"convertToInteractive('df-cca0cc87-e2af-4485-99f4-a2e3c7b3642b')\"\n",
              "              title=\"Convert this dataframe to an interactive table.\"\n",
              "              style=\"display:none;\">\n",
              "        \n",
              "  <svg xmlns=\"http://www.w3.org/2000/svg\" height=\"24px\"viewBox=\"0 0 24 24\"\n",
              "       width=\"24px\">\n",
              "    <path d=\"M0 0h24v24H0V0z\" fill=\"none\"/>\n",
              "    <path d=\"M18.56 5.44l.94 2.06.94-2.06 2.06-.94-2.06-.94-.94-2.06-.94 2.06-2.06.94zm-11 1L8.5 8.5l.94-2.06 2.06-.94-2.06-.94L8.5 2.5l-.94 2.06-2.06.94zm10 10l.94 2.06.94-2.06 2.06-.94-2.06-.94-.94-2.06-.94 2.06-2.06.94z\"/><path d=\"M17.41 7.96l-1.37-1.37c-.4-.4-.92-.59-1.43-.59-.52 0-1.04.2-1.43.59L10.3 9.45l-7.72 7.72c-.78.78-.78 2.05 0 2.83L4 21.41c.39.39.9.59 1.41.59.51 0 1.02-.2 1.41-.59l7.78-7.78 2.81-2.81c.8-.78.8-2.07 0-2.86zM5.41 20L4 18.59l7.72-7.72 1.47 1.35L5.41 20z\"/>\n",
              "  </svg>\n",
              "      </button>\n",
              "      \n",
              "  <style>\n",
              "    .colab-df-container {\n",
              "      display:flex;\n",
              "      flex-wrap:wrap;\n",
              "      gap: 12px;\n",
              "    }\n",
              "\n",
              "    .colab-df-convert {\n",
              "      background-color: #E8F0FE;\n",
              "      border: none;\n",
              "      border-radius: 50%;\n",
              "      cursor: pointer;\n",
              "      display: none;\n",
              "      fill: #1967D2;\n",
              "      height: 32px;\n",
              "      padding: 0 0 0 0;\n",
              "      width: 32px;\n",
              "    }\n",
              "\n",
              "    .colab-df-convert:hover {\n",
              "      background-color: #E2EBFA;\n",
              "      box-shadow: 0px 1px 2px rgba(60, 64, 67, 0.3), 0px 1px 3px 1px rgba(60, 64, 67, 0.15);\n",
              "      fill: #174EA6;\n",
              "    }\n",
              "\n",
              "    [theme=dark] .colab-df-convert {\n",
              "      background-color: #3B4455;\n",
              "      fill: #D2E3FC;\n",
              "    }\n",
              "\n",
              "    [theme=dark] .colab-df-convert:hover {\n",
              "      background-color: #434B5C;\n",
              "      box-shadow: 0px 1px 3px 1px rgba(0, 0, 0, 0.15);\n",
              "      filter: drop-shadow(0px 1px 2px rgba(0, 0, 0, 0.3));\n",
              "      fill: #FFFFFF;\n",
              "    }\n",
              "  </style>\n",
              "\n",
              "      <script>\n",
              "        const buttonEl =\n",
              "          document.querySelector('#df-cca0cc87-e2af-4485-99f4-a2e3c7b3642b button.colab-df-convert');\n",
              "        buttonEl.style.display =\n",
              "          google.colab.kernel.accessAllowed ? 'block' : 'none';\n",
              "\n",
              "        async function convertToInteractive(key) {\n",
              "          const element = document.querySelector('#df-cca0cc87-e2af-4485-99f4-a2e3c7b3642b');\n",
              "          const dataTable =\n",
              "            await google.colab.kernel.invokeFunction('convertToInteractive',\n",
              "                                                     [key], {});\n",
              "          if (!dataTable) return;\n",
              "\n",
              "          const docLinkHtml = 'Like what you see? Visit the ' +\n",
              "            '<a target=\"_blank\" href=https://colab.research.google.com/notebooks/data_table.ipynb>data table notebook</a>'\n",
              "            + ' to learn more about interactive tables.';\n",
              "          element.innerHTML = '';\n",
              "          dataTable['output_type'] = 'display_data';\n",
              "          await google.colab.output.renderOutput(dataTable, element);\n",
              "          const docLink = document.createElement('div');\n",
              "          docLink.innerHTML = docLinkHtml;\n",
              "          element.appendChild(docLink);\n",
              "        }\n",
              "      </script>\n",
              "    </div>\n",
              "  </div>\n",
              "  "
            ]
          },
          "metadata": {},
          "execution_count": 119
        }
      ]
    },
    {
      "cell_type": "code",
      "source": [
        "dataset.columns"
      ],
      "metadata": {
        "colab": {
          "base_uri": "https://localhost:8080/"
        },
        "id": "BeGeeDhpH605",
        "outputId": "f2a4af6a-1cdc-46ea-9436-dc2a2a00cdba"
      },
      "execution_count": 120,
      "outputs": [
        {
          "output_type": "execute_result",
          "data": {
            "text/plain": [
              "Index(['Date', 'Price', 'Open', 'High', 'Low', 'Vol.', 'Change %'], dtype='object')"
            ]
          },
          "metadata": {},
          "execution_count": 120
        }
      ]
    },
    {
      "cell_type": "code",
      "source": [
        "import matplotlib.pyplot as plt\n",
        "dataset['Price'].plot(figsize=(10, 7))\n",
        "plt.ylabel(\"XRP Price\")\n",
        "plt.title(\"Price of XRP\", fontsize=16)\n",
        "plt.legend(fontsize=14);"
      ],
      "metadata": {
        "colab": {
          "base_uri": "https://localhost:8080/",
          "height": 624
        },
        "id": "6wfPRoEuKsNN",
        "outputId": "faeae396-876a-401f-e99f-89b076a2c059"
      },
      "execution_count": 122,
      "outputs": [
        {
          "output_type": "display_data",
          "data": {
            "text/plain": [
              "<Figure size 1000x700 with 1 Axes>"
            ],
            "image/png": "[encoded data removed]"
          },
          "metadata": {}
        }
      ]
    },
    {
      "cell_type": "code",
      "source": [
        "dataset.iloc[0]"
      ],
      "metadata": {
        "colab": {
          "base_uri": "https://localhost:8080/"
        },
        "id": "h3cql27ts_RS",
        "outputId": "42f7edee-e932-4a98-bd7d-b4e3dfb2ae69"
      },
      "execution_count": 126,
      "outputs": [
        {
          "output_type": "execute_result",
          "data": {
            "text/plain": [
              "Date        2018-01-01 00:00:00\n",
              "Price                      2.05\n",
              "Open                       1.98\n",
              "High                       2.09\n",
              "Low                        1.81\n",
              "Vol.                    120.74M\n",
              "Change %                  3.54%\n",
              "Name: 1960, dtype: object"
            ]
          },
          "metadata": {},
          "execution_count": 126
        }
      ]
    },
    {
      "cell_type": "code",
      "source": [
        "price_data = dataset['Price'].values\n",
        "price_data"
      ],
      "metadata": {
        "colab": {
          "base_uri": "https://localhost:8080/"
        },
        "id": "juGxQ7bjRE5v",
        "outputId": "c5a77705-0e11-46e4-efc4-34c8eb8072a6"
      },
      "execution_count": 127,
      "outputs": [
        {
          "output_type": "execute_result",
          "data": {
            "text/plain": [
              "array([2.05   , 2.19   , 2.73   , ..., 0.42401, 0.42522, 0.42752])"
            ]
          },
          "metadata": {},
          "execution_count": 127
        }
      ]
    },
    {
      "cell_type": "code",
      "source": [
        "price_data.shape"
      ],
      "metadata": {
        "colab": {
          "base_uri": "https://localhost:8080/"
        },
        "id": "MZitbEKIReji",
        "outputId": "ef6a26f8-84b6-49fd-aeab-b09afe61bfe1"
      },
      "execution_count": 128,
      "outputs": [
        {
          "output_type": "execute_result",
          "data": {
            "text/plain": [
              "(1961,)"
            ]
          },
          "metadata": {},
          "execution_count": 128
        }
      ]
    },
    {
      "cell_type": "code",
      "source": [
        "train_data, test_data = price_data[0:1800], price_data[1800:]"
      ],
      "metadata": {
        "id": "PZN10RpgRo3U"
      },
      "execution_count": 129,
      "outputs": []
    },
    {
      "cell_type": "code",
      "source": [
        "train_data.shape, test_data.shape"
      ],
      "metadata": {
        "colab": {
          "base_uri": "https://localhost:8080/"
        },
        "id": "3hxrDzK3RpJA",
        "outputId": "46ecc933-9116-4751-ff5d-33658677c66f"
      },
      "execution_count": 130,
      "outputs": [
        {
          "output_type": "execute_result",
          "data": {
            "text/plain": [
              "((1800,), (161,))"
            ]
          },
          "metadata": {},
          "execution_count": 130
        }
      ]
    },
    {
      "cell_type": "code",
      "source": [
        "def windowed_dataset(series, time_step):\n",
        "    dataX, dataY = [], []\n",
        "    for i in range(len(series) - time_step - 1):\n",
        "        a = series[i : i + time_step]  # Remove the indexing with \", 0\"\n",
        "        dataX.append(a)\n",
        "        dataY.append(series[i + time_step])\n",
        "        \n",
        "    return np.array(dataX), np.array(dataY)"
      ],
      "metadata": {
        "id": "HNXnFWf8SJMT"
      },
      "execution_count": 131,
      "outputs": []
    },
    {
      "cell_type": "code",
      "source": [
        "X_train, y_train = windowed_dataset(train_data, time_step=7)\n",
        "X_test, y_test = windowed_dataset(test_data, time_step=7)"
      ],
      "metadata": {
        "id": "CrcXsapOSJXx"
      },
      "execution_count": 132,
      "outputs": []
    },
    {
      "cell_type": "code",
      "source": [
        "X_train.shape, y_train.shape, X_test.shape, y_test.shape"
      ],
      "metadata": {
        "colab": {
          "base_uri": "https://localhost:8080/"
        },
        "id": "lHZS3N7ASSwq",
        "outputId": "c7fa5641-58eb-4932-e67a-9652e7e78f54"
      },
      "execution_count": 133,
      "outputs": [
        {
          "output_type": "execute_result",
          "data": {
            "text/plain": [
              "((1792, 7), (1792,), (153, 7), (153,))"
            ]
          },
          "metadata": {},
          "execution_count": 133
        }
      ]
    },
    {
      "cell_type": "code",
      "source": [
        "X_train = X_train.reshape(X_train.shape[0], X_train.shape[1], 1)\n",
        "X_test = X_test.reshape(X_test.shape[0], X_test.shape[1], 1)\n",
        "\n",
        "print(X_train.shape) \n",
        "print(X_test.shape)"
      ],
      "metadata": {
        "colab": {
          "base_uri": "https://localhost:8080/"
        },
        "id": "vNyapBF2SV6B",
        "outputId": "9372c88a-d14b-44a5-b892-3de39cd2abe7"
      },
      "execution_count": 134,
      "outputs": [
        {
          "output_type": "stream",
          "name": "stdout",
          "text": [
            "(1792, 7, 1)\n",
            "(153, 7, 1)\n"
          ]
        }
      ]
    },
    {
      "cell_type": "code",
      "source": [
        "X_train[0]"
      ],
      "metadata": {
        "colab": {
          "base_uri": "https://localhost:8080/"
        },
        "id": "IRaIl8SQP2kz",
        "outputId": "f5225fcb-4245-4f2e-e70f-31d1f54aced0"
      },
      "execution_count": 135,
      "outputs": [
        {
          "output_type": "execute_result",
          "data": {
            "text/plain": [
              "array([[2.05],\n",
              "       [2.19],\n",
              "       [2.73],\n",
              "       [2.73],\n",
              "       [2.51],\n",
              "       [2.65],\n",
              "       [2.78]])"
            ]
          },
          "metadata": {},
          "execution_count": 135
        }
      ]
    },
    {
      "cell_type": "code",
      "source": [
        "import tensorflow as tf\n",
        "from tensorflow.keras import models, layers"
      ],
      "metadata": {
        "id": "poOi-84Ykab6"
      },
      "execution_count": 136,
      "outputs": []
    },
    {
      "cell_type": "code",
      "source": [
        "# Create the LSTM model\n",
        "model = models.Sequential()\n",
        "\n",
        "model.add(layers.Input(shape = (7, 1), dtype=tf.float32))\n",
        "# Add the Normalization layer\n",
        "model.add(layers.Normalization())\n",
        "\n",
        "# Specify the mean and variance for normalization\n",
        "model.layers[0].adapt(X_train)\n",
        "\n",
        "model.add(layers.LSTM(units=100, activation='relu', return_sequences=True))\n",
        "model.add(layers.Dropout(0.3))\n",
        "\n",
        "model.add(layers.LSTM(units=50, activation='relu', return_sequences=True))\n",
        "model.add(layers.Dropout(0.4))\n",
        "\n",
        "model.add(layers.LSTM(units=10, activation='relu'))\n",
        "model.add(layers.Dropout(0.2))\n",
        "\n",
        "model.add(layers.Dense(units=1))"
      ],
      "metadata": {
        "id": "25cXgPpbTMN5"
      },
      "execution_count": 137,
      "outputs": []
    },
    {
      "cell_type": "code",
      "source": [
        "model.summary()"
      ],
      "metadata": {
        "colab": {
          "base_uri": "https://localhost:8080/"
        },
        "id": "-IhqBiwCVKA_",
        "outputId": "8ffe08bc-4eef-4101-c344-2a28d74a6eb8"
      },
      "execution_count": 138,
      "outputs": [
        {
          "output_type": "stream",
          "name": "stdout",
          "text": [
            "Model: \"sequential_3\"\n",
            "_________________________________________________________________\n",
            " Layer (type)                Output Shape              Param #   \n",
            "=================================================================\n",
            " normalization_3 (Normalizat  (None, 7, 1)             3         \n",
            " ion)                                                            \n",
            "                                                                 \n",
            " lstm_9 (LSTM)               (None, 7, 100)            40800     \n",
            "                                                                 \n",
            " dropout_9 (Dropout)         (None, 7, 100)            0         \n",
            "                                                                 \n",
            " lstm_10 (LSTM)              (None, 7, 50)             30200     \n",
            "                                                                 \n",
            " dropout_10 (Dropout)        (None, 7, 50)             0         \n",
            "                                                                 \n",
            " lstm_11 (LSTM)              (None, 10)                2440      \n",
            "                                                                 \n",
            " dropout_11 (Dropout)        (None, 10)                0         \n",
            "                                                                 \n",
            " dense_3 (Dense)             (None, 1)                 11        \n",
            "                                                                 \n",
            "=================================================================\n",
            "Total params: 73,454\n",
            "Trainable params: 73,451\n",
            "Non-trainable params: 3\n",
            "_________________________________________________________________\n"
          ]
        }
      ]
    },
    {
      "cell_type": "code",
      "source": [
        "model.compile(optimizer = 'adamax', loss = 'mse', metrics = 'mae')"
      ],
      "metadata": {
        "id": "a8vNqJrrXR-G"
      },
      "execution_count": 139,
      "outputs": []
    },
    {
      "cell_type": "code",
      "source": [
        "# Fitting the RNN to the Training set\n",
        "history = model.fit(X_train, y_train, validation_split=0.1, epochs = 30, batch_size = 32, verbose=1, shuffle=False)"
      ],
      "metadata": {
        "colab": {
          "base_uri": "https://localhost:8080/"
        },
        "id": "r8sNewtrVPyh",
        "outputId": "b3d9d69a-516d-4f22-8139-d386c1eb46f0"
      },
      "execution_count": 140,
      "outputs": [
        {
          "output_type": "stream",
          "name": "stdout",
          "text": [
            "Epoch 1/30\n",
            "51/51 [==============================] - 7s 32ms/step - loss: 0.3175 - mae: 0.4363 - val_loss: 0.0265 - val_mae: 0.1338\n",
            "Epoch 2/30\n",
            "51/51 [==============================] - 1s 21ms/step - loss: 0.2027 - mae: 0.3440 - val_loss: 0.0184 - val_mae: 0.1150\n",
            "Epoch 3/30\n",
            "51/51 [==============================] - 1s 28ms/step - loss: 0.0894 - mae: 0.2274 - val_loss: 0.0044 - val_mae: 0.0497\n",
            "Epoch 4/30\n",
            "51/51 [==============================] - 2s 40ms/step - loss: 0.1412 - mae: 0.1938 - val_loss: 0.0072 - val_mae: 0.0709\n",
            "Epoch 5/30\n",
            "51/51 [==============================] - 2s 44ms/step - loss: 0.0790 - mae: 0.1760 - val_loss: 0.0083 - val_mae: 0.0805\n",
            "Epoch 6/30\n",
            "51/51 [==============================] - 2s 30ms/step - loss: 0.0645 - mae: 0.1632 - val_loss: 0.0079 - val_mae: 0.0797\n",
            "Epoch 7/30\n",
            "51/51 [==============================] - 1s 20ms/step - loss: 0.0654 - mae: 0.1567 - val_loss: 0.0073 - val_mae: 0.0769\n",
            "Epoch 8/30\n",
            "51/51 [==============================] - 1s 21ms/step - loss: 0.0624 - mae: 0.1566 - val_loss: 0.0064 - val_mae: 0.0722\n",
            "Epoch 9/30\n",
            "51/51 [==============================] - 1s 21ms/step - loss: 0.0582 - mae: 0.1452 - val_loss: 0.0060 - val_mae: 0.0707\n",
            "Epoch 10/30\n",
            "51/51 [==============================] - 1s 20ms/step - loss: 0.0645 - mae: 0.1507 - val_loss: 0.0045 - val_mae: 0.0599\n",
            "Epoch 11/30\n",
            "51/51 [==============================] - 1s 21ms/step - loss: 0.0420 - mae: 0.1296 - val_loss: 0.0038 - val_mae: 0.0558\n",
            "Epoch 12/30\n",
            "51/51 [==============================] - 1s 20ms/step - loss: 0.0465 - mae: 0.1289 - val_loss: 0.0030 - val_mae: 0.0484\n",
            "Epoch 13/30\n",
            "51/51 [==============================] - 1s 20ms/step - loss: 0.0434 - mae: 0.1205 - val_loss: 0.0023 - val_mae: 0.0405\n",
            "Epoch 14/30\n",
            "51/51 [==============================] - 1s 27ms/step - loss: 0.0378 - mae: 0.1197 - val_loss: 0.0020 - val_mae: 0.0363\n",
            "Epoch 15/30\n",
            "51/51 [==============================] - 2s 31ms/step - loss: 0.0419 - mae: 0.1203 - val_loss: 0.0016 - val_mae: 0.0316\n",
            "Epoch 16/30\n",
            "51/51 [==============================] - 2s 32ms/step - loss: 0.0405 - mae: 0.1208 - val_loss: 0.0016 - val_mae: 0.0308\n",
            "Epoch 17/30\n",
            "51/51 [==============================] - 1s 21ms/step - loss: 0.0372 - mae: 0.1162 - val_loss: 0.0015 - val_mae: 0.0294\n",
            "Epoch 18/30\n",
            "51/51 [==============================] - 1s 21ms/step - loss: 0.0347 - mae: 0.1151 - val_loss: 0.0016 - val_mae: 0.0306\n",
            "Epoch 19/30\n",
            "51/51 [==============================] - 1s 20ms/step - loss: 0.0346 - mae: 0.1131 - val_loss: 0.0017 - val_mae: 0.0324\n",
            "Epoch 20/30\n",
            "51/51 [==============================] - 1s 21ms/step - loss: 0.0357 - mae: 0.1150 - val_loss: 0.0015 - val_mae: 0.0293\n",
            "Epoch 21/30\n",
            "51/51 [==============================] - 1s 20ms/step - loss: 0.0326 - mae: 0.1132 - val_loss: 0.0019 - val_mae: 0.0346\n",
            "Epoch 22/30\n",
            "51/51 [==============================] - 1s 20ms/step - loss: 0.0365 - mae: 0.1093 - val_loss: 0.0016 - val_mae: 0.0314\n",
            "Epoch 23/30\n",
            "51/51 [==============================] - 1s 20ms/step - loss: 0.0289 - mae: 0.1091 - val_loss: 0.0016 - val_mae: 0.0305\n",
            "Epoch 24/30\n",
            "51/51 [==============================] - 1s 21ms/step - loss: 0.0291 - mae: 0.1076 - val_loss: 0.0016 - val_mae: 0.0308\n",
            "Epoch 25/30\n",
            "51/51 [==============================] - 1s 20ms/step - loss: 0.0289 - mae: 0.1046 - val_loss: 0.0017 - val_mae: 0.0319\n",
            "Epoch 26/30\n",
            "51/51 [==============================] - 1s 26ms/step - loss: 0.0296 - mae: 0.1046 - val_loss: 0.0016 - val_mae: 0.0308\n",
            "Epoch 27/30\n",
            "51/51 [==============================] - 2s 31ms/step - loss: 0.0288 - mae: 0.1059 - val_loss: 0.0018 - val_mae: 0.0340\n",
            "Epoch 28/30\n",
            "51/51 [==============================] - 2s 32ms/step - loss: 0.0326 - mae: 0.1075 - val_loss: 0.0015 - val_mae: 0.0291\n",
            "Epoch 29/30\n",
            "51/51 [==============================] - 1s 22ms/step - loss: 0.0297 - mae: 0.1055 - val_loss: 0.0018 - val_mae: 0.0344\n",
            "Epoch 30/30\n",
            "51/51 [==============================] - 1s 21ms/step - loss: 0.0259 - mae: 0.1005 - val_loss: 0.0018 - val_mae: 0.0343\n"
          ]
        }
      ]
    },
    {
      "cell_type": "code",
      "source": [
        "plt.figure(figsize=(16,7))\n",
        "plt.plot(history.history[\"loss\"], label= \"train loss\")\n",
        "plt.plot(history.history[\"val_loss\"], label= \"validation loss\")\n",
        "plt.legend();"
      ],
      "metadata": {
        "colab": {
          "base_uri": "https://localhost:8080/",
          "height": 515
        },
        "id": "LrXki-umXP8V",
        "outputId": "e09dd813-6ae2-48b0-c788-0f11a3b622da"
      },
      "execution_count": 141,
      "outputs": [
        {
          "output_type": "display_data",
          "data": {
            "text/plain": [
              "<Figure size 1600x700 with 1 Axes>"
            ],
            "image/png": "[encoded data removed]"
          },
          "metadata": {}
        }
      ]
    },
    {
      "cell_type": "code",
      "source": [
        "train_predict = model.predict(X_train)\n",
        "test_predict = model.predict(X_test)"
      ],
      "metadata": {
        "colab": {
          "base_uri": "https://localhost:8080/"
        },
        "id": "SXJeCP6NXjtc",
        "outputId": "d13c141e-e0ad-4407-d7d4-9380ead88648"
      },
      "execution_count": 142,
      "outputs": [
        {
          "output_type": "stream",
          "name": "stdout",
          "text": [
            "56/56 [==============================] - 1s 5ms/step\n",
            "5/5 [==============================] - 0s 6ms/step\n"
          ]
        }
      ]
    },
    {
      "cell_type": "code",
      "source": [
        "plt.figure(figsize=(16,7))\n",
        "plt.plot(y_test.flatten(), marker='.', label=\"Actual\")\n",
        "plt.plot(test_predict.flatten(), 'r', marker='.', label=\"Predicted\")\n",
        "plt.legend();"
      ],
      "metadata": {
        "colab": {
          "base_uri": "https://localhost:8080/",
          "height": 515
        },
        "id": "aDRR_XonXoTg",
        "outputId": "e74f768c-302d-4eff-d88f-b149df537f30"
      },
      "execution_count": 143,
      "outputs": [
        {
          "output_type": "display_data",
          "data": {
            "text/plain": [
              "<Figure size 1600x700 with 1 Axes>"
            ],
            "image/png": "[encoded data removed]"
          },
          "metadata": {}
        }
      ]
    },
    {
      "cell_type": "code",
      "source": [
        "from sklearn.metrics import mean_absolute_error, mean_squared_error\n",
        "\n",
        "train_RMSE = np.sqrt(mean_squared_error(y_train, train_predict))\n",
        "test_RMSE = np.sqrt(mean_squared_error(y_test, test_predict))\n",
        "train_MAE = np.sqrt(mean_absolute_error(y_train, train_predict))\n",
        "test_MAE = np.sqrt(mean_absolute_error(y_test, test_predict))\n",
        "\n",
        "\n",
        "print(f\"Train RMSE: {train_RMSE}\")\n",
        "print(f\"Train MAE: {train_MAE}\")\n",
        "\n",
        "print(f\"Test RMSE: {test_RMSE}\")\n",
        "print(f\"Test MAE: {test_MAE}\")"
      ],
      "metadata": {
        "colab": {
          "base_uri": "https://localhost:8080/"
        },
        "id": "n8bwLaVrXoqO",
        "outputId": "2708ba17-4bad-4352-fbdc-2cd67c0b3ea5"
      },
      "execution_count": 144,
      "outputs": [
        {
          "output_type": "stream",
          "name": "stdout",
          "text": [
            "Train RMSE: 0.09327241169456443\n",
            "Train MAE: 0.23191330407306454\n",
            "Test RMSE: 0.03788276717048237\n",
            "Test MAE: 0.17477370610014561\n"
          ]
        }
      ]
    },
    {
      "cell_type": "markdown",
      "source": [
        "# at Inference"
      ],
      "metadata": {
        "id": "kdaXuZYhlE_x"
      }
    },
    {
      "cell_type": "code",
      "source": [
        "from google.colab import drive\n",
        "drive.mount('/content/drive')"
      ],
      "metadata": {
        "colab": {
          "base_uri": "https://localhost:8080/"
        },
        "id": "uvh9oOxmLRgm",
        "outputId": "4cf7f4b4-aad8-48a2-8576-a267cd2c9f73"
      },
      "execution_count": 41,
      "outputs": [
        {
          "output_type": "stream",
          "name": "stdout",
          "text": [
            "Mounted at /content/drive\n"
          ]
        }
      ]
    },
    {
      "cell_type": "code",
      "source": [
        "model.save(\"XRP_Price_Prediction\")"
      ],
      "metadata": {
        "colab": {
          "base_uri": "https://localhost:8080/"
        },
        "id": "mYHkypxhk9cH",
        "outputId": "a8489901-adc1-488e-c933-cf12eebbc3b6"
      },
      "execution_count": 145,
      "outputs": [
        {
          "output_type": "stream",
          "name": "stderr",
          "text": [
            "WARNING:absl:Found untraced functions such as _update_step_xla while saving (showing 1 of 1). These functions will not be directly callable after loading.\n"
          ]
        }
      ]
    },
    {
      "cell_type": "code",
      "source": [
        "model = tf.keras.saving.load_model(\"/content/XRP_Price_Prediction\")"
      ],
      "metadata": {
        "id": "aons6uoDk9fV"
      },
      "execution_count": 146,
      "outputs": []
    },
    {
      "cell_type": "code",
      "source": [
        "%cp -av /content/XRP_Price_Prediction /content/drive/MyDrive/Multiple_Stock_Price_Prediction"
      ],
      "metadata": {
        "colab": {
          "base_uri": "https://localhost:8080/"
        },
        "id": "zR_uT07bk9ih",
        "outputId": "8c5fe296-25b3-4502-9b0c-c4deccfc20bf"
      },
      "execution_count": 147,
      "outputs": [
        {
          "output_type": "stream",
          "name": "stdout",
          "text": [
            "'/content/XRP_Price_Prediction' -> '/content/drive/MyDrive/Multiple_Stock_Price_Prediction/XRP_Price_Prediction'\n",
            "'/content/XRP_Price_Prediction/variables' -> '/content/drive/MyDrive/Multiple_Stock_Price_Prediction/XRP_Price_Prediction/variables'\n",
            "'/content/XRP_Price_Prediction/variables/variables.data-00000-of-00001' -> '/content/drive/MyDrive/Multiple_Stock_Price_Prediction/XRP_Price_Prediction/variables/variables.data-00000-of-00001'\n",
            "'/content/XRP_Price_Prediction/variables/variables.index' -> '/content/drive/MyDrive/Multiple_Stock_Price_Prediction/XRP_Price_Prediction/variables/variables.index'\n",
            "'/content/XRP_Price_Prediction/assets' -> '/content/drive/MyDrive/Multiple_Stock_Price_Prediction/XRP_Price_Prediction/assets'\n",
            "'/content/XRP_Price_Prediction/fingerprint.pb' -> '/content/drive/MyDrive/Multiple_Stock_Price_Prediction/XRP_Price_Prediction/fingerprint.pb'\n",
            "'/content/XRP_Price_Prediction/saved_model.pb' -> '/content/drive/MyDrive/Multiple_Stock_Price_Prediction/XRP_Price_Prediction/saved_model.pb'\n",
            "'/content/XRP_Price_Prediction/keras_metadata.pb' -> '/content/drive/MyDrive/Multiple_Stock_Price_Prediction/XRP_Price_Prediction/keras_metadata.pb'\n"
          ]
        }
      ]
    },
    {
      "cell_type": "code",
      "source": [
        "X_test[0].shape"
      ],
      "metadata": {
        "colab": {
          "base_uri": "https://localhost:8080/"
        },
        "id": "rUKUT-QaaaKt",
        "outputId": "1bf2d616-9faf-4546-d115-398cbc527d00"
      },
      "execution_count": 148,
      "outputs": [
        {
          "output_type": "execute_result",
          "data": {
            "text/plain": [
              "(7, 1)"
            ]
          },
          "metadata": {},
          "execution_count": 148
        }
      ]
    },
    {
      "cell_type": "code",
      "source": [
        "prices = np.array([[2.05],\n",
        "       [2.19],\n",
        "       [2.73],\n",
        "       [2.73],\n",
        "       [2.51],\n",
        "       [2.65],\n",
        "       [2.78]])\n",
        "prices = prices.reshape(1, -1, 1)\n",
        "prediction_price = model.predict(prices)\n",
        "prediction_price = prediction_price[0][0]\n",
        "print(\"Prediction Price: \", prediction_price)"
      ],
      "metadata": {
        "id": "ae5tO4X4bCIB",
        "colab": {
          "base_uri": "https://localhost:8080/"
        },
        "outputId": "437c3a58-b8a9-4de2-f92c-33e113206ca2"
      },
      "execution_count": 149,
      "outputs": [
        {
          "output_type": "stream",
          "name": "stdout",
          "text": [
            "1/1 [==============================] - 0s 451ms/step\n",
            "Prediction Price:  1.9422054\n"
          ]
        }
      ]
    },
    {
      "cell_type": "code",
      "source": [
        "print(\"Predicted XRP Price: {0:.2f} \".format(prediction_price))"
      ],
      "metadata": {
        "colab": {
          "base_uri": "https://localhost:8080/"
        },
        "id": "3zKBhqE-mehR",
        "outputId": "08ea8156-d731-4981-82fe-df318dc1155e"
      },
      "execution_count": 150,
      "outputs": [
        {
          "output_type": "stream",
          "name": "stdout",
          "text": [
            "Predicted XRP Price: 1.94 \n"
          ]
        }
      ]
    },
    {
      "cell_type": "code",
      "source": [],
      "metadata": {
        "id": "HSrimdY780m5"
      },
      "execution_count": null,
      "outputs": []
    }
  ]
}