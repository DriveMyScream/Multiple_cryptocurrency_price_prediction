{
  "nbformat": 4,
  "nbformat_minor": 0,
  "metadata": {
    "colab": {
      "provenance": []
    },
    "kernelspec": {
      "name": "python3",
      "display_name": "Python 3"
    },
    "language_info": {
      "name": "python"
    }
  },
  "cells": [
    {
      "cell_type": "markdown",
      "source": [
        "# Imports"
      ],
      "metadata": {
        "id": "9nxMubEyjk_-"
      }
    },
    {
      "cell_type": "code",
      "execution_count": 1,
      "metadata": {
        "id": "RKhvtAXGqQaU"
      },
      "outputs": [],
      "source": [
        "import numpy as np\n",
        "import pandas as pd\n",
        "import matplotlib.pyplot as plt\n",
        "import seaborn as sns\n",
        "import tensorflow as tf"
      ]
    },
    {
      "cell_type": "markdown",
      "source": [
        "# data Loading"
      ],
      "metadata": {
        "id": "ik0QY4cljp9X"
      }
    },
    {
      "cell_type": "code",
      "source": [
        "data_path = \"https://raw.githubusercontent.com/DriveMyScream/Multiple_Stock_Price_Prediction/main/BNB_USD%20Binance%20Historical%20Data.csv\"\n",
        "dataset = pd.read_csv(data_path, parse_dates=['Date'])\n",
        "dataset.head(5)"
      ],
      "metadata": {
        "colab": {
          "base_uri": "https://localhost:8080/",
          "height": 206
        },
        "id": "fgiZJaKiru3f",
        "outputId": "0ae74291-e471-471a-f442-1a9ebfffeaad"
      },
      "execution_count": 82,
      "outputs": [
        {
          "output_type": "execute_result",
          "data": {
            "text/plain": [
              "        Date  Price   Open   High    Low     Vol. Change %\n",
              "0 2023-05-15  313.7  312.0  314.4  310.7  212.75K    0.51%\n",
              "1 2023-05-14  312.1  310.8  314.7  309.5  192.93K    0.45%\n",
              "2 2023-05-13  310.7  308.7  311.8  307.6  151.65K    0.68%\n",
              "3 2023-05-12  308.6  307.6  309.0  301.3  327.02K    0.36%\n",
              "4 2023-05-11  307.5  314.3  314.4  304.5  291.86K   -2.16%"
            ],
            "text/html": [
              "\n",
              "  <div id=\"df-4286e2e3-74df-4265-a8f9-25ea09a54f00\">\n",
              "    <div class=\"colab-df-container\">\n",
              "      <div>\n",
              "<style scoped>\n",
              "    .dataframe tbody tr th:only-of-type {\n",
              "        vertical-align: middle;\n",
              "    }\n",
              "\n",
              "    .dataframe tbody tr th {\n",
              "        vertical-align: top;\n",
              "    }\n",
              "\n",
              "    .dataframe thead th {\n",
              "        text-align: right;\n",
              "    }\n",
              "</style>\n",
              "<table border=\"1\" class=\"dataframe\">\n",
              "  <thead>\n",
              "    <tr style=\"text-align: right;\">\n",
              "      <th></th>\n",
              "      <th>Date</th>\n",
              "      <th>Price</th>\n",
              "      <th>Open</th>\n",
              "      <th>High</th>\n",
              "      <th>Low</th>\n",
              "      <th>Vol.</th>\n",
              "      <th>Change %</th>\n",
              "    </tr>\n",
              "  </thead>\n",
              "  <tbody>\n",
              "    <tr>\n",
              "      <th>0</th>\n",
              "      <td>2023-05-15</td>\n",
              "      <td>313.7</td>\n",
              "      <td>312.0</td>\n",
              "      <td>314.4</td>\n",
              "      <td>310.7</td>\n",
              "      <td>212.75K</td>\n",
              "      <td>0.51%</td>\n",
              "    </tr>\n",
              "    <tr>\n",
              "      <th>1</th>\n",
              "      <td>2023-05-14</td>\n",
              "      <td>312.1</td>\n",
              "      <td>310.8</td>\n",
              "      <td>314.7</td>\n",
              "      <td>309.5</td>\n",
              "      <td>192.93K</td>\n",
              "      <td>0.45%</td>\n",
              "    </tr>\n",
              "    <tr>\n",
              "      <th>2</th>\n",
              "      <td>2023-05-13</td>\n",
              "      <td>310.7</td>\n",
              "      <td>308.7</td>\n",
              "      <td>311.8</td>\n",
              "      <td>307.6</td>\n",
              "      <td>151.65K</td>\n",
              "      <td>0.68%</td>\n",
              "    </tr>\n",
              "    <tr>\n",
              "      <th>3</th>\n",
              "      <td>2023-05-12</td>\n",
              "      <td>308.6</td>\n",
              "      <td>307.6</td>\n",
              "      <td>309.0</td>\n",
              "      <td>301.3</td>\n",
              "      <td>327.02K</td>\n",
              "      <td>0.36%</td>\n",
              "    </tr>\n",
              "    <tr>\n",
              "      <th>4</th>\n",
              "      <td>2023-05-11</td>\n",
              "      <td>307.5</td>\n",
              "      <td>314.3</td>\n",
              "      <td>314.4</td>\n",
              "      <td>304.5</td>\n",
              "      <td>291.86K</td>\n",
              "      <td>-2.16%</td>\n",
              "    </tr>\n",
              "  </tbody>\n",
              "</table>\n",
              "</div>\n",
              "      <button class=\"colab-df-convert\" onclick=\"convertToInteractive('df-4286e2e3-74df-4265-a8f9-25ea09a54f00')\"\n",
              "              title=\"Convert this dataframe to an interactive table.\"\n",
              "              style=\"display:none;\">\n",
              "        \n",
              "  <svg xmlns=\"http://www.w3.org/2000/svg\" height=\"24px\"viewBox=\"0 0 24 24\"\n",
              "       width=\"24px\">\n",
              "    <path d=\"M0 0h24v24H0V0z\" fill=\"none\"/>\n",
              "    <path d=\"M18.56 5.44l.94 2.06.94-2.06 2.06-.94-2.06-.94-.94-2.06-.94 2.06-2.06.94zm-11 1L8.5 8.5l.94-2.06 2.06-.94-2.06-.94L8.5 2.5l-.94 2.06-2.06.94zm10 10l.94 2.06.94-2.06 2.06-.94-2.06-.94-.94-2.06-.94 2.06-2.06.94z\"/><path d=\"M17.41 7.96l-1.37-1.37c-.4-.4-.92-.59-1.43-.59-.52 0-1.04.2-1.43.59L10.3 9.45l-7.72 7.72c-.78.78-.78 2.05 0 2.83L4 21.41c.39.39.9.59 1.41.59.51 0 1.02-.2 1.41-.59l7.78-7.78 2.81-2.81c.8-.78.8-2.07 0-2.86zM5.41 20L4 18.59l7.72-7.72 1.47 1.35L5.41 20z\"/>\n",
              "  </svg>\n",
              "      </button>\n",
              "      \n",
              "  <style>\n",
              "    .colab-df-container {\n",
              "      display:flex;\n",
              "      flex-wrap:wrap;\n",
              "      gap: 12px;\n",
              "    }\n",
              "\n",
              "    .colab-df-convert {\n",
              "      background-color: #E8F0FE;\n",
              "      border: none;\n",
              "      border-radius: 50%;\n",
              "      cursor: pointer;\n",
              "      display: none;\n",
              "      fill: #1967D2;\n",
              "      height: 32px;\n",
              "      padding: 0 0 0 0;\n",
              "      width: 32px;\n",
              "    }\n",
              "\n",
              "    .colab-df-convert:hover {\n",
              "      background-color: #E2EBFA;\n",
              "      box-shadow: 0px 1px 2px rgba(60, 64, 67, 0.3), 0px 1px 3px 1px rgba(60, 64, 67, 0.15);\n",
              "      fill: #174EA6;\n",
              "    }\n",
              "\n",
              "    [theme=dark] .colab-df-convert {\n",
              "      background-color: #3B4455;\n",
              "      fill: #D2E3FC;\n",
              "    }\n",
              "\n",
              "    [theme=dark] .colab-df-convert:hover {\n",
              "      background-color: #434B5C;\n",
              "      box-shadow: 0px 1px 3px 1px rgba(0, 0, 0, 0.15);\n",
              "      filter: drop-shadow(0px 1px 2px rgba(0, 0, 0, 0.3));\n",
              "      fill: #FFFFFF;\n",
              "    }\n",
              "  </style>\n",
              "\n",
              "      <script>\n",
              "        const buttonEl =\n",
              "          document.querySelector('#df-4286e2e3-74df-4265-a8f9-25ea09a54f00 button.colab-df-convert');\n",
              "        buttonEl.style.display =\n",
              "          google.colab.kernel.accessAllowed ? 'block' : 'none';\n",
              "\n",
              "        async function convertToInteractive(key) {\n",
              "          const element = document.querySelector('#df-4286e2e3-74df-4265-a8f9-25ea09a54f00');\n",
              "          const dataTable =\n",
              "            await google.colab.kernel.invokeFunction('convertToInteractive',\n",
              "                                                     [key], {});\n",
              "          if (!dataTable) return;\n",
              "\n",
              "          const docLinkHtml = 'Like what you see? Visit the ' +\n",
              "            '<a target=\"_blank\" href=https://colab.research.google.com/notebooks/data_table.ipynb>data table notebook</a>'\n",
              "            + ' to learn more about interactive tables.';\n",
              "          element.innerHTML = '';\n",
              "          dataTable['output_type'] = 'display_data';\n",
              "          await google.colab.output.renderOutput(dataTable, element);\n",
              "          const docLink = document.createElement('div');\n",
              "          docLink.innerHTML = docLinkHtml;\n",
              "          element.appendChild(docLink);\n",
              "        }\n",
              "      </script>\n",
              "    </div>\n",
              "  </div>\n",
              "  "
            ]
          },
          "metadata": {},
          "execution_count": 82
        }
      ]
    },
    {
      "cell_type": "code",
      "source": [
        "dataset = dataset[::-1]\n",
        "dataset.head(5)"
      ],
      "metadata": {
        "colab": {
          "base_uri": "https://localhost:8080/",
          "height": 206
        },
        "id": "KJ0dazvposMC",
        "outputId": "c236bd54-13a0-4bad-e1f0-2027366f9783"
      },
      "execution_count": 83,
      "outputs": [
        {
          "output_type": "execute_result",
          "data": {
            "text/plain": [
              "           Date  Price  Open   High   Low     Vol. Change %\n",
              "1960 2018-01-01   8.45  8.53   8.70  7.80  642.51K   -0.94%\n",
              "1959 2018-01-02   8.72  8.45   9.11  8.09    1.23M    3.20%\n",
              "1958 2018-01-03   9.30  8.72   9.47  8.27  926.41K    6.65%\n",
              "1957 2018-01-04   9.14  9.30   9.46  8.56  918.41K   -1.72%\n",
              "1956 2018-01-05  14.88  9.14  16.82  8.97    2.60M   62.80%"
            ],
            "text/html": [
              "\n",
              "  <div id=\"df-617c2578-56f9-4b1a-bd40-b42ed0dec3b7\">\n",
              "    <div class=\"colab-df-container\">\n",
              "      <div>\n",
              "<style scoped>\n",
              "    .dataframe tbody tr th:only-of-type {\n",
              "        vertical-align: middle;\n",
              "    }\n",
              "\n",
              "    .dataframe tbody tr th {\n",
              "        vertical-align: top;\n",
              "    }\n",
              "\n",
              "    .dataframe thead th {\n",
              "        text-align: right;\n",
              "    }\n",
              "</style>\n",
              "<table border=\"1\" class=\"dataframe\">\n",
              "  <thead>\n",
              "    <tr style=\"text-align: right;\">\n",
              "      <th></th>\n",
              "      <th>Date</th>\n",
              "      <th>Price</th>\n",
              "      <th>Open</th>\n",
              "      <th>High</th>\n",
              "      <th>Low</th>\n",
              "      <th>Vol.</th>\n",
              "      <th>Change %</th>\n",
              "    </tr>\n",
              "  </thead>\n",
              "  <tbody>\n",
              "    <tr>\n",
              "      <th>1960</th>\n",
              "      <td>2018-01-01</td>\n",
              "      <td>8.45</td>\n",
              "      <td>8.53</td>\n",
              "      <td>8.70</td>\n",
              "      <td>7.80</td>\n",
              "      <td>642.51K</td>\n",
              "      <td>-0.94%</td>\n",
              "    </tr>\n",
              "    <tr>\n",
              "      <th>1959</th>\n",
              "      <td>2018-01-02</td>\n",
              "      <td>8.72</td>\n",
              "      <td>8.45</td>\n",
              "      <td>9.11</td>\n",
              "      <td>8.09</td>\n",
              "      <td>1.23M</td>\n",
              "      <td>3.20%</td>\n",
              "    </tr>\n",
              "    <tr>\n",
              "      <th>1958</th>\n",
              "      <td>2018-01-03</td>\n",
              "      <td>9.30</td>\n",
              "      <td>8.72</td>\n",
              "      <td>9.47</td>\n",
              "      <td>8.27</td>\n",
              "      <td>926.41K</td>\n",
              "      <td>6.65%</td>\n",
              "    </tr>\n",
              "    <tr>\n",
              "      <th>1957</th>\n",
              "      <td>2018-01-04</td>\n",
              "      <td>9.14</td>\n",
              "      <td>9.30</td>\n",
              "      <td>9.46</td>\n",
              "      <td>8.56</td>\n",
              "      <td>918.41K</td>\n",
              "      <td>-1.72%</td>\n",
              "    </tr>\n",
              "    <tr>\n",
              "      <th>1956</th>\n",
              "      <td>2018-01-05</td>\n",
              "      <td>14.88</td>\n",
              "      <td>9.14</td>\n",
              "      <td>16.82</td>\n",
              "      <td>8.97</td>\n",
              "      <td>2.60M</td>\n",
              "      <td>62.80%</td>\n",
              "    </tr>\n",
              "  </tbody>\n",
              "</table>\n",
              "</div>\n",
              "      <button class=\"colab-df-convert\" onclick=\"convertToInteractive('df-617c2578-56f9-4b1a-bd40-b42ed0dec3b7')\"\n",
              "              title=\"Convert this dataframe to an interactive table.\"\n",
              "              style=\"display:none;\">\n",
              "        \n",
              "  <svg xmlns=\"http://www.w3.org/2000/svg\" height=\"24px\"viewBox=\"0 0 24 24\"\n",
              "       width=\"24px\">\n",
              "    <path d=\"M0 0h24v24H0V0z\" fill=\"none\"/>\n",
              "    <path d=\"M18.56 5.44l.94 2.06.94-2.06 2.06-.94-2.06-.94-.94-2.06-.94 2.06-2.06.94zm-11 1L8.5 8.5l.94-2.06 2.06-.94-2.06-.94L8.5 2.5l-.94 2.06-2.06.94zm10 10l.94 2.06.94-2.06 2.06-.94-2.06-.94-.94-2.06-.94 2.06-2.06.94z\"/><path d=\"M17.41 7.96l-1.37-1.37c-.4-.4-.92-.59-1.43-.59-.52 0-1.04.2-1.43.59L10.3 9.45l-7.72 7.72c-.78.78-.78 2.05 0 2.83L4 21.41c.39.39.9.59 1.41.59.51 0 1.02-.2 1.41-.59l7.78-7.78 2.81-2.81c.8-.78.8-2.07 0-2.86zM5.41 20L4 18.59l7.72-7.72 1.47 1.35L5.41 20z\"/>\n",
              "  </svg>\n",
              "      </button>\n",
              "      \n",
              "  <style>\n",
              "    .colab-df-container {\n",
              "      display:flex;\n",
              "      flex-wrap:wrap;\n",
              "      gap: 12px;\n",
              "    }\n",
              "\n",
              "    .colab-df-convert {\n",
              "      background-color: #E8F0FE;\n",
              "      border: none;\n",
              "      border-radius: 50%;\n",
              "      cursor: pointer;\n",
              "      display: none;\n",
              "      fill: #1967D2;\n",
              "      height: 32px;\n",
              "      padding: 0 0 0 0;\n",
              "      width: 32px;\n",
              "    }\n",
              "\n",
              "    .colab-df-convert:hover {\n",
              "      background-color: #E2EBFA;\n",
              "      box-shadow: 0px 1px 2px rgba(60, 64, 67, 0.3), 0px 1px 3px 1px rgba(60, 64, 67, 0.15);\n",
              "      fill: #174EA6;\n",
              "    }\n",
              "\n",
              "    [theme=dark] .colab-df-convert {\n",
              "      background-color: #3B4455;\n",
              "      fill: #D2E3FC;\n",
              "    }\n",
              "\n",
              "    [theme=dark] .colab-df-convert:hover {\n",
              "      background-color: #434B5C;\n",
              "      box-shadow: 0px 1px 3px 1px rgba(0, 0, 0, 0.15);\n",
              "      filter: drop-shadow(0px 1px 2px rgba(0, 0, 0, 0.3));\n",
              "      fill: #FFFFFF;\n",
              "    }\n",
              "  </style>\n",
              "\n",
              "      <script>\n",
              "        const buttonEl =\n",
              "          document.querySelector('#df-617c2578-56f9-4b1a-bd40-b42ed0dec3b7 button.colab-df-convert');\n",
              "        buttonEl.style.display =\n",
              "          google.colab.kernel.accessAllowed ? 'block' : 'none';\n",
              "\n",
              "        async function convertToInteractive(key) {\n",
              "          const element = document.querySelector('#df-617c2578-56f9-4b1a-bd40-b42ed0dec3b7');\n",
              "          const dataTable =\n",
              "            await google.colab.kernel.invokeFunction('convertToInteractive',\n",
              "                                                     [key], {});\n",
              "          if (!dataTable) return;\n",
              "\n",
              "          const docLinkHtml = 'Like what you see? Visit the ' +\n",
              "            '<a target=\"_blank\" href=https://colab.research.google.com/notebooks/data_table.ipynb>data table notebook</a>'\n",
              "            + ' to learn more about interactive tables.';\n",
              "          element.innerHTML = '';\n",
              "          dataTable['output_type'] = 'display_data';\n",
              "          await google.colab.output.renderOutput(dataTable, element);\n",
              "          const docLink = document.createElement('div');\n",
              "          docLink.innerHTML = docLinkHtml;\n",
              "          element.appendChild(docLink);\n",
              "        }\n",
              "      </script>\n",
              "    </div>\n",
              "  </div>\n",
              "  "
            ]
          },
          "metadata": {},
          "execution_count": 83
        }
      ]
    },
    {
      "cell_type": "code",
      "source": [
        "def parse_float(string_value):\n",
        "  cleaned_string = string_value.replace(\",\", \"\")\n",
        "  float_value = float(cleaned_string)\n",
        "  return float_value"
      ],
      "metadata": {
        "id": "YjC41gtmo9FZ"
      },
      "execution_count": 84,
      "outputs": []
    },
    {
      "cell_type": "code",
      "source": [
        "dataset['Open'] = dataset['Open'].astype(str).apply(parse_float)\n",
        "dataset['High'] = dataset['High'].astype(str).apply(parse_float)\n",
        "dataset['Low'] = dataset['Low'].astype(str).apply(parse_float)\n",
        "dataset['Price'] = dataset['Price'].astype(str).apply(parse_float)"
      ],
      "metadata": {
        "id": "CHKjmOt9pFpL"
      },
      "execution_count": 85,
      "outputs": []
    },
    {
      "cell_type": "code",
      "source": [
        "dataset.info()"
      ],
      "metadata": {
        "colab": {
          "base_uri": "https://localhost:8080/"
        },
        "id": "MfZx29TtIg6o",
        "outputId": "22e948d0-83b5-40c0-a844-8362f62c8b5f"
      },
      "execution_count": 86,
      "outputs": [
        {
          "output_type": "stream",
          "name": "stdout",
          "text": [
            "<class 'pandas.core.frame.DataFrame'>\n",
            "RangeIndex: 1961 entries, 1960 to 0\n",
            "Data columns (total 7 columns):\n",
            " #   Column    Non-Null Count  Dtype         \n",
            "---  ------    --------------  -----         \n",
            " 0   Date      1961 non-null   datetime64[ns]\n",
            " 1   Price     1961 non-null   float64       \n",
            " 2   Open      1961 non-null   float64       \n",
            " 3   High      1961 non-null   float64       \n",
            " 4   Low       1961 non-null   float64       \n",
            " 5   Vol.      1961 non-null   object        \n",
            " 6   Change %  1961 non-null   object        \n",
            "dtypes: datetime64[ns](1), float64(4), object(2)\n",
            "memory usage: 107.4+ KB\n"
          ]
        }
      ]
    },
    {
      "cell_type": "code",
      "source": [
        "dataset.describe()"
      ],
      "metadata": {
        "colab": {
          "base_uri": "https://localhost:8080/",
          "height": 300
        },
        "id": "3WAKsVDcKpB-",
        "outputId": "68b9a809-38e3-452c-e33f-3a8472d3c507"
      },
      "execution_count": 87,
      "outputs": [
        {
          "output_type": "execute_result",
          "data": {
            "text/plain": [
              "             Price         Open         High          Low\n",
              "count  1961.000000  1961.000000  1961.000000  1961.000000\n",
              "mean    161.850408   161.719363   166.545370   156.578088\n",
              "std     181.959600   182.007849   187.341527   176.085453\n",
              "min       4.520000     4.510000     4.600000     4.130000\n",
              "25%      15.180000    15.150000    15.720000    14.670000\n",
              "50%      29.270000    29.110000    29.980000    28.360000\n",
              "75%     308.400000   308.300000   315.000000   300.700000\n",
              "max     676.120000   677.410000   684.830000   637.040000"
            ],
            "text/html": [
              "\n",
              "  <div id=\"df-622d5b12-558c-42df-babb-5bc702d685b0\">\n",
              "    <div class=\"colab-df-container\">\n",
              "      <div>\n",
              "<style scoped>\n",
              "    .dataframe tbody tr th:only-of-type {\n",
              "        vertical-align: middle;\n",
              "    }\n",
              "\n",
              "    .dataframe tbody tr th {\n",
              "        vertical-align: top;\n",
              "    }\n",
              "\n",
              "    .dataframe thead th {\n",
              "        text-align: right;\n",
              "    }\n",
              "</style>\n",
              "<table border=\"1\" class=\"dataframe\">\n",
              "  <thead>\n",
              "    <tr style=\"text-align: right;\">\n",
              "      <th></th>\n",
              "      <th>Price</th>\n",
              "      <th>Open</th>\n",
              "      <th>High</th>\n",
              "      <th>Low</th>\n",
              "    </tr>\n",
              "  </thead>\n",
              "  <tbody>\n",
              "    <tr>\n",
              "      <th>count</th>\n",
              "      <td>1961.000000</td>\n",
              "      <td>1961.000000</td>\n",
              "      <td>1961.000000</td>\n",
              "      <td>1961.000000</td>\n",
              "    </tr>\n",
              "    <tr>\n",
              "      <th>mean</th>\n",
              "      <td>161.850408</td>\n",
              "      <td>161.719363</td>\n",
              "      <td>166.545370</td>\n",
              "      <td>156.578088</td>\n",
              "    </tr>\n",
              "    <tr>\n",
              "      <th>std</th>\n",
              "      <td>181.959600</td>\n",
              "      <td>182.007849</td>\n",
              "      <td>187.341527</td>\n",
              "      <td>176.085453</td>\n",
              "    </tr>\n",
              "    <tr>\n",
              "      <th>min</th>\n",
              "      <td>4.520000</td>\n",
              "      <td>4.510000</td>\n",
              "      <td>4.600000</td>\n",
              "      <td>4.130000</td>\n",
              "    </tr>\n",
              "    <tr>\n",
              "      <th>25%</th>\n",
              "      <td>15.180000</td>\n",
              "      <td>15.150000</td>\n",
              "      <td>15.720000</td>\n",
              "      <td>14.670000</td>\n",
              "    </tr>\n",
              "    <tr>\n",
              "      <th>50%</th>\n",
              "      <td>29.270000</td>\n",
              "      <td>29.110000</td>\n",
              "      <td>29.980000</td>\n",
              "      <td>28.360000</td>\n",
              "    </tr>\n",
              "    <tr>\n",
              "      <th>75%</th>\n",
              "      <td>308.400000</td>\n",
              "      <td>308.300000</td>\n",
              "      <td>315.000000</td>\n",
              "      <td>300.700000</td>\n",
              "    </tr>\n",
              "    <tr>\n",
              "      <th>max</th>\n",
              "      <td>676.120000</td>\n",
              "      <td>677.410000</td>\n",
              "      <td>684.830000</td>\n",
              "      <td>637.040000</td>\n",
              "    </tr>\n",
              "  </tbody>\n",
              "</table>\n",
              "</div>\n",
              "      <button class=\"colab-df-convert\" onclick=\"convertToInteractive('df-622d5b12-558c-42df-babb-5bc702d685b0')\"\n",
              "              title=\"Convert this dataframe to an interactive table.\"\n",
              "              style=\"display:none;\">\n",
              "        \n",
              "  <svg xmlns=\"http://www.w3.org/2000/svg\" height=\"24px\"viewBox=\"0 0 24 24\"\n",
              "       width=\"24px\">\n",
              "    <path d=\"M0 0h24v24H0V0z\" fill=\"none\"/>\n",
              "    <path d=\"M18.56 5.44l.94 2.06.94-2.06 2.06-.94-2.06-.94-.94-2.06-.94 2.06-2.06.94zm-11 1L8.5 8.5l.94-2.06 2.06-.94-2.06-.94L8.5 2.5l-.94 2.06-2.06.94zm10 10l.94 2.06.94-2.06 2.06-.94-2.06-.94-.94-2.06-.94 2.06-2.06.94z\"/><path d=\"M17.41 7.96l-1.37-1.37c-.4-.4-.92-.59-1.43-.59-.52 0-1.04.2-1.43.59L10.3 9.45l-7.72 7.72c-.78.78-.78 2.05 0 2.83L4 21.41c.39.39.9.59 1.41.59.51 0 1.02-.2 1.41-.59l7.78-7.78 2.81-2.81c.8-.78.8-2.07 0-2.86zM5.41 20L4 18.59l7.72-7.72 1.47 1.35L5.41 20z\"/>\n",
              "  </svg>\n",
              "      </button>\n",
              "      \n",
              "  <style>\n",
              "    .colab-df-container {\n",
              "      display:flex;\n",
              "      flex-wrap:wrap;\n",
              "      gap: 12px;\n",
              "    }\n",
              "\n",
              "    .colab-df-convert {\n",
              "      background-color: #E8F0FE;\n",
              "      border: none;\n",
              "      border-radius: 50%;\n",
              "      cursor: pointer;\n",
              "      display: none;\n",
              "      fill: #1967D2;\n",
              "      height: 32px;\n",
              "      padding: 0 0 0 0;\n",
              "      width: 32px;\n",
              "    }\n",
              "\n",
              "    .colab-df-convert:hover {\n",
              "      background-color: #E2EBFA;\n",
              "      box-shadow: 0px 1px 2px rgba(60, 64, 67, 0.3), 0px 1px 3px 1px rgba(60, 64, 67, 0.15);\n",
              "      fill: #174EA6;\n",
              "    }\n",
              "\n",
              "    [theme=dark] .colab-df-convert {\n",
              "      background-color: #3B4455;\n",
              "      fill: #D2E3FC;\n",
              "    }\n",
              "\n",
              "    [theme=dark] .colab-df-convert:hover {\n",
              "      background-color: #434B5C;\n",
              "      box-shadow: 0px 1px 3px 1px rgba(0, 0, 0, 0.15);\n",
              "      filter: drop-shadow(0px 1px 2px rgba(0, 0, 0, 0.3));\n",
              "      fill: #FFFFFF;\n",
              "    }\n",
              "  </style>\n",
              "\n",
              "      <script>\n",
              "        const buttonEl =\n",
              "          document.querySelector('#df-622d5b12-558c-42df-babb-5bc702d685b0 button.colab-df-convert');\n",
              "        buttonEl.style.display =\n",
              "          google.colab.kernel.accessAllowed ? 'block' : 'none';\n",
              "\n",
              "        async function convertToInteractive(key) {\n",
              "          const element = document.querySelector('#df-622d5b12-558c-42df-babb-5bc702d685b0');\n",
              "          const dataTable =\n",
              "            await google.colab.kernel.invokeFunction('convertToInteractive',\n",
              "                                                     [key], {});\n",
              "          if (!dataTable) return;\n",
              "\n",
              "          const docLinkHtml = 'Like what you see? Visit the ' +\n",
              "            '<a target=\"_blank\" href=https://colab.research.google.com/notebooks/data_table.ipynb>data table notebook</a>'\n",
              "            + ' to learn more about interactive tables.';\n",
              "          element.innerHTML = '';\n",
              "          dataTable['output_type'] = 'display_data';\n",
              "          await google.colab.output.renderOutput(dataTable, element);\n",
              "          const docLink = document.createElement('div');\n",
              "          docLink.innerHTML = docLinkHtml;\n",
              "          element.appendChild(docLink);\n",
              "        }\n",
              "      </script>\n",
              "    </div>\n",
              "  </div>\n",
              "  "
            ]
          },
          "metadata": {},
          "execution_count": 87
        }
      ]
    },
    {
      "cell_type": "code",
      "source": [
        "dataset.columns"
      ],
      "metadata": {
        "colab": {
          "base_uri": "https://localhost:8080/"
        },
        "id": "BeGeeDhpH605",
        "outputId": "fa9b324b-05a1-447f-e7c5-86cf7bb93835"
      },
      "execution_count": 88,
      "outputs": [
        {
          "output_type": "execute_result",
          "data": {
            "text/plain": [
              "Index(['Date', 'Price', 'Open', 'High', 'Low', 'Vol.', 'Change %'], dtype='object')"
            ]
          },
          "metadata": {},
          "execution_count": 88
        }
      ]
    },
    {
      "cell_type": "code",
      "source": [
        "import matplotlib.pyplot as plt\n",
        "dataset['Price'].plot(figsize=(10, 7))\n",
        "plt.ylabel(\"Binance coin Price\")\n",
        "plt.title(\"Price of Binance coin\", fontsize=16)\n",
        "plt.legend(fontsize=14);"
      ],
      "metadata": {
        "colab": {
          "base_uri": "https://localhost:8080/",
          "height": 624
        },
        "id": "6wfPRoEuKsNN",
        "outputId": "158b47dd-9c7e-4330-b3d3-d56cf03c267e"
      },
      "execution_count": 89,
      "outputs": [
        {
          "output_type": "display_data",
          "data": {
            "text/plain": [
              "<Figure size 1000x700 with 1 Axes>"
            ],
            "image/png": "[encoded data removed]"
          },
          "metadata": {}
        }
      ]
    },
    {
      "cell_type": "code",
      "source": [
        "price_data = dataset['Price'].values\n",
        "price_data"
      ],
      "metadata": {
        "colab": {
          "base_uri": "https://localhost:8080/"
        },
        "id": "juGxQ7bjRE5v",
        "outputId": "7cb4a396-79d7-4d62-8408-07f356247c54"
      },
      "execution_count": 90,
      "outputs": [
        {
          "output_type": "execute_result",
          "data": {
            "text/plain": [
              "array([  8.45,   8.72,   9.3 , ..., 310.7 , 312.1 , 313.7 ])"
            ]
          },
          "metadata": {},
          "execution_count": 90
        }
      ]
    },
    {
      "cell_type": "code",
      "source": [
        "price_data.shape"
      ],
      "metadata": {
        "colab": {
          "base_uri": "https://localhost:8080/"
        },
        "id": "MZitbEKIReji",
        "outputId": "3f92515c-be5d-4740-d87c-7a6c105f7be6"
      },
      "execution_count": 91,
      "outputs": [
        {
          "output_type": "execute_result",
          "data": {
            "text/plain": [
              "(1961,)"
            ]
          },
          "metadata": {},
          "execution_count": 91
        }
      ]
    },
    {
      "cell_type": "code",
      "source": [
        "train_data, test_data = price_data[0:1800], price_data[1800:]"
      ],
      "metadata": {
        "id": "PZN10RpgRo3U"
      },
      "execution_count": 92,
      "outputs": []
    },
    {
      "cell_type": "code",
      "source": [
        "train_data.shape, test_data.shape"
      ],
      "metadata": {
        "colab": {
          "base_uri": "https://localhost:8080/"
        },
        "id": "3hxrDzK3RpJA",
        "outputId": "669ee297-eecc-4c7d-bf19-9881a180b235"
      },
      "execution_count": 93,
      "outputs": [
        {
          "output_type": "execute_result",
          "data": {
            "text/plain": [
              "((1800,), (161,))"
            ]
          },
          "metadata": {},
          "execution_count": 93
        }
      ]
    },
    {
      "cell_type": "code",
      "source": [
        "def windowed_dataset(series, time_step):\n",
        "    dataX, dataY = [], []\n",
        "    for i in range(len(series) - time_step - 1):\n",
        "        a = series[i : i + time_step]  # Remove the indexing with \", 0\"\n",
        "        dataX.append(a)\n",
        "        dataY.append(series[i + time_step])\n",
        "        \n",
        "    return np.array(dataX), np.array(dataY)"
      ],
      "metadata": {
        "id": "HNXnFWf8SJMT"
      },
      "execution_count": 94,
      "outputs": []
    },
    {
      "cell_type": "code",
      "source": [
        "X_train, y_train = windowed_dataset(train_data, time_step=7)\n",
        "X_test, y_test = windowed_dataset(test_data, time_step=7)"
      ],
      "metadata": {
        "id": "CrcXsapOSJXx"
      },
      "execution_count": 95,
      "outputs": []
    },
    {
      "cell_type": "code",
      "source": [
        "X_train.shape, y_train.shape, X_test.shape, y_test.shape"
      ],
      "metadata": {
        "colab": {
          "base_uri": "https://localhost:8080/"
        },
        "id": "lHZS3N7ASSwq",
        "outputId": "8d4f12b1-e424-4ca3-af1a-31c4fdc86d50"
      },
      "execution_count": 96,
      "outputs": [
        {
          "output_type": "execute_result",
          "data": {
            "text/plain": [
              "((1792, 7), (1792,), (153, 7), (153,))"
            ]
          },
          "metadata": {},
          "execution_count": 96
        }
      ]
    },
    {
      "cell_type": "code",
      "source": [
        "X_train = X_train.reshape(X_train.shape[0], X_train.shape[1], 1)\n",
        "X_test = X_test.reshape(X_test.shape[0], X_test.shape[1], 1)\n",
        "\n",
        "print(X_train.shape) \n",
        "print(X_test.shape)"
      ],
      "metadata": {
        "colab": {
          "base_uri": "https://localhost:8080/"
        },
        "id": "vNyapBF2SV6B",
        "outputId": "848ba4bc-47e5-4bf5-aefb-d981f1fe28e0"
      },
      "execution_count": 97,
      "outputs": [
        {
          "output_type": "stream",
          "name": "stdout",
          "text": [
            "(1792, 7, 1)\n",
            "(153, 7, 1)\n"
          ]
        }
      ]
    },
    {
      "cell_type": "code",
      "source": [
        "X_train[0]"
      ],
      "metadata": {
        "colab": {
          "base_uri": "https://localhost:8080/"
        },
        "id": "IRaIl8SQP2kz",
        "outputId": "9c7dc93d-0c3c-46aa-8eba-20c204cc38b2"
      },
      "execution_count": 98,
      "outputs": [
        {
          "output_type": "execute_result",
          "data": {
            "text/plain": [
              "array([[ 8.45],\n",
              "       [ 8.72],\n",
              "       [ 9.3 ],\n",
              "       [ 9.14],\n",
              "       [14.88],\n",
              "       [22.6 ],\n",
              "       [18.59]])"
            ]
          },
          "metadata": {},
          "execution_count": 98
        }
      ]
    },
    {
      "cell_type": "code",
      "source": [
        "import tensorflow as tf\n",
        "from tensorflow.keras import models, layers"
      ],
      "metadata": {
        "id": "poOi-84Ykab6"
      },
      "execution_count": 99,
      "outputs": []
    },
    {
      "cell_type": "code",
      "source": [
        "# Create the LSTM model\n",
        "model = models.Sequential()\n",
        "\n",
        "model.add(layers.Input(shape = (7, 1), dtype=tf.float32))\n",
        "# Add the Normalization layer\n",
        "model.add(layers.Normalization())\n",
        "\n",
        "# Specify the mean and variance for normalization\n",
        "model.layers[0].adapt(X_train)\n",
        "\n",
        "model.add(layers.LSTM(units=100, activation='relu', return_sequences=True))\n",
        "model.add(layers.Dropout(0.3))\n",
        "\n",
        "model.add(layers.LSTM(units=50, activation='relu', return_sequences=True))\n",
        "model.add(layers.Dropout(0.4))\n",
        "\n",
        "model.add(layers.LSTM(units=10, activation='relu'))\n",
        "model.add(layers.Dropout(0.2))\n",
        "\n",
        "model.add(layers.Dense(units=1))"
      ],
      "metadata": {
        "id": "25cXgPpbTMN5"
      },
      "execution_count": 100,
      "outputs": []
    },
    {
      "cell_type": "code",
      "source": [
        "model.summary()"
      ],
      "metadata": {
        "colab": {
          "base_uri": "https://localhost:8080/"
        },
        "id": "-IhqBiwCVKA_",
        "outputId": "e34732d2-c4d5-4946-9ffc-261658345c1f"
      },
      "execution_count": 101,
      "outputs": [
        {
          "output_type": "stream",
          "name": "stdout",
          "text": [
            "Model: \"sequential_2\"\n",
            "_________________________________________________________________\n",
            " Layer (type)                Output Shape              Param #   \n",
            "=================================================================\n",
            " normalization_2 (Normalizat  (None, 7, 1)             3         \n",
            " ion)                                                            \n",
            "                                                                 \n",
            " lstm_6 (LSTM)               (None, 7, 100)            40800     \n",
            "                                                                 \n",
            " dropout_6 (Dropout)         (None, 7, 100)            0         \n",
            "                                                                 \n",
            " lstm_7 (LSTM)               (None, 7, 50)             30200     \n",
            "                                                                 \n",
            " dropout_7 (Dropout)         (None, 7, 50)             0         \n",
            "                                                                 \n",
            " lstm_8 (LSTM)               (None, 10)                2440      \n",
            "                                                                 \n",
            " dropout_8 (Dropout)         (None, 10)                0         \n",
            "                                                                 \n",
            " dense_2 (Dense)             (None, 1)                 11        \n",
            "                                                                 \n",
            "=================================================================\n",
            "Total params: 73,454\n",
            "Trainable params: 73,451\n",
            "Non-trainable params: 3\n",
            "_________________________________________________________________\n"
          ]
        }
      ]
    },
    {
      "cell_type": "code",
      "source": [
        "model.compile(optimizer = 'adamax', loss = 'mse', metrics = 'mae')"
      ],
      "metadata": {
        "id": "a8vNqJrrXR-G"
      },
      "execution_count": 102,
      "outputs": []
    },
    {
      "cell_type": "code",
      "source": [
        "# Fitting the RNN to the Training set\n",
        "history = model.fit(X_train, y_train, validation_split=0.1, epochs = 30, batch_size = 32, verbose=1, shuffle=False)"
      ],
      "metadata": {
        "colab": {
          "base_uri": "https://localhost:8080/"
        },
        "id": "r8sNewtrVPyh",
        "outputId": "b5f26ed4-936e-41ae-bf56-a4a963ad471e"
      },
      "execution_count": 103,
      "outputs": [
        {
          "output_type": "stream",
          "name": "stdout",
          "text": [
            "Epoch 1/30\n",
            "51/51 [==============================] - 8s 58ms/step - loss: 54279.4336 - mae: 135.6101 - val_loss: 76987.8594 - val_mae: 275.7793\n",
            "Epoch 2/30\n",
            "51/51 [==============================] - 1s 18ms/step - loss: 54002.4258 - mae: 133.8648 - val_loss: 76528.1094 - val_mae: 274.9468\n",
            "Epoch 3/30\n",
            "51/51 [==============================] - 1s 18ms/step - loss: 53393.9570 - mae: 131.1295 - val_loss: 75707.1641 - val_mae: 273.4684\n",
            "Epoch 4/30\n",
            "51/51 [==============================] - 2s 30ms/step - loss: 50404.1445 - mae: 126.5030 - val_loss: 71470.1016 - val_mae: 265.7246\n",
            "Epoch 5/30\n",
            "51/51 [==============================] - 2s 36ms/step - loss: 35530.0391 - mae: 109.1957 - val_loss: 47818.7773 - val_mae: 217.3499\n",
            "Epoch 6/30\n",
            "51/51 [==============================] - 1s 25ms/step - loss: 10177.5771 - mae: 57.7283 - val_loss: 19484.7168 - val_mae: 137.6477\n",
            "Epoch 7/30\n",
            "51/51 [==============================] - 1s 25ms/step - loss: 9376.4727 - mae: 52.5451 - val_loss: 15654.9219 - val_mae: 122.9102\n",
            "Epoch 8/30\n",
            "51/51 [==============================] - 1s 17ms/step - loss: 9187.8789 - mae: 50.8256 - val_loss: 14538.0586 - val_mae: 118.3346\n",
            "Epoch 9/30\n",
            "51/51 [==============================] - 1s 18ms/step - loss: 8983.0635 - mae: 50.1060 - val_loss: 12705.3838 - val_mae: 110.3513\n",
            "Epoch 10/30\n",
            "51/51 [==============================] - 1s 28ms/step - loss: 8427.0137 - mae: 48.0396 - val_loss: 9765.1074 - val_mae: 96.0995\n",
            "Epoch 11/30\n",
            "51/51 [==============================] - 2s 49ms/step - loss: 7554.4268 - mae: 45.3601 - val_loss: 8886.2227 - val_mae: 91.4741\n",
            "Epoch 12/30\n",
            "51/51 [==============================] - 1s 28ms/step - loss: 6625.2090 - mae: 42.4896 - val_loss: 6270.6055 - val_mae: 75.8247\n",
            "Epoch 13/30\n",
            "51/51 [==============================] - 1s 18ms/step - loss: 6012.3311 - mae: 39.5145 - val_loss: 4809.3228 - val_mae: 65.5431\n",
            "Epoch 14/30\n",
            "51/51 [==============================] - 1s 19ms/step - loss: 6133.7246 - mae: 39.1858 - val_loss: 4525.8330 - val_mae: 63.4603\n",
            "Epoch 15/30\n",
            "51/51 [==============================] - 1s 24ms/step - loss: 5890.1743 - mae: 38.4903 - val_loss: 3411.5117 - val_mae: 54.3725\n",
            "Epoch 16/30\n",
            "51/51 [==============================] - 1s 18ms/step - loss: 6001.7065 - mae: 38.1899 - val_loss: 2170.2209 - val_mae: 42.3036\n",
            "Epoch 17/30\n",
            "51/51 [==============================] - 1s 19ms/step - loss: 5568.0391 - mae: 37.3465 - val_loss: 1258.2374 - val_mae: 30.7309\n",
            "Epoch 18/30\n",
            "51/51 [==============================] - 1s 19ms/step - loss: 6088.8628 - mae: 38.4404 - val_loss: 860.9474 - val_mae: 24.2133\n",
            "Epoch 19/30\n",
            "51/51 [==============================] - 1s 24ms/step - loss: 6015.5200 - mae: 38.2520 - val_loss: 1559.7517 - val_mae: 34.7082\n",
            "Epoch 20/30\n",
            "51/51 [==============================] - 1s 19ms/step - loss: 5337.6162 - mae: 35.6074 - val_loss: 646.4149 - val_mae: 20.0675\n",
            "Epoch 21/30\n",
            "51/51 [==============================] - 1s 27ms/step - loss: 4962.4419 - mae: 34.9461 - val_loss: 506.9737 - val_mae: 16.8602\n",
            "Epoch 22/30\n",
            "51/51 [==============================] - 1s 28ms/step - loss: 6179.6006 - mae: 38.2071 - val_loss: 565.7595 - val_mae: 18.4526\n",
            "Epoch 23/30\n",
            "51/51 [==============================] - 1s 29ms/step - loss: 4706.7783 - mae: 34.7472 - val_loss: 740.1927 - val_mae: 21.8953\n",
            "Epoch 24/30\n",
            "51/51 [==============================] - 2s 39ms/step - loss: 5665.1606 - mae: 35.6967 - val_loss: 824.9909 - val_mae: 23.2760\n",
            "Epoch 25/30\n",
            "51/51 [==============================] - 1s 19ms/step - loss: 4968.4189 - mae: 36.6914 - val_loss: 616.5433 - val_mae: 19.3510\n",
            "Epoch 26/30\n",
            "51/51 [==============================] - 1s 18ms/step - loss: 5472.2344 - mae: 35.7899 - val_loss: 752.5909 - val_mae: 22.1372\n",
            "Epoch 27/30\n",
            "51/51 [==============================] - 1s 24ms/step - loss: 4913.2666 - mae: 35.2095 - val_loss: 519.1063 - val_mae: 17.2019\n",
            "Epoch 28/30\n",
            "51/51 [==============================] - 1s 25ms/step - loss: 4953.1646 - mae: 34.7460 - val_loss: 524.7952 - val_mae: 17.3549\n",
            "Epoch 29/30\n",
            "51/51 [==============================] - 2s 39ms/step - loss: 5220.2759 - mae: 35.9658 - val_loss: 1665.1288 - val_mae: 35.1617\n",
            "Epoch 30/30\n",
            "51/51 [==============================] - 2s 31ms/step - loss: 5370.8647 - mae: 37.1411 - val_loss: 703.8593 - val_mae: 21.2856\n"
          ]
        }
      ]
    },
    {
      "cell_type": "code",
      "source": [
        "plt.figure(figsize=(16,7))\n",
        "plt.plot(history.history[\"loss\"], label= \"train loss\")\n",
        "plt.plot(history.history[\"val_loss\"], label= \"validation loss\")\n",
        "plt.legend();"
      ],
      "metadata": {
        "colab": {
          "base_uri": "https://localhost:8080/",
          "height": 511
        },
        "id": "LrXki-umXP8V",
        "outputId": "a252f745-09b2-4247-f3b4-5d582b2b9dc5"
      },
      "execution_count": 104,
      "outputs": [
        {
          "output_type": "display_data",
          "data": {
            "text/plain": [
              "<Figure size 1600x700 with 1 Axes>"
            ],
            "image/png": "[encoded data removed]"
          },
          "metadata": {}
        }
      ]
    },
    {
      "cell_type": "code",
      "source": [
        "train_predict = model.predict(X_train)\n",
        "test_predict = model.predict(X_test)"
      ],
      "metadata": {
        "colab": {
          "base_uri": "https://localhost:8080/"
        },
        "id": "SXJeCP6NXjtc",
        "outputId": "4a00b151-88d0-4fb3-845b-62d73c62adeb"
      },
      "execution_count": 105,
      "outputs": [
        {
          "output_type": "stream",
          "name": "stdout",
          "text": [
            "56/56 [==============================] - 1s 8ms/step\n",
            "5/5 [==============================] - 2s 9ms/step\n"
          ]
        }
      ]
    },
    {
      "cell_type": "code",
      "source": [
        "plt.figure(figsize=(16,7))\n",
        "plt.plot(y_test.flatten(), marker='.', label=\"Actual\")\n",
        "plt.plot(test_predict.flatten(), 'r', marker='.', label=\"Predicted\")\n",
        "plt.legend();"
      ],
      "metadata": {
        "colab": {
          "base_uri": "https://localhost:8080/",
          "height": 517
        },
        "id": "aDRR_XonXoTg",
        "outputId": "8e40b9ae-e16b-4505-93b2-1026e7a74846"
      },
      "execution_count": 106,
      "outputs": [
        {
          "output_type": "display_data",
          "data": {
            "text/plain": [
              "<Figure size 1600x700 with 1 Axes>"
            ],
            "image/png": "[encoded data removed]"
          },
          "metadata": {}
        }
      ]
    },
    {
      "cell_type": "code",
      "source": [
        "from sklearn.metrics import mean_absolute_error, mean_squared_error\n",
        "\n",
        "train_RMSE = np.sqrt(mean_squared_error(y_train, train_predict))\n",
        "test_RMSE = np.sqrt(mean_squared_error(y_test, test_predict))\n",
        "train_MAE = np.sqrt(mean_absolute_error(y_train, train_predict))\n",
        "test_MAE = np.sqrt(mean_absolute_error(y_test, test_predict))\n",
        "\n",
        "\n",
        "print(f\"Train RMSE: {train_RMSE}\")\n",
        "print(f\"Train MAE: {train_MAE}\")\n",
        "\n",
        "print(f\"Test RMSE: {test_RMSE}\")\n",
        "print(f\"Test MAE: {test_MAE}\")"
      ],
      "metadata": {
        "colab": {
          "base_uri": "https://localhost:8080/"
        },
        "id": "n8bwLaVrXoqO",
        "outputId": "cc7ea852-4281-4663-fda8-82b57b7e4530"
      },
      "execution_count": 107,
      "outputs": [
        {
          "output_type": "stream",
          "name": "stdout",
          "text": [
            "Train RMSE: 29.822979971646216\n",
            "Train MAE: 3.9799525429446447\n",
            "Test RMSE: 17.368800160995406\n",
            "Test MAE: 3.616672993536641\n"
          ]
        }
      ]
    },
    {
      "cell_type": "markdown",
      "source": [
        "# at Inference"
      ],
      "metadata": {
        "id": "kdaXuZYhlE_x"
      }
    },
    {
      "cell_type": "code",
      "source": [
        "from google.colab import drive\n",
        "drive.mount('/content/drive')"
      ],
      "metadata": {
        "colab": {
          "base_uri": "https://localhost:8080/"
        },
        "id": "uvh9oOxmLRgm",
        "outputId": "4cf7f4b4-aad8-48a2-8576-a267cd2c9f73"
      },
      "execution_count": 41,
      "outputs": [
        {
          "output_type": "stream",
          "name": "stdout",
          "text": [
            "Mounted at /content/drive\n"
          ]
        }
      ]
    },
    {
      "cell_type": "code",
      "source": [
        "model.save(\"Binance_coin_Price_Prediction\")"
      ],
      "metadata": {
        "colab": {
          "base_uri": "https://localhost:8080/"
        },
        "id": "mYHkypxhk9cH",
        "outputId": "99d881f5-2654-469d-8b3d-85b803938b77"
      },
      "execution_count": 108,
      "outputs": [
        {
          "output_type": "stream",
          "name": "stderr",
          "text": [
            "WARNING:absl:Found untraced functions such as _update_step_xla while saving (showing 1 of 1). These functions will not be directly callable after loading.\n"
          ]
        }
      ]
    },
    {
      "cell_type": "code",
      "source": [
        "model = tf.keras.saving.load_model(\"/content/Binance_coin_Price_Prediction\")"
      ],
      "metadata": {
        "id": "aons6uoDk9fV"
      },
      "execution_count": 109,
      "outputs": []
    },
    {
      "cell_type": "code",
      "source": [
        "%cp -av /content/Binance_coin_Price_Prediction /content/drive/MyDrive/Multiple_Stock_Price_Prediction"
      ],
      "metadata": {
        "colab": {
          "base_uri": "https://localhost:8080/"
        },
        "id": "zR_uT07bk9ih",
        "outputId": "e3205afd-af03-44bd-90b1-04fecdedb112"
      },
      "execution_count": 110,
      "outputs": [
        {
          "output_type": "stream",
          "name": "stdout",
          "text": [
            "'/content/Binance_coin_Price_Prediction' -> '/content/drive/MyDrive/Multiple_Stock_Price_Prediction/Binance_coin_Price_Prediction'\n",
            "'/content/Binance_coin_Price_Prediction/variables' -> '/content/drive/MyDrive/Multiple_Stock_Price_Prediction/Binance_coin_Price_Prediction/variables'\n",
            "'/content/Binance_coin_Price_Prediction/variables/variables.data-00000-of-00001' -> '/content/drive/MyDrive/Multiple_Stock_Price_Prediction/Binance_coin_Price_Prediction/variables/variables.data-00000-of-00001'\n",
            "'/content/Binance_coin_Price_Prediction/variables/variables.index' -> '/content/drive/MyDrive/Multiple_Stock_Price_Prediction/Binance_coin_Price_Prediction/variables/variables.index'\n",
            "'/content/Binance_coin_Price_Prediction/assets' -> '/content/drive/MyDrive/Multiple_Stock_Price_Prediction/Binance_coin_Price_Prediction/assets'\n",
            "'/content/Binance_coin_Price_Prediction/fingerprint.pb' -> '/content/drive/MyDrive/Multiple_Stock_Price_Prediction/Binance_coin_Price_Prediction/fingerprint.pb'\n",
            "'/content/Binance_coin_Price_Prediction/saved_model.pb' -> '/content/drive/MyDrive/Multiple_Stock_Price_Prediction/Binance_coin_Price_Prediction/saved_model.pb'\n",
            "'/content/Binance_coin_Price_Prediction/keras_metadata.pb' -> '/content/drive/MyDrive/Multiple_Stock_Price_Prediction/Binance_coin_Price_Prediction/keras_metadata.pb'\n"
          ]
        }
      ]
    },
    {
      "cell_type": "code",
      "source": [
        "X_test[0].shape"
      ],
      "metadata": {
        "colab": {
          "base_uri": "https://localhost:8080/"
        },
        "id": "rUKUT-QaaaKt",
        "outputId": "072330f4-b648-40a1-81da-d7a85846f417"
      },
      "execution_count": 111,
      "outputs": [
        {
          "output_type": "execute_result",
          "data": {
            "text/plain": [
              "(7, 1)"
            ]
          },
          "metadata": {},
          "execution_count": 111
        }
      ]
    },
    {
      "cell_type": "code",
      "source": [
        "prices = np.array([[ 8.45],\n",
        "       [ 8.72],\n",
        "       [ 9.3 ],\n",
        "       [ 9.14],\n",
        "       [14.88],\n",
        "       [22.6 ],\n",
        "       [18.59]])\n",
        "\n",
        "prices = prices.reshape(1, -1, 1)\n",
        "prediction_price = model.predict(prices)\n",
        "prediction_price = prediction_price[0][0]\n",
        "print(\"Prediction Price: \", prediction_price)"
      ],
      "metadata": {
        "id": "ae5tO4X4bCIB",
        "colab": {
          "base_uri": "https://localhost:8080/"
        },
        "outputId": "6ea64156-024e-48dc-cc97-205f947b4365"
      },
      "execution_count": 112,
      "outputs": [
        {
          "output_type": "stream",
          "name": "stdout",
          "text": [
            "1/1 [==============================] - 1s 930ms/step\n",
            "Prediction Price:  16.27323\n"
          ]
        }
      ]
    },
    {
      "cell_type": "code",
      "source": [
        "print(\"Predicted Binance coin Price: {0:.2f} \".format(prediction_price))"
      ],
      "metadata": {
        "colab": {
          "base_uri": "https://localhost:8080/"
        },
        "id": "3zKBhqE-mehR",
        "outputId": "8ae612cf-dd4c-4682-fcd4-5dc049498d79"
      },
      "execution_count": 113,
      "outputs": [
        {
          "output_type": "stream",
          "name": "stdout",
          "text": [
            "Predicted Binance coin Price: 16.27 \n"
          ]
        }
      ]
    },
    {
      "cell_type": "code",
      "source": [],
      "metadata": {
        "id": "HSrimdY780m5"
      },
      "execution_count": null,
      "outputs": []
    }
  ]
}